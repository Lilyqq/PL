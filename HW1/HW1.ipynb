{
 "cells": [
  {
   "cell_type": "code",
   "execution_count": 10,
   "id": "e7881abc",
   "metadata": {},
   "outputs": [
    {
     "data": {
      "text/html": [
       "<div>\n",
       "<style scoped>\n",
       "    .dataframe tbody tr th:only-of-type {\n",
       "        vertical-align: middle;\n",
       "    }\n",
       "\n",
       "    .dataframe tbody tr th {\n",
       "        vertical-align: top;\n",
       "    }\n",
       "\n",
       "    .dataframe thead th {\n",
       "        text-align: right;\n",
       "    }\n",
       "</style>\n",
       "<table border=\"1\" class=\"dataframe\">\n",
       "  <thead>\n",
       "    <tr style=\"text-align: right;\">\n",
       "      <th></th>\n",
       "      <th>gender</th>\n",
       "      <th>race/ethnicity</th>\n",
       "      <th>parental level of education</th>\n",
       "      <th>lunch</th>\n",
       "      <th>test preparation course</th>\n",
       "      <th>math score</th>\n",
       "      <th>reading score</th>\n",
       "      <th>writing score</th>\n",
       "    </tr>\n",
       "  </thead>\n",
       "  <tbody>\n",
       "    <tr>\n",
       "      <th>0</th>\n",
       "      <td>female</td>\n",
       "      <td>group D</td>\n",
       "      <td>some college</td>\n",
       "      <td>standard</td>\n",
       "      <td>completed</td>\n",
       "      <td>59</td>\n",
       "      <td>70</td>\n",
       "      <td>78</td>\n",
       "    </tr>\n",
       "    <tr>\n",
       "      <th>1</th>\n",
       "      <td>male</td>\n",
       "      <td>group D</td>\n",
       "      <td>associate's degree</td>\n",
       "      <td>standard</td>\n",
       "      <td>none</td>\n",
       "      <td>96</td>\n",
       "      <td>93</td>\n",
       "      <td>87</td>\n",
       "    </tr>\n",
       "    <tr>\n",
       "      <th>2</th>\n",
       "      <td>female</td>\n",
       "      <td>group D</td>\n",
       "      <td>some college</td>\n",
       "      <td>free/reduced</td>\n",
       "      <td>none</td>\n",
       "      <td>57</td>\n",
       "      <td>76</td>\n",
       "      <td>77</td>\n",
       "    </tr>\n",
       "    <tr>\n",
       "      <th>3</th>\n",
       "      <td>male</td>\n",
       "      <td>group B</td>\n",
       "      <td>some college</td>\n",
       "      <td>free/reduced</td>\n",
       "      <td>none</td>\n",
       "      <td>70</td>\n",
       "      <td>70</td>\n",
       "      <td>63</td>\n",
       "    </tr>\n",
       "    <tr>\n",
       "      <th>4</th>\n",
       "      <td>female</td>\n",
       "      <td>group D</td>\n",
       "      <td>associate's degree</td>\n",
       "      <td>standard</td>\n",
       "      <td>none</td>\n",
       "      <td>83</td>\n",
       "      <td>85</td>\n",
       "      <td>86</td>\n",
       "    </tr>\n",
       "  </tbody>\n",
       "</table>\n",
       "</div>"
      ],
      "text/plain": [
       "   gender race/ethnicity parental level of education         lunch  \\\n",
       "0  female        group D                some college      standard   \n",
       "1    male        group D          associate's degree      standard   \n",
       "2  female        group D                some college  free/reduced   \n",
       "3    male        group B                some college  free/reduced   \n",
       "4  female        group D          associate's degree      standard   \n",
       "\n",
       "  test preparation course  math score  reading score  writing score  \n",
       "0               completed          59             70             78  \n",
       "1                    none          96             93             87  \n",
       "2                    none          57             76             77  \n",
       "3                    none          70             70             63  \n",
       "4                    none          83             85             86  "
      ]
     },
     "execution_count": 10,
     "metadata": {},
     "output_type": "execute_result"
    }
   ],
   "source": [
    "import pandas as pd\n",
    "\n",
    "exams = pd.read_csv(\"exams.csv\")\n",
    "exams.head()"
   ]
  },
  {
   "cell_type": "code",
   "execution_count": 12,
   "id": "cc016830",
   "metadata": {},
   "outputs": [
    {
     "name": "stdout",
     "output_type": "stream",
     "text": [
      "男生的總人數為：508\n",
      "女生的總人數為：492\n"
     ]
    }
   ],
   "source": [
    "# 找到gender欄位，並從中選取male和female的資料列\n",
    "male_rows = exams[exams['gender'] == 'male']\n",
    "female_rows = exams[exams['gender'] == 'female']\n",
    "\n",
    "# 使用value_counts()方法分別統計male和female的數量\n",
    "num_male = male_rows['gender'].value_counts()[0]\n",
    "num_female = female_rows['gender'].value_counts()[0]\n",
    "\n",
    "print(f\"男生的總人數為：{num_male}\")\n",
    "print(f\"女生的總人數為：{num_female}\")\n"
   ]
  },
  {
   "cell_type": "code",
   "execution_count": 13,
   "id": "24d09f8f",
   "metadata": {},
   "outputs": [
    {
     "name": "stdout",
     "output_type": "stream",
     "text": [
      "男生數學平均分數為: 70.75\n"
     ]
    }
   ],
   "source": [
    "#男生數學平均分數\n",
    "male_df = df.loc[df['gender'] == 'male']\n",
    "male_math_avg = male_df['math score'].mean()\n",
    "print(\"男生數學平均分數為:\", male_math_avg)"
   ]
  },
  {
   "cell_type": "code",
   "execution_count": 14,
   "id": "591e876c",
   "metadata": {},
   "outputs": [
    {
     "name": "stdout",
     "output_type": "stream",
     "text": [
      "女生數學平均分數為: 64.77439024390245\n"
     ]
    }
   ],
   "source": [
    "#女生數學平均分數\n",
    "female_df = df.loc[df['gender'] == 'female']\n",
    "female_math_avg = female_df['math score'].mean()\n",
    "print(\"女生數學平均分數為:\", female_math_avg)"
   ]
  },
  {
   "cell_type": "code",
   "execution_count": 15,
   "id": "707dd3cb",
   "metadata": {},
   "outputs": [
    {
     "name": "stdout",
     "output_type": "stream",
     "text": [
      "男生閱讀平均分數為: 67.38779527559055\n"
     ]
    }
   ],
   "source": [
    "#男生閱讀平均分數\n",
    "male_df = df.loc[df['gender'] == 'male']\n",
    "male_reading_avg = male_df['reading score'].mean()\n",
    "print(\"男生閱讀平均分數為:\", male_reading_avg)"
   ]
  },
  {
   "cell_type": "code",
   "execution_count": 16,
   "id": "63a48d4e",
   "metadata": {},
   "outputs": [
    {
     "name": "stdout",
     "output_type": "stream",
     "text": [
      "女生閱讀平均分數為: 73.47357723577235\n"
     ]
    }
   ],
   "source": [
    "#女生閱讀平均分數\n",
    "female_df = df.loc[df['gender'] == 'female']\n",
    "female_reading_avg = female_df['reading score'].mean()\n",
    "print(\"女生閱讀平均分數為:\", female_reading_avg)"
   ]
  },
  {
   "cell_type": "code",
   "execution_count": 17,
   "id": "139df8bd",
   "metadata": {
    "scrolled": true
   },
   "outputs": [
    {
     "name": "stdout",
     "output_type": "stream",
     "text": [
      "男生寫作平均分數為: 64.97637795275591\n"
     ]
    }
   ],
   "source": [
    "#男生寫作平均分數\n",
    "male_df = df.loc[df['gender'] == 'male']\n",
    "male_writing_avg = male_df['writing score'].mean()\n",
    "print(\"男生寫作平均分數為:\", male_writing_avg)"
   ]
  },
  {
   "cell_type": "code",
   "execution_count": 18,
   "id": "8352ffe9",
   "metadata": {},
   "outputs": [
    {
     "name": "stdout",
     "output_type": "stream",
     "text": [
      "女生寫作平均分數為: 73.4390243902439\n"
     ]
    }
   ],
   "source": [
    "#女生寫作平均分數\n",
    "female_df = df.loc[df['gender'] == 'female']\n",
    "female_writing_avg = female_df['writing score'].mean()\n",
    "print(\"女生寫作平均分數為:\", female_writing_avg)"
   ]
  },
  {
   "cell_type": "code",
   "execution_count": 23,
   "id": "483b08cb",
   "metadata": {},
   "outputs": [
    {
     "name": "stdout",
     "output_type": "stream",
     "text": [
      "  Math Score  Count\n",
      "0        <60    130\n",
      "1      60-70    111\n",
      "2      70-80    125\n",
      "3      80-90     97\n",
      "4        90+     45\n"
     ]
    }
   ],
   "source": [
    "#男生數學成績分布情形\n",
    "import numpy as np\n",
    "\n",
    "# 創建分類區間\n",
    "bins = [0, 60, 70, 80, 90, 100]\n",
    "\n",
    "# 創建分類標籤\n",
    "labels = ['<60', '60-70', '70-80', '80-90', '90+']\n",
    "\n",
    "# 將數學成績按分類區間分類\n",
    "df['Math Score Ranges_Male'] = pd.cut(df['math score'], bins=bins, labels=labels, include_lowest=True)\n",
    "\n",
    "# 將男性成績按分類區間分組並計算人數\n",
    "male_scores = df.loc[df['gender'] == 'male', 'Math Score Ranges'].value_counts().sort_index()\n",
    "\n",
    "# 修改欄位標題\n",
    "male_scores = male_scores.rename_axis('Math Score').reset_index(name='Count')\n",
    "\n",
    "# 輸出結果\n",
    "print(male_scores)"
   ]
  },
  {
   "cell_type": "code",
   "execution_count": 24,
   "id": "3fa1bd62",
   "metadata": {},
   "outputs": [
    {
     "name": "stdout",
     "output_type": "stream",
     "text": [
      "  Math Score  Count\n",
      "0        <60    174\n",
      "1      60-70    144\n",
      "2      70-80     89\n",
      "3      80-90     69\n",
      "4        90+     16\n"
     ]
    }
   ],
   "source": [
    "#女生數學成績分布情形\n",
    "import numpy as np\n",
    "\n",
    "# 創建分類區間\n",
    "bins = [0, 60, 70, 80, 90, 100]\n",
    "\n",
    "# 創建分類標籤\n",
    "labels = ['<60', '60-70', '70-80', '80-90', '90+']\n",
    "\n",
    "# 將數學成績按分類區間分類\n",
    "df['Math Score Ranges_Female'] = pd.cut(df['math score'], bins=bins, labels=labels, include_lowest=True)\n",
    "\n",
    "# 將男性成績按分類區間分組並計算人數\n",
    "male_scores = df.loc[df['gender'] == 'female', 'Math Score Ranges'].value_counts().sort_index()\n",
    "\n",
    "# 修改欄位標題\n",
    "male_scores = male_scores.rename_axis('Math Score').reset_index(name='Count')\n",
    "\n",
    "# 輸出結果\n",
    "print(male_scores)"
   ]
  },
  {
   "cell_type": "code",
   "execution_count": null,
   "id": "2ff9c4d9",
   "metadata": {},
   "outputs": [],
   "source": []
  }
 ],
 "metadata": {
  "kernelspec": {
   "display_name": "Python 3 (ipykernel)",
   "language": "python",
   "name": "python3"
  },
  "language_info": {
   "codemirror_mode": {
    "name": "ipython",
    "version": 3
   },
   "file_extension": ".py",
   "mimetype": "text/x-python",
   "name": "python",
   "nbconvert_exporter": "python",
   "pygments_lexer": "ipython3",
   "version": "3.9.13"
  }
 },
 "nbformat": 4,
 "nbformat_minor": 5
}
