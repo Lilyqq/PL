{
 "cells": [
  {
   "cell_type": "code",
   "execution_count": 6,
   "id": "935c4fb7",
   "metadata": {},
   "outputs": [
    {
     "data": {
      "text/html": [
       "<div>\n",
       "<style scoped>\n",
       "    .dataframe tbody tr th:only-of-type {\n",
       "        vertical-align: middle;\n",
       "    }\n",
       "\n",
       "    .dataframe tbody tr th {\n",
       "        vertical-align: top;\n",
       "    }\n",
       "\n",
       "    .dataframe thead th {\n",
       "        text-align: right;\n",
       "    }\n",
       "</style>\n",
       "<table border=\"1\" class=\"dataframe\">\n",
       "  <thead>\n",
       "    <tr style=\"text-align: right;\">\n",
       "      <th></th>\n",
       "      <th>排名</th>\n",
       "      <th>drama/variety show</th>\n",
       "    </tr>\n",
       "  </thead>\n",
       "  <tbody>\n",
       "    <tr>\n",
       "      <th>0</th>\n",
       "      <td>1</td>\n",
       "      <td>那年，我們的夏天</td>\n",
       "    </tr>\n",
       "    <tr>\n",
       "      <th>1</th>\n",
       "      <td>2</td>\n",
       "      <td>二十五，二十一</td>\n",
       "    </tr>\n",
       "    <tr>\n",
       "      <th>2</th>\n",
       "      <td>3</td>\n",
       "      <td>不可殺：永生之靈</td>\n",
       "    </tr>\n",
       "    <tr>\n",
       "      <th>3</th>\n",
       "      <td>4</td>\n",
       "      <td>殭屍校園</td>\n",
       "    </tr>\n",
       "    <tr>\n",
       "      <th>4</th>\n",
       "      <td>5</td>\n",
       "      <td>氣象廳的人們</td>\n",
       "    </tr>\n",
       "    <tr>\n",
       "      <th>5</th>\n",
       "      <td>6</td>\n",
       "      <td>三十九</td>\n",
       "    </tr>\n",
       "    <tr>\n",
       "      <th>6</th>\n",
       "      <td>7</td>\n",
       "      <td>少年法庭</td>\n",
       "    </tr>\n",
       "    <tr>\n",
       "      <th>7</th>\n",
       "      <td>8</td>\n",
       "      <td>梨泰院Class</td>\n",
       "    </tr>\n",
       "    <tr>\n",
       "      <th>8</th>\n",
       "      <td>9</td>\n",
       "      <td>單身即地獄</td>\n",
       "    </tr>\n",
       "    <tr>\n",
       "      <th>9</th>\n",
       "      <td>10</td>\n",
       "      <td>社內相親</td>\n",
       "    </tr>\n",
       "  </tbody>\n",
       "</table>\n",
       "</div>"
      ],
      "text/plain": [
       "   排名 drama/variety show\n",
       "0   1           那年，我們的夏天\n",
       "1   2            二十五，二十一\n",
       "2   3           不可殺：永生之靈\n",
       "3   4               殭屍校園\n",
       "4   5             氣象廳的人們\n",
       "5   6                三十九\n",
       "6   7               少年法庭\n",
       "7   8           梨泰院Class\n",
       "8   9              單身即地獄\n",
       "9  10               社內相親"
      ]
     },
     "execution_count": 6,
     "metadata": {},
     "output_type": "execute_result"
    }
   ],
   "source": [
    "#匯入csv檔案\n",
    "#2022韓國Netflix戲劇/綜藝榜單\n",
    "import pandas as pd\n",
    "\n",
    "data1 = pd.read_csv(\"list1.csv\",encoding=\"Big5\")\n",
    "data1"
   ]
  },
  {
   "cell_type": "code",
   "execution_count": 2,
   "id": "021f245e",
   "metadata": {
    "scrolled": true
   },
   "outputs": [
    {
     "data": {
      "text/html": [
       "<div>\n",
       "<style scoped>\n",
       "    .dataframe tbody tr th:only-of-type {\n",
       "        vertical-align: middle;\n",
       "    }\n",
       "\n",
       "    .dataframe tbody tr th {\n",
       "        vertical-align: top;\n",
       "    }\n",
       "\n",
       "    .dataframe thead th {\n",
       "        text-align: right;\n",
       "    }\n",
       "</style>\n",
       "<table border=\"1\" class=\"dataframe\">\n",
       "  <thead>\n",
       "    <tr style=\"text-align: right;\">\n",
       "      <th></th>\n",
       "      <th>排名</th>\n",
       "      <th>drama/variety show</th>\n",
       "    </tr>\n",
       "  </thead>\n",
       "  <tbody>\n",
       "    <tr>\n",
       "      <th>0</th>\n",
       "      <td>1</td>\n",
       "      <td>二十五，二十一</td>\n",
       "    </tr>\n",
       "    <tr>\n",
       "      <th>1</th>\n",
       "      <td>2</td>\n",
       "      <td>社內相親</td>\n",
       "    </tr>\n",
       "    <tr>\n",
       "      <th>2</th>\n",
       "      <td>3</td>\n",
       "      <td>來吧！營業中</td>\n",
       "    </tr>\n",
       "    <tr>\n",
       "      <th>3</th>\n",
       "      <td>4</td>\n",
       "      <td>我們的藍調時光</td>\n",
       "    </tr>\n",
       "    <tr>\n",
       "      <th>4</th>\n",
       "      <td>5</td>\n",
       "      <td>且試天下</td>\n",
       "    </tr>\n",
       "    <tr>\n",
       "      <th>5</th>\n",
       "      <td>6</td>\n",
       "      <td>華燈初上</td>\n",
       "    </tr>\n",
       "    <tr>\n",
       "      <th>6</th>\n",
       "      <td>7</td>\n",
       "      <td>那年，我們的夏天</td>\n",
       "    </tr>\n",
       "    <tr>\n",
       "      <th>7</th>\n",
       "      <td>8</td>\n",
       "      <td>氣象廳的人們</td>\n",
       "    </tr>\n",
       "    <tr>\n",
       "      <th>8</th>\n",
       "      <td>9</td>\n",
       "      <td>三十九</td>\n",
       "    </tr>\n",
       "    <tr>\n",
       "      <th>9</th>\n",
       "      <td>10</td>\n",
       "      <td>我的出走日記</td>\n",
       "    </tr>\n",
       "  </tbody>\n",
       "</table>\n",
       "</div>"
      ],
      "text/plain": [
       "   排名 drama/variety show\n",
       "0   1            二十五，二十一\n",
       "1   2               社內相親\n",
       "2   3             來吧！營業中\n",
       "3   4            我們的藍調時光\n",
       "4   5               且試天下\n",
       "5   6               華燈初上\n",
       "6   7           那年，我們的夏天\n",
       "7   8             氣象廳的人們\n",
       "8   9                三十九\n",
       "9  10             我的出走日記"
      ]
     },
     "execution_count": 2,
     "metadata": {},
     "output_type": "execute_result"
    }
   ],
   "source": [
    "#2022台灣Netflix戲劇/綜藝榜單\n",
    "import pandas as pd\n",
    "\n",
    "data2 = pd.read_csv(\"list2.csv\",encoding=\"Big5\")\n",
    "data2"
   ]
  },
  {
   "cell_type": "code",
   "execution_count": 12,
   "id": "8e336918",
   "metadata": {
    "scrolled": false
   },
   "outputs": [
    {
     "data": {
      "text/plain": [
       "{'三十九',\n",
       " '且試天下',\n",
       " '二十五，二十一',\n",
       " '來吧！營業中',\n",
       " '我們的藍調時光',\n",
       " '我的出走日記',\n",
       " '氣象廳的人們',\n",
       " '社內相親',\n",
       " '華燈初上',\n",
       " '那年，我們的夏天'}"
      ]
     },
     "execution_count": 12,
     "metadata": {},
     "output_type": "execute_result"
    }
   ],
   "source": [
    "set_data2 = set(data2[\"drama/variety show\"])\n",
    "set_data2"
   ]
  },
  {
   "cell_type": "code",
   "execution_count": 13,
   "id": "f132eae9",
   "metadata": {},
   "outputs": [
    {
     "data": {
      "text/plain": [
       "{'三十九',\n",
       " '不可殺：永生之靈',\n",
       " '二十五，二十一',\n",
       " '單身即地獄',\n",
       " '少年法庭',\n",
       " '梨泰院Class',\n",
       " '殭屍校園',\n",
       " '氣象廳的人們',\n",
       " '社內相親',\n",
       " '那年，我們的夏天'}"
      ]
     },
     "execution_count": 13,
     "metadata": {},
     "output_type": "execute_result"
    }
   ],
   "source": [
    "set_data1 = set(data1[\"drama/variety show\"])\n",
    "set_data1"
   ]
  },
  {
   "cell_type": "code",
   "execution_count": 14,
   "id": "6f3aeabe",
   "metadata": {},
   "outputs": [
    {
     "data": {
      "text/plain": [
       "{'三十九', '二十五，二十一', '氣象廳的人們', '社內相親', '那年，我們的夏天'}"
      ]
     },
     "execution_count": 14,
     "metadata": {},
     "output_type": "execute_result"
    }
   ],
   "source": [
    "#交集\n",
    "#2022韓國和台灣Netflix同時上榜的戲劇/綜藝\n",
    "(set_data1 & set_data2)"
   ]
  },
  {
   "cell_type": "code",
   "execution_count": 15,
   "id": "fac8c450",
   "metadata": {},
   "outputs": [
    {
     "data": {
      "text/plain": [
       "{'三十九',\n",
       " '不可殺：永生之靈',\n",
       " '且試天下',\n",
       " '二十五，二十一',\n",
       " '來吧！營業中',\n",
       " '單身即地獄',\n",
       " '少年法庭',\n",
       " '我們的藍調時光',\n",
       " '我的出走日記',\n",
       " '梨泰院Class',\n",
       " '殭屍校園',\n",
       " '氣象廳的人們',\n",
       " '社內相親',\n",
       " '華燈初上',\n",
       " '那年，我們的夏天'}"
      ]
     },
     "execution_count": 15,
     "metadata": {},
     "output_type": "execute_result"
    }
   ],
   "source": [
    "#聯集\n",
    "#2022韓國和台灣Netflix有上榜的戲劇/綜藝\n",
    "(set_data1 | set_data2)"
   ]
  },
  {
   "cell_type": "code",
   "execution_count": 16,
   "id": "e20463b8",
   "metadata": {},
   "outputs": [
    {
     "data": {
      "text/plain": [
       "{'不可殺：永生之靈', '單身即地獄', '少年法庭', '梨泰院Class', '殭屍校園'}"
      ]
     },
     "execution_count": 16,
     "metadata": {},
     "output_type": "execute_result"
    }
   ],
   "source": [
    "#差集\n",
    "#2022韓國Netflix有上榜但台灣沒有的戲劇/綜藝\n",
    "(set_data1 - (set_data1 & set_data2))"
   ]
  },
  {
   "cell_type": "code",
   "execution_count": 17,
   "id": "49c3f06c",
   "metadata": {},
   "outputs": [
    {
     "data": {
      "text/plain": [
       "{'三十九',\n",
       " '不可殺：永生之靈',\n",
       " '且試天下',\n",
       " '二十五，二十一',\n",
       " '來吧！營業中',\n",
       " '單身即地獄',\n",
       " '少年法庭',\n",
       " '我們的藍調時光',\n",
       " '我的出走日記',\n",
       " '梨泰院Class',\n",
       " '殭屍校園',\n",
       " '氣象廳的人們',\n",
       " '社內相親',\n",
       " '華燈初上',\n",
       " '那年，我們的夏天'}"
      ]
     },
     "execution_count": 17,
     "metadata": {},
     "output_type": "execute_result"
    }
   ],
   "source": [
    "#對稱差集\n",
    "#2022只有韓國Netflix或只有台灣Netflix上榜的戲劇/綜藝\n",
    "(set_data1 | set_data2 - (set_data1 & set_data2))"
   ]
  },
  {
   "cell_type": "code",
   "execution_count": null,
   "id": "fa48fa89",
   "metadata": {},
   "outputs": [],
   "source": []
  }
 ],
 "metadata": {
  "kernelspec": {
   "display_name": "Python 3 (ipykernel)",
   "language": "python",
   "name": "python3"
  },
  "language_info": {
   "codemirror_mode": {
    "name": "ipython",
    "version": 3
   },
   "file_extension": ".py",
   "mimetype": "text/x-python",
   "name": "python",
   "nbconvert_exporter": "python",
   "pygments_lexer": "ipython3",
   "version": "3.9.13"
  }
 },
 "nbformat": 4,
 "nbformat_minor": 5
}
