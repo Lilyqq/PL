{
 "cells": [
  {
   "cell_type": "markdown",
   "id": "1175d13b",
   "metadata": {},
   "source": [
    "# 透過jupyter內的互動功能實際模擬使用者操作的情形"
   ]
  },
  {
   "cell_type": "code",
   "execution_count": 1,
   "id": "8d0aec8f",
   "metadata": {
    "scrolled": true
   },
   "outputs": [
    {
     "data": {
      "text/html": [
       "<div>\n",
       "<style scoped>\n",
       "    .dataframe tbody tr th:only-of-type {\n",
       "        vertical-align: middle;\n",
       "    }\n",
       "\n",
       "    .dataframe tbody tr th {\n",
       "        vertical-align: top;\n",
       "    }\n",
       "\n",
       "    .dataframe thead th {\n",
       "        text-align: right;\n",
       "    }\n",
       "</style>\n",
       "<table border=\"1\" class=\"dataframe\">\n",
       "  <thead>\n",
       "    <tr style=\"text-align: right;\">\n",
       "      <th></th>\n",
       "      <th>文章標題</th>\n",
       "      <th>文章網址</th>\n",
       "      <th>圖片</th>\n",
       "      <th>部位</th>\n",
       "      <th>症狀</th>\n",
       "    </tr>\n",
       "  </thead>\n",
       "  <tbody>\n",
       "    <tr>\n",
       "      <th>0</th>\n",
       "      <td>告別手腳麻木！５個超有效穴位大公開</td>\n",
       "      <td>https://heho.com.tw/archives/22330</td>\n",
       "      <td>https://heho.com.tw/wp-content/uploads/2018/09...</td>\n",
       "      <td>上肢,下肢</td>\n",
       "      <td>養生</td>\n",
       "    </tr>\n",
       "    <tr>\n",
       "      <th>1</th>\n",
       "      <td>手腳冰冷怎麼辦？４穴道袪寒保暖通氣血</td>\n",
       "      <td>https://heho.com.tw/archives/151663</td>\n",
       "      <td>https://heho.com.tw/wp-content/uploads/2020/12...</td>\n",
       "      <td>上肢,下肢</td>\n",
       "      <td>養生</td>\n",
       "    </tr>\n",
       "    <tr>\n",
       "      <th>2</th>\n",
       "      <td>手腕痛又麻？按摩４穴道緩解「滑鼠手」疼痛</td>\n",
       "      <td>https://heho.com.tw/archives/183035</td>\n",
       "      <td>https://heho.com.tw/wp-content/uploads/2021/07...</td>\n",
       "      <td>上肢,手腕</td>\n",
       "      <td>滑鼠手</td>\n",
       "    </tr>\n",
       "    <tr>\n",
       "      <th>3</th>\n",
       "      <td>久坐易有大小毛病，按三穴道保健、解久坐不適</td>\n",
       "      <td>https://heho.com.tw/archives/192257</td>\n",
       "      <td>https://heho.com.tw/wp-content/uploads/2021/10...</td>\n",
       "      <td>下肢</td>\n",
       "      <td>久坐</td>\n",
       "    </tr>\n",
       "    <tr>\n",
       "      <th>4</th>\n",
       "      <td>長期久坐，水腫成蘿蔔腿！中醫傳授４穴位，小腿快速瘦一圈</td>\n",
       "      <td>https://heho.com.tw/archives/27685</td>\n",
       "      <td>https://heho.com.tw/wp-content/uploads/2018/11...</td>\n",
       "      <td>下肢</td>\n",
       "      <td>久坐</td>\n",
       "    </tr>\n",
       "    <tr>\n",
       "      <th>...</th>\n",
       "      <td>...</td>\n",
       "      <td>...</td>\n",
       "      <td>...</td>\n",
       "      <td>...</td>\n",
       "      <td>...</td>\n",
       "    </tr>\n",
       "    <tr>\n",
       "      <th>167</th>\n",
       "      <td>感冒用穴道大全，不適症狀按一按都舒緩</td>\n",
       "      <td>https://heho.com.tw/archives/27098</td>\n",
       "      <td>https://heho.com.tw/wp-content/uploads/2018/11...</td>\n",
       "      <td>NaN</td>\n",
       "      <td>感冒</td>\n",
       "    </tr>\n",
       "    <tr>\n",
       "      <th>168</th>\n",
       "      <td>孩子發燒感冒，按摩２穴道有助退熱止咳</td>\n",
       "      <td>https://heho.com.tw/archives/147206</td>\n",
       "      <td>https://heho.com.tw/wp-content/uploads/2020/11...</td>\n",
       "      <td>NaN</td>\n",
       "      <td>感冒,發燒</td>\n",
       "    </tr>\n",
       "    <tr>\n",
       "      <th>169</th>\n",
       "      <td>每天按4大穴道3分鐘，糖尿病就有改善!</td>\n",
       "      <td>https://heho.com.tw/archives/9177</td>\n",
       "      <td>https://heho.com.tw/wp-content/uploads/2018/03...</td>\n",
       "      <td>NaN</td>\n",
       "      <td>糖尿病</td>\n",
       "    </tr>\n",
       "    <tr>\n",
       "      <th>170</th>\n",
       "      <td>中醫看蕁麻疹「３觀念２穴道」舒緩止癢！</td>\n",
       "      <td>https://heho.com.tw/archives/244932</td>\n",
       "      <td>https://heho.com.tw/wp-content/uploads/2022/10...</td>\n",
       "      <td>NaN</td>\n",
       "      <td>蕁麻疹</td>\n",
       "    </tr>\n",
       "    <tr>\n",
       "      <th>171</th>\n",
       "      <td>穴道按摩有效緩解癌症治療副作用</td>\n",
       "      <td>https://heho.com.tw/archives/44559</td>\n",
       "      <td>https://heho.com.tw/wp-content/uploads/2019/04...</td>\n",
       "      <td>NaN</td>\n",
       "      <td>癌症治療副作用</td>\n",
       "    </tr>\n",
       "  </tbody>\n",
       "</table>\n",
       "<p>172 rows × 5 columns</p>\n",
       "</div>"
      ],
      "text/plain": [
       "                            文章標題                                 文章網址  \\\n",
       "0              告別手腳麻木！５個超有效穴位大公開   https://heho.com.tw/archives/22330   \n",
       "1             手腳冰冷怎麼辦？４穴道袪寒保暖通氣血  https://heho.com.tw/archives/151663   \n",
       "2           手腕痛又麻？按摩４穴道緩解「滑鼠手」疼痛  https://heho.com.tw/archives/183035   \n",
       "3          久坐易有大小毛病，按三穴道保健、解久坐不適  https://heho.com.tw/archives/192257   \n",
       "4    長期久坐，水腫成蘿蔔腿！中醫傳授４穴位，小腿快速瘦一圈   https://heho.com.tw/archives/27685   \n",
       "..                           ...                                  ...   \n",
       "167           感冒用穴道大全，不適症狀按一按都舒緩   https://heho.com.tw/archives/27098   \n",
       "168           孩子發燒感冒，按摩２穴道有助退熱止咳  https://heho.com.tw/archives/147206   \n",
       "169          每天按4大穴道3分鐘，糖尿病就有改善!    https://heho.com.tw/archives/9177   \n",
       "170          中醫看蕁麻疹「３觀念２穴道」舒緩止癢！  https://heho.com.tw/archives/244932   \n",
       "171              穴道按摩有效緩解癌症治療副作用   https://heho.com.tw/archives/44559   \n",
       "\n",
       "                                                    圖片     部位       症狀  \n",
       "0    https://heho.com.tw/wp-content/uploads/2018/09...  上肢,下肢       養生  \n",
       "1    https://heho.com.tw/wp-content/uploads/2020/12...  上肢,下肢       養生  \n",
       "2    https://heho.com.tw/wp-content/uploads/2021/07...  上肢,手腕      滑鼠手  \n",
       "3    https://heho.com.tw/wp-content/uploads/2021/10...     下肢       久坐  \n",
       "4    https://heho.com.tw/wp-content/uploads/2018/11...     下肢       久坐  \n",
       "..                                                 ...    ...      ...  \n",
       "167  https://heho.com.tw/wp-content/uploads/2018/11...    NaN       感冒  \n",
       "168  https://heho.com.tw/wp-content/uploads/2020/11...    NaN    感冒,發燒  \n",
       "169  https://heho.com.tw/wp-content/uploads/2018/03...    NaN      糖尿病  \n",
       "170  https://heho.com.tw/wp-content/uploads/2022/10...    NaN      蕁麻疹  \n",
       "171  https://heho.com.tw/wp-content/uploads/2019/04...    NaN  癌症治療副作用  \n",
       "\n",
       "[172 rows x 5 columns]"
      ]
     },
     "execution_count": 1,
     "metadata": {},
     "output_type": "execute_result"
    }
   ],
   "source": [
    "#匯入已加入關鍵字欄位的資料\n",
    "import pandas as pd\n",
    "\n",
    "data = pd.read_csv(\"heho_data_final.csv\")\n",
    "data"
   ]
  },
  {
   "cell_type": "markdown",
   "id": "3324678f",
   "metadata": {},
   "source": [
    "## 使用 ipywidgets 庫創建互動元件"
   ]
  },
  {
   "cell_type": "code",
   "execution_count": 2,
   "id": "c5b50b55",
   "metadata": {},
   "outputs": [],
   "source": [
    "#匯入ipywidgets\n",
    "#在 Jupyter 環境中創建交互式小工具。\n",
    "from ipywidgets import interact\n",
    "import ipywidgets as widgets"
   ]
  },
  {
   "cell_type": "markdown",
   "id": "91c769a5",
   "metadata": {},
   "source": [
    "## 先讓使用者選擇要用甚麼方式做查詢"
   ]
  },
  {
   "cell_type": "code",
   "execution_count": 11,
   "id": "922b334e",
   "metadata": {
    "scrolled": true
   },
   "outputs": [
    {
     "data": {
      "application/vnd.jupyter.widget-view+json": {
       "model_id": "4c70d17f0989423586da9fba954075a2",
       "version_major": 2,
       "version_minor": 0
      },
      "text/plain": [
       "RadioButtons(description='依_____搜尋:', options=('部位', '症狀'), value='部位')"
      ]
     },
     "metadata": {},
     "output_type": "display_data"
    },
    {
     "name": "stdout",
     "output_type": "stream",
     "text": [
      "-------------------------------------------\n",
      "\n",
      "依_ 症狀_搜尋\n",
      "依_ 部位_搜尋\n"
     ]
    }
   ],
   "source": [
    "options=['部位', '症狀']\n",
    "\n",
    "radio_buttons = widgets.RadioButtons(\n",
    "    options=options,\n",
    "    value=options[0],\n",
    "    description='依_____搜尋:',\n",
    "    disabled=False,\n",
    ")\n",
    "\n",
    "#'handle_radio_button_change'函式被調用並馬上打印出所選的選項\n",
    "#讓使用者知道目前是選擇哪個選項\n",
    "\n",
    "def handle_radio_button_change(change):    \n",
    "    print(f\"依_ {change.new}_搜尋\")\n",
    "\n",
    "radio_buttons.observe(handle_radio_button_change, 'value')\n",
    "\n",
    "display(radio_buttons)\n",
    "\n",
    "print(\"-------------------------------------------\")\n",
    "print()"
   ]
  },
  {
   "cell_type": "markdown",
   "id": "c6cf80db",
   "metadata": {},
   "source": [
    "## 依照使用者的選擇列出其關鍵字列表"
   ]
  },
  {
   "cell_type": "code",
   "execution_count": 8,
   "id": "fd0f384e",
   "metadata": {
    "scrolled": true
   },
   "outputs": [
    {
     "data": {
      "application/vnd.jupyter.widget-view+json": {
       "model_id": "4cde7932e7c34b8bac496a56e8cf29ec",
       "version_major": 2,
       "version_minor": 0
      },
      "text/plain": [
       "SelectMultiple(description='症狀分類:', index=(0,), options=('50肩', '久坐', '中暑', '止癢', '牙齒痛', '失眠', '失智', '打嗝', '甲狀…"
      ]
     },
     "metadata": {},
     "output_type": "display_data"
    },
    {
     "name": "stdout",
     "output_type": "stream",
     "text": [
      "-------------------------------------------\n",
      "\n",
      "關鍵字: 焦慮 \n",
      "關鍵字: 眼睛疲勞, 提神 \n"
     ]
    }
   ],
   "source": [
    "import codecs\n",
    "import ipywidgets as widgets\n",
    "from IPython.display import Image, display\n",
    "\n",
    "\n",
    "if radio_buttons.value == '症狀':\n",
    "    # 讀取選項的文字檔，指定正確的編碼格式\n",
    "    with codecs.open('data_syndrome.txt', 'r', encoding='utf-8') as file:\n",
    "        options = [line.strip() for line in file]\n",
    "\n",
    "    Q = widgets.SelectMultiple(\n",
    "        options=options,\n",
    "        value=[options[0]],\n",
    "        description='症狀分類:',\n",
    "        disabled=False,\n",
    "    )\n",
    "    #display(Q)\n",
    "    column_name = '症狀'\n",
    "\n",
    "if radio_buttons.value =='部位' :\n",
    "    # 讀取選項的文字檔，指定正確的編碼格式\n",
    "    with codecs.open('data_part.txt', 'r', encoding='utf-8') as file:\n",
    "        options = [line.strip() for line in file]\n",
    "\n",
    "    Q = widgets.SelectMultiple(\n",
    "        options=options,\n",
    "        value=[options[0]],\n",
    "        description='部位分類:',\n",
    "        disabled=False,\n",
    "    )\n",
    "    #display(Q)\n",
    "    column_name = '部位'\n",
    "\n",
    "#'handle_Q_change'函式被調用並馬上打印出所選的選項\n",
    "#讓使用者知道目前是選擇哪些選項\n",
    "\n",
    "def handle_Q_change(change):\n",
    "    selected_options = ', '.join(change.new)  # 將元組轉換為字符串\n",
    "    print(f\"關鍵字: {selected_options} \")\n",
    "\n",
    "Q.observe(handle_Q_change, 'value')\n",
    "\n",
    "display(Q)\n",
    "\n",
    "print(\"-------------------------------------------\")\n",
    "print()"
   ]
  },
  {
   "cell_type": "code",
   "execution_count": 13,
   "id": "8d332f42",
   "metadata": {
    "scrolled": true
   },
   "outputs": [
    {
     "name": "stdout",
     "output_type": "stream",
     "text": [
      "文章標題: 提神醒腦必備４大穴道\n",
      "文章網址: https://heho.com.tw/archives/240060\n"
     ]
    },
    {
     "data": {
      "text/html": [
       "<img src=\"https://heho.com.tw/wp-content/uploads/2022/09/1662967211.1026.png\" width=\"400\" height=\"400\"/>"
      ],
      "text/plain": [
       "<IPython.core.display.Image object>"
      ]
     },
     "metadata": {},
     "output_type": "display_data"
    },
    {
     "name": "stdout",
     "output_type": "stream",
     "text": [
      "\n",
      "文章標題: 按這5穴道，讓你精神百倍身體好\n",
      "文章網址: https://heho.com.tw/archives/10470\n"
     ]
    },
    {
     "data": {
      "text/html": [
       "<img src=\"https://heho.com.tw/wp-content/uploads/2018/03/春睏提神-01.jpg\" width=\"400\" height=\"400\"/>"
      ],
      "text/plain": [
       "<IPython.core.display.Image object>"
      ]
     },
     "metadata": {},
     "output_type": "display_data"
    },
    {
     "name": "stdout",
     "output_type": "stream",
     "text": [
      "\n",
      "文章標題: 居家辦公 / 上班族必備！眼睛疲勞、肩頸僵硬，按手部穴道就搞定\n",
      "文章網址: https://heho.com.tw/archives/59558\n"
     ]
    },
    {
     "data": {
      "text/html": [
       "<img src=\"https://heho.com.tw/wp-content/uploads/2019/11/20191112-上班族必備！眼睛疲勞、肩頸僵硬，按手部穴道就搞定.png\" width=\"400\" height=\"400\"/>"
      ],
      "text/plain": [
       "<IPython.core.display.Image object>"
      ]
     },
     "metadata": {},
     "output_type": "display_data"
    },
    {
     "name": "stdout",
     "output_type": "stream",
     "text": [
      "\n"
     ]
    }
   ],
   "source": [
    "# 定義不想打印的欄位列表\n",
    "exclude_columns = ['部位', '症狀']\n",
    "\n",
    "# 選取特定欄位中具有特定關鍵字的列並打印出來\n",
    "col = column_name  # 選取的欄位名稱\n",
    "\n",
    "#將 Q.value 列表中的元素以 '|' 作為分隔符連接起來形成一個新的字串。\n",
    "keyword = '|'.join(Q.value)  #關鍵字\n",
    "\n",
    "# 使用遮罩操作選取特定欄位中具有特定關鍵字的列（不包含 NA 或 NaN）\n",
    "mask = data[col].notna()  # 或使用 data[col].notnull()\n",
    "selected_rows = data[mask & data[col].str.contains(keyword, case=False, na=False, regex=True)]\n",
    "\n",
    "# 迭代 DataFrame 的每一列，並打印出來（排除指定的欄位）\n",
    "for _, row in selected_rows.iterrows():\n",
    "    # 打印除了指定的欄位以外的其他欄位\n",
    "    for column, value in row.iteritems():\n",
    "        if column not in exclude_columns:\n",
    "            if column == '圖片':\n",
    "                display(Image(url=value, width=400, height=400))\n",
    "            else:\n",
    "                print(f\"{column}: {value}\")\n",
    "\n",
    "    print()  # 每一列之間插入空行"
   ]
  },
  {
   "cell_type": "code",
   "execution_count": null,
   "id": "2c1eef27",
   "metadata": {},
   "outputs": [],
   "source": []
  }
 ],
 "metadata": {
  "kernelspec": {
   "display_name": "Python 3 (ipykernel)",
   "language": "python",
   "name": "python3"
  },
  "language_info": {
   "codemirror_mode": {
    "name": "ipython",
    "version": 3
   },
   "file_extension": ".py",
   "mimetype": "text/x-python",
   "name": "python",
   "nbconvert_exporter": "python",
   "pygments_lexer": "ipython3",
   "version": "3.9.13"
  }
 },
 "nbformat": 4,
 "nbformat_minor": 5
}
