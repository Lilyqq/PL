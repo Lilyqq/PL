{
 "cells": [
  {
   "cell_type": "markdown",
   "id": "1175d13b",
   "metadata": {},
   "source": [
    "# 匯入已加入關鍵字欄位的資料"
   ]
  },
  {
   "cell_type": "code",
   "execution_count": 21,
   "id": "8d0aec8f",
   "metadata": {
    "scrolled": true
   },
   "outputs": [
    {
     "data": {
      "text/html": [
       "<div>\n",
       "<style scoped>\n",
       "    .dataframe tbody tr th:only-of-type {\n",
       "        vertical-align: middle;\n",
       "    }\n",
       "\n",
       "    .dataframe tbody tr th {\n",
       "        vertical-align: top;\n",
       "    }\n",
       "\n",
       "    .dataframe thead th {\n",
       "        text-align: right;\n",
       "    }\n",
       "</style>\n",
       "<table border=\"1\" class=\"dataframe\">\n",
       "  <thead>\n",
       "    <tr style=\"text-align: right;\">\n",
       "      <th></th>\n",
       "      <th>文章標題</th>\n",
       "      <th>文章網址</th>\n",
       "      <th>圖片</th>\n",
       "      <th>部位</th>\n",
       "      <th>症狀</th>\n",
       "    </tr>\n",
       "  </thead>\n",
       "  <tbody>\n",
       "    <tr>\n",
       "      <th>0</th>\n",
       "      <td>告別手腳麻木！５個超有效穴位大公開</td>\n",
       "      <td>https://heho.com.tw/archives/22330</td>\n",
       "      <td>https://heho.com.tw/wp-content/uploads/2018/09...</td>\n",
       "      <td>上肢,下肢</td>\n",
       "      <td>養生</td>\n",
       "    </tr>\n",
       "    <tr>\n",
       "      <th>1</th>\n",
       "      <td>手腳冰冷怎麼辦？４穴道袪寒保暖通氣血</td>\n",
       "      <td>https://heho.com.tw/archives/151663</td>\n",
       "      <td>https://heho.com.tw/wp-content/uploads/2020/12...</td>\n",
       "      <td>上肢,下肢</td>\n",
       "      <td>養生</td>\n",
       "    </tr>\n",
       "    <tr>\n",
       "      <th>2</th>\n",
       "      <td>手腕痛又麻？按摩４穴道緩解「滑鼠手」疼痛</td>\n",
       "      <td>https://heho.com.tw/archives/183035</td>\n",
       "      <td>https://heho.com.tw/wp-content/uploads/2021/07...</td>\n",
       "      <td>上肢,手腕</td>\n",
       "      <td>滑鼠手</td>\n",
       "    </tr>\n",
       "    <tr>\n",
       "      <th>3</th>\n",
       "      <td>久坐易有大小毛病，按三穴道保健、解久坐不適</td>\n",
       "      <td>https://heho.com.tw/archives/192257</td>\n",
       "      <td>https://heho.com.tw/wp-content/uploads/2021/10...</td>\n",
       "      <td>下肢</td>\n",
       "      <td>久坐</td>\n",
       "    </tr>\n",
       "    <tr>\n",
       "      <th>4</th>\n",
       "      <td>長期久坐，水腫成蘿蔔腿！中醫傳授４穴位，小腿快速瘦一圈</td>\n",
       "      <td>https://heho.com.tw/archives/27685</td>\n",
       "      <td>https://heho.com.tw/wp-content/uploads/2018/11...</td>\n",
       "      <td>下肢</td>\n",
       "      <td>久坐</td>\n",
       "    </tr>\n",
       "    <tr>\n",
       "      <th>...</th>\n",
       "      <td>...</td>\n",
       "      <td>...</td>\n",
       "      <td>...</td>\n",
       "      <td>...</td>\n",
       "      <td>...</td>\n",
       "    </tr>\n",
       "    <tr>\n",
       "      <th>167</th>\n",
       "      <td>感冒用穴道大全，不適症狀按一按都舒緩</td>\n",
       "      <td>https://heho.com.tw/archives/27098</td>\n",
       "      <td>https://heho.com.tw/wp-content/uploads/2018/11...</td>\n",
       "      <td>NaN</td>\n",
       "      <td>感冒</td>\n",
       "    </tr>\n",
       "    <tr>\n",
       "      <th>168</th>\n",
       "      <td>孩子發燒感冒，按摩２穴道有助退熱止咳</td>\n",
       "      <td>https://heho.com.tw/archives/147206</td>\n",
       "      <td>https://heho.com.tw/wp-content/uploads/2020/11...</td>\n",
       "      <td>NaN</td>\n",
       "      <td>感冒,發燒</td>\n",
       "    </tr>\n",
       "    <tr>\n",
       "      <th>169</th>\n",
       "      <td>每天按4大穴道3分鐘，糖尿病就有改善!</td>\n",
       "      <td>https://heho.com.tw/archives/9177</td>\n",
       "      <td>https://heho.com.tw/wp-content/uploads/2018/03...</td>\n",
       "      <td>NaN</td>\n",
       "      <td>糖尿病</td>\n",
       "    </tr>\n",
       "    <tr>\n",
       "      <th>170</th>\n",
       "      <td>中醫看蕁麻疹「３觀念２穴道」舒緩止癢！</td>\n",
       "      <td>https://heho.com.tw/archives/244932</td>\n",
       "      <td>https://heho.com.tw/wp-content/uploads/2022/10...</td>\n",
       "      <td>NaN</td>\n",
       "      <td>蕁麻疹</td>\n",
       "    </tr>\n",
       "    <tr>\n",
       "      <th>171</th>\n",
       "      <td>穴道按摩有效緩解癌症治療副作用</td>\n",
       "      <td>https://heho.com.tw/archives/44559</td>\n",
       "      <td>https://heho.com.tw/wp-content/uploads/2019/04...</td>\n",
       "      <td>NaN</td>\n",
       "      <td>癌症治療副作用</td>\n",
       "    </tr>\n",
       "  </tbody>\n",
       "</table>\n",
       "<p>172 rows × 5 columns</p>\n",
       "</div>"
      ],
      "text/plain": [
       "                            文章標題                                 文章網址  \\\n",
       "0              告別手腳麻木！５個超有效穴位大公開   https://heho.com.tw/archives/22330   \n",
       "1             手腳冰冷怎麼辦？４穴道袪寒保暖通氣血  https://heho.com.tw/archives/151663   \n",
       "2           手腕痛又麻？按摩４穴道緩解「滑鼠手」疼痛  https://heho.com.tw/archives/183035   \n",
       "3          久坐易有大小毛病，按三穴道保健、解久坐不適  https://heho.com.tw/archives/192257   \n",
       "4    長期久坐，水腫成蘿蔔腿！中醫傳授４穴位，小腿快速瘦一圈   https://heho.com.tw/archives/27685   \n",
       "..                           ...                                  ...   \n",
       "167           感冒用穴道大全，不適症狀按一按都舒緩   https://heho.com.tw/archives/27098   \n",
       "168           孩子發燒感冒，按摩２穴道有助退熱止咳  https://heho.com.tw/archives/147206   \n",
       "169          每天按4大穴道3分鐘，糖尿病就有改善!    https://heho.com.tw/archives/9177   \n",
       "170          中醫看蕁麻疹「３觀念２穴道」舒緩止癢！  https://heho.com.tw/archives/244932   \n",
       "171              穴道按摩有效緩解癌症治療副作用   https://heho.com.tw/archives/44559   \n",
       "\n",
       "                                                    圖片     部位       症狀  \n",
       "0    https://heho.com.tw/wp-content/uploads/2018/09...  上肢,下肢       養生  \n",
       "1    https://heho.com.tw/wp-content/uploads/2020/12...  上肢,下肢       養生  \n",
       "2    https://heho.com.tw/wp-content/uploads/2021/07...  上肢,手腕      滑鼠手  \n",
       "3    https://heho.com.tw/wp-content/uploads/2021/10...     下肢       久坐  \n",
       "4    https://heho.com.tw/wp-content/uploads/2018/11...     下肢       久坐  \n",
       "..                                                 ...    ...      ...  \n",
       "167  https://heho.com.tw/wp-content/uploads/2018/11...    NaN       感冒  \n",
       "168  https://heho.com.tw/wp-content/uploads/2020/11...    NaN    感冒,發燒  \n",
       "169  https://heho.com.tw/wp-content/uploads/2018/03...    NaN      糖尿病  \n",
       "170  https://heho.com.tw/wp-content/uploads/2022/10...    NaN      蕁麻疹  \n",
       "171  https://heho.com.tw/wp-content/uploads/2019/04...    NaN  癌症治療副作用  \n",
       "\n",
       "[172 rows x 5 columns]"
      ]
     },
     "execution_count": 21,
     "metadata": {},
     "output_type": "execute_result"
    }
   ],
   "source": [
    "import pandas as pd\n",
    "\n",
    "data = pd.read_csv(\"heho_data_final.csv\")\n",
    "data"
   ]
  },
  {
   "cell_type": "code",
   "execution_count": 2,
   "id": "d0d2c691",
   "metadata": {},
   "outputs": [],
   "source": [
    "import ipywidgets as widgets\n",
    "from IPython.display import display"
   ]
  },
  {
   "cell_type": "markdown",
   "id": "884c9cbd",
   "metadata": {},
   "source": [
    "# 想讓圖片可以直接秀出來"
   ]
  },
  {
   "cell_type": "code",
   "execution_count": 3,
   "id": "e8634c04",
   "metadata": {
    "scrolled": true
   },
   "outputs": [
    {
     "data": {
      "text/html": [
       "<img src=\"https://img.heho.com.tw/wp-content/uploads/2023/05/1683105127.6649.jpg\"/>"
      ],
      "text/plain": [
       "<IPython.core.display.Image object>"
      ]
     },
     "execution_count": 3,
     "metadata": {},
     "output_type": "execute_result"
    }
   ],
   "source": [
    "from IPython.display import Image\n",
    "\n",
    "image_url = \"https://img.heho.com.tw/wp-content/uploads/2023/05/1683105127.6649.jpg\"\n",
    "\n",
    "Image(url=image_url)"
   ]
  },
  {
   "cell_type": "markdown",
   "id": "4fe32414",
   "metadata": {},
   "source": [
    "#### 因為在dataframe中，如果要以圖片網址轉換圖片顯示的方式，資料量太大會沒辦法正常顯示  \n",
    "#### 所以想先打印出DataFrame裡的每一列的資料\n",
    "#### 再進一步將圖片網址轉換為圖片顯示"
   ]
  },
  {
   "cell_type": "code",
   "execution_count": 22,
   "id": "73fa886d",
   "metadata": {
    "scrolled": true
   },
   "outputs": [
    {
     "name": "stdout",
     "output_type": "stream",
     "text": [
      "文章標題                                    告別手腳麻木！５個超有效穴位大公開\n",
      "文章網址                   https://heho.com.tw/archives/22330\n",
      "圖片      https://heho.com.tw/wp-content/uploads/2018/09...\n",
      "部位                                                  上肢,下肢\n",
      "症狀                                                     養生\n",
      "Name: 0, dtype: object\n",
      "\n",
      "文章標題                                   手腳冰冷怎麼辦？４穴道袪寒保暖通氣血\n",
      "文章網址                  https://heho.com.tw/archives/151663\n",
      "圖片      https://heho.com.tw/wp-content/uploads/2020/12...\n",
      "部位                                                  上肢,下肢\n",
      "症狀                                                     養生\n",
      "Name: 1, dtype: object\n",
      "\n",
      "文章標題                                 手腕痛又麻？按摩４穴道緩解「滑鼠手」疼痛\n",
      "文章網址                  https://heho.com.tw/archives/183035\n",
      "圖片      https://heho.com.tw/wp-content/uploads/2021/07...\n",
      "部位                                                  上肢,手腕\n",
      "症狀                                                    滑鼠手\n",
      "Name: 2, dtype: object\n",
      "\n",
      "文章標題                                久坐易有大小毛病，按三穴道保健、解久坐不適\n",
      "文章網址                  https://heho.com.tw/archives/192257\n",
      "圖片      https://heho.com.tw/wp-content/uploads/2021/10...\n",
      "部位                                                     下肢\n",
      "症狀                                                     久坐\n",
      "Name: 3, dtype: object\n",
      "\n",
      "文章標題                          長期久坐，水腫成蘿蔔腿！中醫傳授４穴位，小腿快速瘦一圈\n",
      "文章網址                   https://heho.com.tw/archives/27685\n",
      "圖片      https://heho.com.tw/wp-content/uploads/2018/11...\n",
      "部位                                                     下肢\n",
      "症狀                                                     久坐\n",
      "Name: 4, dtype: object\n",
      "\n",
      "文章標題                        足底筋膜炎總讓你「寸步難行」？中醫推薦按摩 6 穴位助解痛\n",
      "文章網址                  https://heho.com.tw/archives/259487\n",
      "圖片      https://heho.com.tw/wp-content/uploads/2023/01...\n",
      "部位                                                     下肢\n",
      "症狀                                                  足底筋膜炎\n",
      "Name: 5, dtype: object\n",
      "\n",
      "文章標題                                     運動後鐵腿，按摩 4 穴道助緩解\n",
      "文章網址                  https://heho.com.tw/archives/156385\n",
      "圖片      https://heho.com.tw/wp-content/uploads/2021/01...\n",
      "部位                                                     下肢\n",
      "症狀                                                     痠痛\n",
      "Name: 6, dtype: object\n",
      "\n",
      "文章標題                                 腳麻動不了嗎？３個急救穴位，即按即舒緩！\n",
      "文章網址                   https://heho.com.tw/archives/29020\n",
      "圖片      https://heho.com.tw/wp-content/uploads/2018/11...\n",
      "部位                                                     下肢\n",
      "症狀                                                     腳麻\n",
      "Name: 7, dtype: object\n",
      "\n",
      "文章標題                                    穴位不再只在腳底啦！！！腳背也可以\n",
      "文章網址                    https://heho.com.tw/archives/2716\n",
      "圖片      https://heho.com.tw/wp-content/uploads/2017/11...\n",
      "部位                                                     下肢\n",
      "症狀                                                     養生\n",
      "Name: 8, dtype: object\n",
      "\n",
      "文章標題                                   失智可用中醫改善！日常保養按這４穴道\n",
      "文章網址                  https://heho.com.tw/archives/186978\n",
      "圖片      https://heho.com.tw/wp-content/uploads/2021/08...\n",
      "部位                                                     大腦\n",
      "症狀                                                     失智\n",
      "Name: 9, dtype: object\n",
      "\n",
      "文章標題                            失智症有望透過中醫改善，中醫師傳授保養的四大穴位！\n",
      "文章網址                  https://heho.com.tw/archives/273818\n",
      "圖片      https://heho.com.tw/wp-content/uploads/2023/05...\n",
      "部位                                                     大腦\n",
      "症狀                                                     失智\n",
      "Name: 10, dtype: object\n",
      "\n",
      "文章標題                                  治療失智症中醫也可以！５大穴道延緩退化\n",
      "文章網址                   https://heho.com.tw/archives/28792\n",
      "圖片      https://heho.com.tw/wp-content/uploads/2018/11...\n",
      "部位                                                     大腦\n",
      "症狀                                                     失智\n",
      "Name: 11, dtype: object\n",
      "\n",
      "文章標題                  居家辦公 / 按摩手也能活化大腦！手部４穴道打開活腦開關，讓大腦不當機\n",
      "文章網址                   https://heho.com.tw/archives/94042\n",
      "圖片      https://heho.com.tw/wp-content/uploads/2020/07...\n",
      "部位                                                     大腦\n",
      "症狀                                                     養生\n",
      "Name: 12, dtype: object\n",
      "\n",
      "文章標題                                    甲狀腺亢進不適症狀，巧按穴道助舒緩\n",
      "文章網址                   https://heho.com.tw/archives/26052\n",
      "圖片      https://heho.com.tw/wp-content/uploads/2018/10...\n",
      "部位                                                    內分泌\n",
      "症狀                                                  甲狀腺亢進\n",
      "Name: 13, dtype: object\n",
      "\n",
      "文章標題                                    ５個神奇穴位，除體濕、調節內分泌！\n",
      "文章網址                   https://heho.com.tw/archives/53962\n",
      "圖片      https://heho.com.tw/wp-content/uploads/2019/07...\n",
      "部位                                                    內分泌\n",
      "症狀                                                     養生\n",
      "Name: 14, dtype: object\n",
      "\n",
      "文章標題                                      保養心血管，按 3 穴道防三高\n",
      "文章網址                  https://heho.com.tw/archives/143707\n",
      "圖片      https://heho.com.tw/wp-content/uploads/2020/10...\n",
      "部位                                                      心\n",
      "症狀                                                     養生\n",
      "Name: 15, dtype: object\n",
      "\n",
      "文章標題                                      補氣又養心，4 穴道保養心血管\n",
      "文章網址                  https://heho.com.tw/archives/208047\n",
      "圖片      https://heho.com.tw/wp-content/uploads/2022/02...\n",
      "部位                                                      心\n",
      "症狀                                                     養生\n",
      "Name: 16, dtype: object\n",
      "\n",
      "文章標題                                      4穴道養心通氣，越按心臟越健康\n",
      "文章網址                   https://heho.com.tw/archives/55582\n",
      "圖片      https://heho.com.tw/wp-content/uploads/2019/08...\n",
      "部位                                                      心\n",
      "症狀                                                     養生\n",
      "Name: 17, dtype: object\n",
      "\n",
      "文章標題                                       神奇5穴位讓你緩解牙齒疼痛！\n",
      "文章網址                   https://heho.com.tw/archives/14673\n",
      "圖片      https://heho.com.tw/wp-content/uploads/2018/05...\n",
      "部位                                                     牙齒\n",
      "症狀                                                    牙齒痛\n",
      "Name: 18, dtype: object\n",
      "\n",
      "文章標題                               按穴道也能顧牙齒！按摩 5 穴道讓牙齒更健康\n",
      "文章網址                  https://heho.com.tw/archives/165074\n",
      "圖片      https://heho.com.tw/wp-content/uploads/2021/03...\n",
      "部位                                                     牙齒\n",
      "症狀                                                     養生\n",
      "Name: 19, dtype: object\n",
      "\n",
      "文章標題                                  冬天皮在癢，敲打肺經、按穴道止癢有解!\n",
      "文章網址                   https://heho.com.tw/archives/30075\n",
      "圖片      https://heho.com.tw/wp-content/uploads/2018/12...\n",
      "部位                                                     皮膚\n",
      "症狀                                                     止癢\n",
      "Name: 20, dtype: object\n",
      "\n",
      "文章標題                                     常按魔法穴道，改善孩子皮膚炎困擾\n",
      "文章網址                  https://heho.com.tw/archives/147500\n",
      "圖片      https://heho.com.tw/wp-content/uploads/2020/11...\n",
      "部位                                                     皮膚\n",
      "症狀                                                    皮膚炎\n",
      "Name: 21, dtype: object\n",
      "\n",
      "文章標題                                  止癢不用抓!異位性皮膚炎，按穴道也有效\n",
      "文章網址                   https://heho.com.tw/archives/15828\n",
      "圖片      https://heho.com.tw/wp-content/uploads/2018/06...\n",
      "部位                                                     皮膚\n",
      "症狀                                                 異位性皮膚炎\n",
      "Name: 22, dtype: object\n",
      "\n",
      "文章標題                                  按穴道也能消痘痘，4種類型「痘」有效！\n",
      "文章網址                   https://heho.com.tw/archives/54400\n",
      "圖片      https://heho.com.tw/wp-content/uploads/2019/08...\n",
      "部位                                                     皮膚\n",
      "症狀                                                     痘痘\n",
      "Name: 23, dtype: object\n",
      "\n",
      "文章標題                                 天氣悶熱汗臭、體味重？4大穴道清熱除臭！\n",
      "文章網址                   https://heho.com.tw/archives/82545\n",
      "圖片      https://heho.com.tw/wp-content/uploads/2020/05...\n",
      "部位                                                     全身\n",
      "症狀                                                     汗臭\n",
      "Name: 24, dtype: object\n",
      "\n",
      "文章標題                                    2招穴道按摩，提升孩子免疫力防過敏\n",
      "文章網址                  https://heho.com.tw/archives/136701\n",
      "圖片      https://heho.com.tw/wp-content/uploads/2020/09...\n",
      "部位                                                     全身\n",
      "症狀                                                    免疫力\n",
      "Name: 25, dtype: object\n",
      "\n",
      "文章標題                                  啟動身體免疫力！5個穴道解決身體小毛病\n",
      "文章網址                   https://heho.com.tw/archives/65873\n",
      "圖片      https://heho.com.tw/wp-content/uploads/2020/01...\n",
      "部位                                                     全身\n",
      "症狀                                                    免疫力\n",
      "Name: 26, dtype: object\n",
      "\n",
      "文章標題                                     對抗流感，常按４穴道提升免疫力！\n",
      "文章網址                   https://heho.com.tw/archives/64156\n",
      "圖片      https://heho.com.tw/wp-content/uploads/2020/01...\n",
      "部位                                                     全身\n",
      "症狀                                                    免疫力\n",
      "Name: 27, dtype: object\n",
      "\n",
      "文章標題                                  夏季預防冷氣病，勤按4穴道提升免疫力!\n",
      "文章網址                   https://heho.com.tw/archives/89465\n",
      "圖片      https://heho.com.tw/wp-content/uploads/2020/07...\n",
      "部位                                                     全身\n",
      "症狀                                                    免疫力\n",
      "Name: 28, dtype: object\n",
      "\n",
      "文章標題                                       趕走慢性疲勞，常揉 6 穴道\n",
      "文章網址                  https://heho.com.tw/archives/180695\n",
      "圖片      https://heho.com.tw/wp-content/uploads/2021/06...\n",
      "部位                                                     全身\n",
      "症狀                                                     疲勞\n",
      "Name: 29, dtype: object\n",
      "\n",
      "文章標題                                按摩這三組穴位可有效紓解「慢性疲勞症候群」\n",
      "文章網址                  https://heho.com.tw/archives/267950\n",
      "圖片      https://heho.com.tw/wp-content/uploads/2023/03...\n",
      "部位                                                     全身\n",
      "症狀                                                     疲勞\n",
      "Name: 30, dtype: object\n",
      "\n",
      "文章標題                                       全身各種疼痛，6穴道對症來解\n",
      "文章網址                   https://heho.com.tw/archives/63109\n",
      "圖片      https://heho.com.tw/wp-content/uploads/2020/01...\n",
      "部位                                                     全身\n",
      "症狀                                                     疼痛\n",
      "Name: 31, dtype: object\n",
      "\n",
      "文章標題                                    急救保命必收藏！身體的６大急救穴道\n",
      "文章網址                   https://heho.com.tw/archives/90853\n",
      "圖片      https://heho.com.tw/wp-content/uploads/2020/07...\n",
      "部位                                                     全身\n",
      "症狀                                                     疼痛\n",
      "Name: 32, dtype: object\n",
      "\n",
      "文章標題                                           人體５大器官排毒穴道\n",
      "文章網址                   https://heho.com.tw/archives/15237\n",
      "圖片      https://heho.com.tw/wp-content/uploads/2018/06...\n",
      "部位                                                     全身\n",
      "症狀                                                     排毒\n",
      "Name: 33, dtype: object\n",
      "\n",
      "文章標題                          打通經絡　痠痛不在！６個治痠痛穴道，肩頸腰痠一次Ｋ.Ｏ\n",
      "文章網址                   https://heho.com.tw/archives/40602\n",
      "圖片      https://heho.com.tw/wp-content/uploads/2019/03...\n",
      "部位                                                     全身\n",
      "症狀                                                     痠痛\n",
      "Name: 34, dtype: object\n",
      "\n",
      "文章標題                                    ４大穴道解痠痛，打掃不再腰痠背痛！\n",
      "文章網址                   https://heho.com.tw/archives/63507\n",
      "圖片      https://heho.com.tw/wp-content/uploads/2020/01...\n",
      "部位                                                     全身\n",
      "症狀                                                     痠痛\n",
      "Name: 35, dtype: object\n",
      "\n",
      "文章標題                                       6個穴道助代謝，脂肪不囤積!\n",
      "文章網址                    https://heho.com.tw/archives/8400\n",
      "圖片      https://heho.com.tw/wp-content/uploads/2018/02...\n",
      "部位                                                     全身\n",
      "症狀                                                   新陳代謝\n",
      "Name: 36, dtype: object\n",
      "\n",
      "文章標題                                   放假吃太多？4消脂穴道，促進循環代謝\n",
      "文章網址                  https://heho.com.tw/archives/205888\n",
      "圖片      https://heho.com.tw/wp-content/uploads/2022/02...\n",
      "部位                                                     全身\n",
      "症狀                                                   新陳代謝\n",
      "Name: 37, dtype: object\n",
      "\n",
      "文章標題                                  ８穴道提升代謝、除脂肪！讓你年後不發胖\n",
      "文章網址                   https://heho.com.tw/archives/37908\n",
      "圖片      https://heho.com.tw/wp-content/uploads/2019/01...\n",
      "部位                                                     全身\n",
      "症狀                                                   新陳代謝\n",
      "Name: 38, dtype: object\n",
      "\n",
      "文章標題                                         你該知道耳朵上的瘦身穴道\n",
      "文章網址                    https://heho.com.tw/archives/8487\n",
      "圖片      https://heho.com.tw/wp-content/uploads/2018/02...\n",
      "部位                                                     全身\n",
      "症狀                                                     瘦身\n",
      "Name: 39, dtype: object\n",
      "\n",
      "文章標題                                      按穴道通經活絡，打造出易瘦體質\n",
      "文章網址                   https://heho.com.tw/archives/50437\n",
      "圖片      https://heho.com.tw/wp-content/uploads/2019/05...\n",
      "部位                                                     全身\n",
      "症狀                                                     瘦身\n",
      "Name: 40, dtype: object\n",
      "\n",
      "文章標題                                     瘦小腹必備！６大減脂穴道改善代謝\n",
      "文章網址                  https://heho.com.tw/archives/226806\n",
      "圖片      https://heho.com.tw/wp-content/uploads/2022/06...\n",
      "部位                                                     全身\n",
      "症狀                                                     瘦身\n",
      "Name: 41, dtype: object\n",
      "\n",
      "文章標題                                     瘦身４穴道促進代謝，打造易瘦體質\n",
      "文章網址                  https://heho.com.tw/archives/179059\n",
      "圖片      https://heho.com.tw/wp-content/uploads/2021/06...\n",
      "部位                                                     全身\n",
      "症狀                                                     瘦身\n",
      "Name: 42, dtype: object\n",
      "\n",
      "文章標題                                     瘦身必備！５個重點穴道從頭瘦到腳\n",
      "文章網址                   https://heho.com.tw/archives/81652\n",
      "圖片      https://heho.com.tw/wp-content/uploads/2020/05...\n",
      "部位                                                     全身\n",
      "症狀                                                     瘦身\n",
      "Name: 43, dtype: object\n",
      "\n",
      "文章標題                                  冬至補陽好時機，按５穴道陽氣充足不生病\n",
      "文章網址                  https://heho.com.tw/archives/152947\n",
      "圖片      https://heho.com.tw/wp-content/uploads/2020/12...\n",
      "部位                                                     全身\n",
      "症狀                                                     養生\n",
      "Name: 44, dtype: object\n",
      "\n",
      "文章標題                                 4 種身體的「虛」，按摩對應穴道來保養！\n",
      "文章網址                   https://heho.com.tw/archives/86230\n",
      "圖片      https://heho.com.tw/wp-content/uploads/2020/06...\n",
      "部位                                                     全身\n",
      "症狀                                                     養生\n",
      "Name: 45, dtype: object\n",
      "\n",
      "文章標題                                 常按神奇 2 穴道，讓孩子長高、變聰明！\n",
      "文章網址                  https://heho.com.tw/archives/136091\n",
      "圖片      https://heho.com.tw/wp-content/uploads/2020/09...\n",
      "部位                                                     全身\n",
      "症狀                                                     養生\n",
      "Name: 46, dtype: object\n",
      "\n",
      "文章標題                                     按壓手掌６穴位，輕鬆保養五臟六腑\n",
      "文章網址                   https://heho.com.tw/archives/37152\n",
      "圖片      https://heho.com.tw/wp-content/uploads/2019/01...\n",
      "部位                                                     全身\n",
      "症狀                                                     養生\n",
      "Name: 47, dtype: object\n",
      "\n",
      "文章標題                                 夏天濕熱易上火？揉按4穴道祛濕除熱好養身\n",
      "文章網址                   https://heho.com.tw/archives/49020\n",
      "圖片      https://heho.com.tw/wp-content/uploads/2019/05...\n",
      "部位                                                     全身\n",
      "症狀                                                     養生\n",
      "Name: 48, dtype: object\n",
      "\n",
      "文章標題                                    常按６穴道，助舒壓、解身體大小困擾\n",
      "文章網址                  https://heho.com.tw/archives/168060\n",
      "圖片      https://heho.com.tw/wp-content/uploads/2021/04...\n",
      "部位                                                     全身\n",
      "症狀                                                     養生\n",
      "Name: 49, dtype: object\n",
      "\n",
      "文章標題                                        ５大穴道擊退虛寒、水腫體質\n",
      "文章網址                  https://heho.com.tw/archives/157822\n",
      "圖片      https://heho.com.tw/wp-content/uploads/2021/01...\n",
      "部位                                                     全身\n",
      "症狀                                                     養生\n",
      "Name: 50, dtype: object\n",
      "\n",
      "文章標題                                   穀雨時節養生秘訣，５穴道去濕邪又助眠\n",
      "文章網址                   https://heho.com.tw/archives/79088\n",
      "圖片      https://heho.com.tw/wp-content/uploads/2020/04...\n",
      "部位                                                     全身\n",
      "症狀                                                     養生\n",
      "Name: 51, dtype: object\n",
      "\n",
      "文章標題                                     養生必備！6個補氣強身的特效穴位\n",
      "文章網址                   https://heho.com.tw/archives/59263\n",
      "圖片      https://heho.com.tw/wp-content/uploads/2019/11...\n",
      "部位                                                     全身\n",
      "症狀                                                     養生\n",
      "Name: 52, dtype: object\n",
      "\n",
      "文章標題                                     越按越健康！必收藏的６個養生穴道\n",
      "文章網址                  https://heho.com.tw/archives/166568\n",
      "圖片      https://heho.com.tw/wp-content/uploads/2021/03...\n",
      "部位                                                     全身\n",
      "症狀                                                     養生\n",
      "Name: 53, dtype: object\n",
      "\n",
      "文章標題                                    按穴道防血栓，４個穴道幫助活血化瘀\n",
      "文章網址                  https://heho.com.tw/archives/165792\n",
      "圖片      https://heho.com.tw/wp-content/uploads/2021/03...\n",
      "部位                                                     血管\n",
      "症狀                                                     血栓\n",
      "Name: 54, dtype: object\n",
      "\n",
      "文章標題                                  溫差大要當「心」，按摩穴道穩血壓防疾病\n",
      "文章網址                   https://heho.com.tw/archives/59883\n",
      "圖片      https://heho.com.tw/wp-content/uploads/2019/11...\n",
      "部位                                                     血管\n",
      "症狀                                                     血壓\n",
      "Name: 55, dtype: object\n",
      "\n",
      "文章標題                                   降低血壓從頭到腳，不可不知5大穴道！\n",
      "文章網址                   https://heho.com.tw/archives/18849\n",
      "圖片      https://heho.com.tw/wp-content/uploads/2018/07...\n",
      "部位                                                     血管\n",
      "症狀                                                     血壓\n",
      "Name: 56, dtype: object\n",
      "\n",
      "文章標題                              私密處搔癢、分泌物多？按 4 穴道遠離婦科困擾\n",
      "文章網址                  https://heho.com.tw/archives/171406\n",
      "圖片      https://heho.com.tw/wp-content/uploads/2021/06...\n",
      "部位                                                    私密處\n",
      "症狀                                                     婦科\n",
      "Name: 57, dtype: object\n",
      "\n",
      "文章標題                                     春天養肝最好，4個穴道提升免疫力\n",
      "文章網址                    https://heho.com.tw/archives/8854\n",
      "圖片      https://heho.com.tw/wp-content/uploads/2018/03...\n",
      "部位                                                      肝\n",
      "症狀                                                    免疫力\n",
      "Name: 58, dtype: object\n",
      "\n",
      "文章標題                                  中醫治療脂肪肝 3種類型按摩穴道來調理\n",
      "文章網址                   https://heho.com.tw/archives/57554\n",
      "圖片      https://heho.com.tw/wp-content/uploads/2019/10...\n",
      "部位                                                      肝\n",
      "症狀                                                    脂肪肝\n",
      "Name: 59, dtype: object\n",
      "\n",
      "文章標題                       春天是養肝好時機！用 2 方法、壓 2 穴道為整年健康打根基\n",
      "文章網址                  https://heho.com.tw/archives/262457\n",
      "圖片      https://heho.com.tw/wp-content/uploads/2023/02...\n",
      "部位                                                      肝\n",
      "症狀                                                     養生\n",
      "Name: 60, dtype: object\n",
      "\n",
      "文章標題                                  養氣血、解肝氣，春天養肝就按這4穴道！\n",
      "文章網址                   https://heho.com.tw/archives/43710\n",
      "圖片      https://heho.com.tw/wp-content/uploads/2019/03...\n",
      "部位                                                      肝\n",
      "症狀                                                     養生\n",
      "Name: 61, dtype: object\n",
      "\n",
      "文章標題                           第四波本土疫情讓你感到焦慮？中醫師傳授三穴位安定心情\n",
      "文章網址                  https://heho.com.tw/archives/278567\n",
      "圖片      https://heho.com.tw/wp-content/uploads/2023/06...\n",
      "部位                                                     身心\n",
      "症狀                                                     焦慮\n",
      "Name: 62, dtype: object\n",
      "\n",
      "文章標題                           想要降血壓、助眠、緩解焦慮，就快按腳上6個黃金穴道！\n",
      "文章網址                   https://heho.com.tw/archives/41074\n",
      "圖片      https://heho.com.tw/wp-content/uploads/2019/03...\n",
      "部位                                                     身心\n",
      "症狀                                                  失眠,焦慮\n",
      "Name: 63, dtype: object\n",
      "\n",
      "文章標題                                        更年期困擾，8穴道助緩解!\n",
      "文章網址                   https://heho.com.tw/archives/13354\n",
      "圖片      https://heho.com.tw/wp-content/uploads/2018/05...\n",
      "部位                                                     身心\n",
      "症狀                                                    更年期\n",
      "Name: 64, dtype: object\n",
      "\n",
      "文章標題               防疫生活對策 / 疫情期間身體疲勞卻又睡不著？按摩６穴道助安神鎮靜、放鬆身心\n",
      "文章網址                  https://heho.com.tw/archives/169081\n",
      "圖片      https://heho.com.tw/wp-content/uploads/2021/04...\n",
      "部位                                                     身心\n",
      "症狀                                                     放鬆\n",
      "Name: 65, dtype: object\n",
      "\n",
      "文章標題                                           提神醒腦必備４大穴道\n",
      "文章網址                  https://heho.com.tw/archives/240060\n",
      "圖片      https://heho.com.tw/wp-content/uploads/2022/09...\n",
      "部位                                                     身心\n",
      "症狀                                                     提神\n",
      "Name: 66, dtype: object\n",
      "\n",
      "文章標題                                      按這5穴道，讓你精神百倍身體好\n",
      "文章網址                   https://heho.com.tw/archives/10470\n",
      "圖片      https://heho.com.tw/wp-content/uploads/2018/03...\n",
      "部位                                                     身心\n",
      "症狀                                                     提神\n",
      "Name: 67, dtype: object\n",
      "\n",
      "文章標題                                容易恐慌又焦慮！快按５穴位　ＫＯ緊繃狀態！\n",
      "文章網址                   https://heho.com.tw/archives/23716\n",
      "圖片      https://heho.com.tw/wp-content/uploads/2018/10...\n",
      "部位                                                     身心\n",
      "症狀                                                     焦慮\n",
      "Name: 68, dtype: object\n",
      "\n",
      "文章標題                                   緩解焦慮不安，5 穴道提升心靈自癒力\n",
      "文章網址                   https://heho.com.tw/archives/74460\n",
      "圖片      https://heho.com.tw/wp-content/uploads/2020/03...\n",
      "部位                                                     身心\n",
      "症狀                                                     焦慮\n",
      "Name: 69, dtype: object\n",
      "\n",
      "文章標題                                  坐立難安好煩躁？按摩穴道疏肝理氣遠焦慮\n",
      "文章網址                   https://heho.com.tw/archives/25066\n",
      "圖片      https://heho.com.tw/wp-content/uploads/2018/10...\n",
      "部位                                                     身心\n",
      "症狀                                                     焦慮\n",
      "Name: 70, dtype: object\n",
      "\n",
      "文章標題                                壓力大、心情差讓你肝脾失和，按6穴道遠離他\n",
      "文章網址                   https://heho.com.tw/archives/13591\n",
      "圖片      https://heho.com.tw/wp-content/uploads/2018/05...\n",
      "部位                                                     身心\n",
      "症狀                                                     焦慮\n",
      "Name: 71, dtype: object\n",
      "\n",
      "文章標題                                       按摩４個穴道，化解憂鬱不煩燥\n",
      "文章網址                   https://heho.com.tw/archives/47817\n",
      "圖片      https://heho.com.tw/wp-content/uploads/2019/04...\n",
      "部位                                                     身心\n",
      "症狀                                                     憂鬱\n",
      "Name: 72, dtype: object\n",
      "\n",
      "文章標題                            心情鬱悶也可以看中醫！3 心法 2 穴位讓你變開心\n",
      "文章網址                  https://heho.com.tw/archives/249444\n",
      "圖片      https://heho.com.tw/wp-content/uploads/2022/11...\n",
      "部位                                                     身心\n",
      "症狀                                                  憂鬱,鬱悶\n",
      "Name: 73, dtype: object\n",
      "\n",
      "文章標題                               按壓這 4 穴位安定心神、疏肝解鬱又「養肝」\n",
      "文章網址                  https://heho.com.tw/archives/259008\n",
      "圖片      https://heho.com.tw/wp-content/uploads/2023/01...\n",
      "部位                                                     身心\n",
      "症狀                                                  憂鬱,鬱悶\n",
      "Name: 74, dtype: object\n",
      "\n",
      "文章標題                               氣虛讓人易累又嗜睡，5大補氣穴位補出好元氣！\n",
      "文章網址                   https://heho.com.tw/archives/57073\n",
      "圖片      https://heho.com.tw/wp-content/uploads/2019/09...\n",
      "部位                                                     身心\n",
      "症狀                                                     養生\n",
      "Name: 75, dtype: object\n",
      "\n",
      "文章標題                                   按對穴道紓壓保健康，上班族必備6穴道\n",
      "文章網址                   https://heho.com.tw/archives/18156\n",
      "圖片      https://heho.com.tw/wp-content/uploads/2018/07...\n",
      "部位                                                     身心\n",
      "症狀                                                     養生\n",
      "Name: 76, dtype: object\n",
      "\n",
      "文章標題                                   紓壓降火氣！4穴道安定心神、養好心情\n",
      "文章網址                  https://heho.com.tw/archives/198222\n",
      "圖片      https://heho.com.tw/wp-content/uploads/2021/12...\n",
      "部位                                                     身心\n",
      "症狀                                                     養生\n",
      "Name: 77, dtype: object\n",
      "\n",
      "文章標題                                      保養呼吸道！6個穴道清肺又排毒\n",
      "文章網址                   https://heho.com.tw/archives/60379\n",
      "圖片      https://heho.com.tw/wp-content/uploads/2019/11...\n",
      "部位                                                    呼吸道\n",
      "症狀                                                     養生\n",
      "Name: 78, dtype: object\n",
      "\n",
      "文章標題                                     秋季易傷呼吸道，3穴道滋陰防秋燥\n",
      "文章網址                  https://heho.com.tw/archives/139782\n",
      "圖片      https://heho.com.tw/wp-content/uploads/2020/09...\n",
      "部位                                                    呼吸道\n",
      "症狀                                                     養生\n",
      "Name: 79, dtype: object\n",
      "\n",
      "文章標題                                  喉嚨癢癢快感冒，按 4 穴道保養呼吸道\n",
      "文章網址                   https://heho.com.tw/archives/58191\n",
      "圖片      https://heho.com.tw/wp-content/uploads/2019/10...\n",
      "部位                                                    呼吸道\n",
      "症狀                                                     養生\n",
      "Name: 80, dtype: object\n",
      "\n",
      "文章標題                            夜咳、有痰可能是肺臟太濕了，快按５穴位讓濕氣退散！\n",
      "文章網址                   https://heho.com.tw/archives/57355\n",
      "圖片      https://heho.com.tw/wp-content/uploads/2018/12...\n",
      "部位                                                      肺\n",
      "症狀                                                     咳嗽\n",
      "Name: 81, dtype: object\n",
      "\n",
      "文章標題                            夜咳、有痰可能是肺臟太濕了，快按５穴位讓濕氣退散！\n",
      "文章網址                   https://heho.com.tw/archives/33746\n",
      "圖片      https://heho.com.tw/wp-content/uploads/2018/12...\n",
      "部位                                                      肺\n",
      "症狀                                                     咳嗽\n",
      "Name: 82, dtype: object\n",
      "\n",
      "文章標題                                     養肺顧氣管，預防感冒就按４穴道！\n",
      "文章網址                   https://heho.com.tw/archives/49819\n",
      "圖片      https://heho.com.tw/wp-content/uploads/2019/05...\n",
      "部位                                                      肺\n",
      "症狀                                                     養生\n",
      "Name: 83, dtype: object\n",
      "\n",
      "文章標題                                    按這四大穴位，改善「胃食道逆流」！\n",
      "文章網址                  https://heho.com.tw/archives/270648\n",
      "圖片      https://heho.com.tw/wp-content/uploads/2023/04...\n",
      "部位                                                      胃\n",
      "症狀                                                  胃食道逆流\n",
      "Name: 84, dtype: object\n",
      "\n",
      "文章標題                                   健康保「胃」戰！術養穴道，胃病不上門\n",
      "文章網址                   https://heho.com.tw/archives/15088\n",
      "圖片      https://heho.com.tw/wp-content/uploads/2018/06...\n",
      "部位                                                      胃\n",
      "症狀                                                     胃病\n",
      "Name: 85, dtype: object\n",
      "\n",
      "文章標題                                    跑步跑到胃痛！快按這３大穴位速緩解\n",
      "文章網址                   https://heho.com.tw/archives/40039\n",
      "圖片      https://heho.com.tw/wp-content/uploads/2019/02...\n",
      "部位                                                      胃\n",
      "症狀                                                     胃痛\n",
      "Name: 86, dtype: object\n",
      "\n",
      "文章標題                                 脹氣、胃痛、消化不良？按4穴道顧胃養好身\n",
      "文章網址                   https://heho.com.tw/archives/53194\n",
      "圖片      https://heho.com.tw/wp-content/uploads/2019/07...\n",
      "部位                                                      胃\n",
      "症狀                                                     胃痛\n",
      "Name: 87, dtype: object\n",
      "\n",
      "文章標題                                   食慾不振又反胃，５個穴位按出好胃口！\n",
      "文章網址                  https://heho.com.tw/archives/142915\n",
      "圖片      https://heho.com.tw/wp-content/uploads/2020/10...\n",
      "部位                                                      胃\n",
      "症狀                                                   食慾不振\n",
      "Name: 88, dtype: object\n",
      "\n",
      "文章標題                                  消化不良怎麼辦？按４穴道腸胃暢通不塞車\n",
      "文章網址                  https://heho.com.tw/archives/161185\n",
      "圖片      https://heho.com.tw/wp-content/uploads/2021/02...\n",
      "部位                                                      胃\n",
      "症狀                                                     消化\n",
      "Name: 89, dtype: object\n",
      "\n",
      "文章標題                                       按對穴道，改善消化道大小毛病\n",
      "文章網址                  https://heho.com.tw/archives/163086\n",
      "圖片      https://heho.com.tw/wp-content/uploads/2021/02...\n",
      "部位                                                      胃\n",
      "症狀                                                     消化\n",
      "Name: 90, dtype: object\n",
      "\n",
      "文章標題                                  吃太飽胃脹、消化不良？按４個穴道助消化\n",
      "文章網址                   https://heho.com.tw/archives/63461\n",
      "圖片      https://heho.com.tw/wp-content/uploads/2018/02...\n",
      "部位                                                      胃\n",
      "症狀                                                     脹氣\n",
      "Name: 91, dtype: object\n",
      "\n",
      "文章標題                               聚餐吃太飽胃脹氣？５穴位快速緩解脹氣、胃不適\n",
      "文章網址                   https://heho.com.tw/archives/37902\n",
      "圖片      https://heho.com.tw/wp-content/uploads/2019/01...\n",
      "部位                                                      胃\n",
      "症狀                                                     脹氣\n",
      "Name: 92, dtype: object\n",
      "\n",
      "文章標題                                吃太飽不舒服，按4個穴道KO脹氣、消化不良\n",
      "文章網址                    https://heho.com.tw/archives/8285\n",
      "圖片      https://heho.com.tw/wp-content/uploads/2018/02...\n",
      "部位                                                      胃\n",
      "症狀                                                     脹氣\n",
      "Name: 93, dtype: object\n",
      "\n",
      "文章標題                                  一指搞定腸胃問題！4穴道解胃痛、消脹氣\n",
      "文章網址                  https://heho.com.tw/archives/190917\n",
      "圖片      https://heho.com.tw/wp-content/uploads/2021/09...\n",
      "部位                                                      胃\n",
      "症狀                                                     脹氣\n",
      "Name: 94, dtype: object\n",
      "\n",
      "文章標題                                    改善火燒心！養胃４大穴道提升胃健康\n",
      "文章網址                  https://heho.com.tw/archives/224095\n",
      "圖片      https://heho.com.tw/wp-content/uploads/2022/06...\n",
      "部位                                                      胃\n",
      "症狀                                                     養生\n",
      "Name: 95, dtype: object\n",
      "\n",
      "文章標題                                腸胃炎上吐下瀉好困擾！手腳２穴位緩解不適感\n",
      "文章網址                  https://heho.com.tw/archives/256044\n",
      "圖片      https://heho.com.tw/wp-content/uploads/2022/12...\n",
      "部位                                                    胃,腸\n",
      "症狀                                                    腸胃炎\n",
      "Name: 96, dtype: object\n",
      "\n",
      "文章標題                                腸躁症讓人便秘又腹瀉！中醫教你4穴位遠離它\n",
      "文章網址                   https://heho.com.tw/archives/45938\n",
      "圖片      https://heho.com.tw/wp-content/uploads/2019/04...\n",
      "部位                                                    胃,腸\n",
      "症狀                                                    腸胃炎\n",
      "Name: 97, dtype: object\n",
      "\n",
      "文章標題                                    擁有好腸胃，保健腸胃必學 5 穴位\n",
      "文章網址                   https://heho.com.tw/archives/71830\n",
      "圖片      https://heho.com.tw/wp-content/uploads/2020/03...\n",
      "部位                                                    胃,腸\n",
      "症狀                                                     養生\n",
      "Name: 98, dtype: object\n",
      "\n",
      "文章標題                                      按摩6穴道，調理自律神經不失調\n",
      "文章網址                   https://heho.com.tw/archives/24458\n",
      "圖片      https://heho.com.tw/wp-content/uploads/2018/10...\n",
      "部位                                                     神經\n",
      "症狀                                                 自律神經失調\n",
      "Name: 99, dtype: object\n",
      "\n",
      "文章標題                                「自律神經失調」會好嗎？這四穴位平衡身心靈\n",
      "文章網址                  https://heho.com.tw/archives/265495\n",
      "圖片      https://heho.com.tw/wp-content/uploads/2023/03...\n",
      "部位                                                     神經\n",
      "症狀                                                 自律神經失調\n",
      "Name: 100, dtype: object\n",
      "\n",
      "文章標題                                    改善自律神經失調，４穴道啟動自癒力\n",
      "文章網址                  https://heho.com.tw/archives/246433\n",
      "圖片      https://heho.com.tw/wp-content/uploads/2022/10...\n",
      "部位                                                     神經\n",
      "症狀                                                 自律神經失調\n",
      "Name: 101, dtype: object\n",
      "\n",
      "文章標題                                  溫差大自律神經易失調！按摩４穴道助平衡\n",
      "文章網址                  https://heho.com.tw/archives/145158\n",
      "圖片      https://heho.com.tw/wp-content/uploads/2020/10...\n",
      "部位                                                     神經\n",
      "症狀                                                 自律神經失調\n",
      "Name: 102, dtype: object\n",
      "\n",
      "文章標題                             胸悶Get Out！4穴道讓你『解悶』，大口呼吸\n",
      "文章網址                    https://heho.com.tw/archives/9421\n",
      "圖片      https://heho.com.tw/wp-content/uploads/2018/03...\n",
      "部位                                                     胸部\n",
      "症狀                                                     胸悶\n",
      "Name: 103, dtype: object\n",
      "\n",
      "文章標題                                 痰濕讓人長痘、胸悶、水腫！3穴道健脾化濕\n",
      "文章網址                   https://heho.com.tw/archives/85812\n",
      "圖片      https://heho.com.tw/wp-content/uploads/2020/06...\n",
      "部位                                                     胸部\n",
      "症狀                                                  胸悶,痘痘\n",
      "Name: 104, dtype: object\n",
      "\n",
      "文章標題                                   打嗝不停時，這2個穴位讓你立即止嗝！\n",
      "文章網址                   https://heho.com.tw/archives/10334\n",
      "圖片      https://heho.com.tw/wp-content/uploads/2018/03...\n",
      "部位                                                     喉嚨\n",
      "症狀                                                     打嗝\n",
      "Name: 105, dtype: object\n",
      "\n",
      "文章標題                                      止咳四穴道，急性和久咳都適用！\n",
      "文章網址                    https://heho.com.tw/archives/9166\n",
      "圖片      https://heho.com.tw/wp-content/uploads/2018/03...\n",
      "部位                                                     喉嚨\n",
      "症狀                                                     咳嗽\n",
      "Name: 106, dtype: object\n",
      "\n",
      "文章標題                                       小雪養生穴道，養腎防寒又防病\n",
      "文章網址                  https://heho.com.tw/archives/146727\n",
      "圖片      https://heho.com.tw/wp-content/uploads/2020/11...\n",
      "部位                                                      腎\n",
      "症狀                                                     養生\n",
      "Name: 107, dtype: object\n",
      "\n",
      "文章標題                                冬天養腎補氣！按4穴道提高免疫力 不怕生病\n",
      "文章網址                   https://heho.com.tw/archives/61413\n",
      "圖片      https://heho.com.tw/wp-content/uploads/2019/12...\n",
      "部位                                                      腎\n",
      "症狀                                                     養生\n",
      "Name: 108, dtype: object\n",
      "\n",
      "文章標題                                        冬季養生先養腎，術養四穴位\n",
      "文章網址                    https://heho.com.tw/archives/3723\n",
      "圖片      https://heho.com.tw/wp-content/uploads/2017/12...\n",
      "部位                                                      腎\n",
      "症狀                                                     養生\n",
      "Name: 109, dtype: object\n",
      "\n",
      "文章標題                                        按摩 4 穴道養好腎補元氣\n",
      "文章網址                  https://heho.com.tw/archives/243580\n",
      "圖片      https://heho.com.tw/wp-content/uploads/2022/09...\n",
      "部位                                                      腎\n",
      "症狀                                                     養生\n",
      "Name: 110, dtype: object\n",
      "\n",
      "文章標題                                  養腎養好髮！按3大腎經穴位養出烏黑秀髮\n",
      "文章網址                   https://heho.com.tw/archives/28690\n",
      "圖片      https://heho.com.tw/wp-content/uploads/2018/11...\n",
      "部位                                                      腎\n",
      "症狀                                                     養生\n",
      "Name: 111, dtype: object\n",
      "\n",
      "文章標題                                 按這些穴位就對了！幫助降低你的腦中風危機\n",
      "文章網址                    https://heho.com.tw/archives/3858\n",
      "圖片      https://heho.com.tw/wp-content/uploads/2017/12...\n",
      "部位                                                     腦部\n",
      "症狀                                                    腦中風\n",
      "Name: 112, dtype: object\n",
      "\n",
      "文章標題                                    活血關節通！3黃金穴道緩解膝蓋痠痛\n",
      "文章網址                  https://heho.com.tw/archives/176498\n",
      "圖片      https://heho.com.tw/wp-content/uploads/2021/06...\n",
      "部位                                                     膝蓋\n",
      "症狀                                                     疼痛\n",
      "Name: 113, dtype: object\n",
      "\n",
      "文章標題                                  運動後膝蓋痛？４個穴道保養膝蓋緩解不適\n",
      "文章網址                  https://heho.com.tw/archives/184876\n",
      "圖片      https://heho.com.tw/wp-content/uploads/2021/07...\n",
      "部位                                                     膝蓋\n",
      "症狀                                                     疼痛\n",
      "Name: 114, dtype: object\n",
      "\n",
      "文章標題                                  膝蓋痛又無力？快按４穴道活絡氣血護膝蓋\n",
      "文章網址                   https://heho.com.tw/archives/43890\n",
      "圖片      https://heho.com.tw/wp-content/uploads/2019/03...\n",
      "部位                                                     膝蓋\n",
      "症狀                                                     疼痛\n",
      "Name: 115, dtype: object\n",
      "\n",
      "文章標題                                   按這５穴道　腰、膝蓋痛、便祕一次改善\n",
      "文章網址                   https://heho.com.tw/archives/18363\n",
      "圖片      https://heho.com.tw/wp-content/uploads/2018/07...\n",
      "部位                                                     膝蓋\n",
      "症狀                                                  疼痛,便祕\n",
      "Name: 116, dtype: object\n",
      "\n",
      "文章標題                                     5大生髮穴道，強健頭皮助頭髮生長\n",
      "文章網址                  https://heho.com.tw/archives/128855\n",
      "圖片      https://heho.com.tw/wp-content/uploads/2020/08...\n",
      "部位                                                     頭部\n",
      "症狀                                                     保健\n",
      "Name: 117, dtype: object\n",
      "\n",
      "文章標題                                   頭皮屑多又頻掉髮？5穴道對付頭髮煩惱\n",
      "文章網址                   https://heho.com.tw/archives/58948\n",
      "圖片      https://heho.com.tw/wp-content/uploads/2019/10...\n",
      "部位                                                     頭部\n",
      "症狀                                                     掉髮\n",
      "Name: 118, dtype: object\n",
      "\n",
      "文章標題                                     暈車按摩５穴道，放假出遊不掃興！\n",
      "文章網址                   https://heho.com.tw/archives/63323\n",
      "圖片      https://heho.com.tw/wp-content/uploads/2020/01...\n",
      "部位                                                     頭部\n",
      "症狀                                                     暈車\n",
      "Name: 119, dtype: object\n",
      "\n",
      "文章標題                                      暈車按穴道有解，不讓出遊好掃興\n",
      "文章網址                    https://heho.com.tw/archives/8305\n",
      "圖片      https://heho.com.tw/wp-content/uploads/2019/10...\n",
      "部位                                                     頭部\n",
      "症狀                                                     暈車\n",
      "Name: 120, dtype: object\n",
      "\n",
      "文章標題                                     ２飲食＋４穴道，讓你烏髮又健髮！\n",
      "文章網址                   https://heho.com.tw/archives/14835\n",
      "圖片      https://heho.com.tw/wp-content/uploads/2018/06...\n",
      "部位                                                     頭部\n",
      "症狀                                                     養生\n",
      "Name: 121, dtype: object\n",
      "\n",
      "文章標題                                 對抗掉髮、禿頭危機，就按摩6穴道保養頭皮\n",
      "文章網址                   https://heho.com.tw/archives/26175\n",
      "圖片      https://heho.com.tw/wp-content/uploads/2018/10...\n",
      "部位                                                     頭部\n",
      "症狀                                                     養生\n",
      "Name: 122, dtype: object\n",
      "\n",
      "文章標題                                  宿醉頭痛想吐？ 4穴道快速緩解宿醉不適\n",
      "文章網址                  https://heho.com.tw/archives/161900\n",
      "圖片      https://heho.com.tw/wp-content/uploads/2021/02...\n",
      "部位                                                     頭部\n",
      "症狀                                                     頭痛\n",
      "Name: 123, dtype: object\n",
      "\n",
      "文章標題                                      輕敲６穴位通氣血，擊退偏頭痛！\n",
      "文章網址                   https://heho.com.tw/archives/41847\n",
      "圖片      https://heho.com.tw/wp-content/uploads/2019/03...\n",
      "部位                                                     頭部\n",
      "症狀                                                     頭痛\n",
      "Name: 124, dtype: object\n",
      "\n",
      "文章標題                                   過敏性頭痛好不舒服！３個穴位舒緩疼痛\n",
      "文章網址                  https://heho.com.tw/archives/238140\n",
      "圖片      https://heho.com.tw/wp-content/uploads/2022/08...\n",
      "部位                                                     頭部\n",
      "症狀                                                     頭痛\n",
      "Name: 125, dtype: object\n",
      "\n",
      "文章標題                                   冷氣使人頭痛不出汗，３穴道改善冷氣病\n",
      "文章網址                  https://heho.com.tw/archives/176066\n",
      "圖片      https://heho.com.tw/wp-content/uploads/2021/05...\n",
      "部位                                                     頭部\n",
      "症狀                                                     頭痛\n",
      "Name: 126, dtype: object\n",
      "\n",
      "文章標題                                     對症解頭痛，3種頭痛按穴道速舒緩\n",
      "文章網址                  https://heho.com.tw/archives/154248\n",
      "圖片      https://heho.com.tw/wp-content/uploads/2021/01...\n",
      "部位                                                     頭部\n",
      "症狀                                                     頭痛\n",
      "Name: 127, dtype: object\n",
      "\n",
      "文章標題                                  變天就頭痛，按摩 4 穴道擊退天氣痛！\n",
      "文章網址                   https://heho.com.tw/archives/58485\n",
      "圖片      https://heho.com.tw/wp-content/uploads/2019/10...\n",
      "部位                                                     頭部\n",
      "症狀                                                     頭痛\n",
      "Name: 128, dtype: object\n",
      "\n",
      "文章標題                                  眩暈、頭暈好難受？巧按4穴道緩解兼保養\n",
      "文章網址                   https://heho.com.tw/archives/85558\n",
      "圖片      https://heho.com.tw/wp-content/uploads/2020/05...\n",
      "部位                                                     頭部\n",
      "症狀                                                     頭暈\n",
      "Name: 129, dtype: object\n",
      "\n",
      "文章標題                                     頭暈、頭痛好難受？４大穴道速緩解\n",
      "文章網址                  https://heho.com.tw/archives/192946\n",
      "圖片      https://heho.com.tw/wp-content/uploads/2021/10...\n",
      "部位                                                     頭部\n",
      "症狀                                                  頭暈,頭痛\n",
      "Name: 130, dtype: object\n",
      "\n",
      "文章標題                                      揉按5穴位，改善偶發的頭暈目眩\n",
      "文章網址                   https://heho.com.tw/archives/33412\n",
      "圖片      https://heho.com.tw/wp-content/uploads/2018/12...\n",
      "部位                                                     頭部\n",
      "症狀                                                  頭暈,頭痛\n",
      "Name: 131, dtype: object\n",
      "\n",
      "文章標題                                      一睡醒就落枕！４個穴位緩解疼痛\n",
      "文章網址                   https://heho.com.tw/archives/89593\n",
      "圖片      https://heho.com.tw/wp-content/uploads/2020/07...\n",
      "部位                                                     頸部\n",
      "症狀                                                     落枕\n",
      "Name: 132, dtype: object\n",
      "\n",
      "文章標題                                   舉手不「肩」難，按壓4穴道舒緩50肩\n",
      "文章網址                   https://heho.com.tw/archives/12259\n",
      "圖片      https://heho.com.tw/wp-content/uploads/2018/04...\n",
      "部位                                                  頸部,肩頸\n",
      "症狀                                                    50肩\n",
      "Name: 133, dtype: object\n",
      "\n",
      "文章標題                                      6大穴位讓你肩頸放鬆又能豐胸！\n",
      "文章網址                    https://heho.com.tw/archives/9983\n",
      "圖片      https://heho.com.tw/wp-content/uploads/2018/03...\n",
      "部位                                                  頸部,肩頸\n",
      "症狀                                                   肩頸痠痛\n",
      "Name: 134, dtype: object\n",
      "\n",
      "文章標題                                   對付肩頸痠痛，按摩４個穴道馬上見效！\n",
      "文章網址                   https://heho.com.tw/archives/69039\n",
      "圖片      https://heho.com.tw/wp-content/uploads/2020/02...\n",
      "部位                                                  頸部,肩頸\n",
      "症狀                                                   肩頸痠痛\n",
      "Name: 135, dtype: object\n",
      "\n",
      "文章標題                                          舒緩肩頸酸痛的重要穴位\n",
      "文章網址                    https://heho.com.tw/archives/1523\n",
      "圖片      https://heho.com.tw/wp-content/uploads/2017/10...\n",
      "部位                                                  頸部,肩頸\n",
      "症狀                                                   肩頸痠痛\n",
      "Name: 136, dtype: object\n",
      "\n",
      "文章標題                                鼻子又不舒服了嗎 ?按摩這些穴位改善過敏鼻\n",
      "文章網址                    https://heho.com.tw/archives/3980\n",
      "圖片      https://heho.com.tw/wp-content/uploads/2017/12...\n",
      "部位                                                     臉部\n",
      "症狀                                                     過敏\n",
      "Name: 137, dtype: object\n",
      "\n",
      "文章標題                                 過敏性鼻炎多氣虛，3類型按穴道補氣抗過敏\n",
      "文章網址                  https://heho.com.tw/archives/131199\n",
      "圖片      https://heho.com.tw/wp-content/uploads/2020/08...\n",
      "部位                                                     臉部\n",
      "症狀                                                     鼻炎\n",
      "Name: 138, dtype: object\n",
      "\n",
      "文章標題                                     嘴破怎麼辦？４穴道消炎解痛更快好\n",
      "文章網址                   https://heho.com.tw/archives/57857\n",
      "圖片      https://heho.com.tw/wp-content/uploads/2019/10...\n",
      "部位                                                     臉部\n",
      "症狀                                                     嘴破\n",
      "Name: 139, dtype: object\n",
      "\n",
      "文章標題                                   年長者眼茫茫，舒緩疲勞眼，按壓４穴位\n",
      "文章網址                   https://heho.com.tw/archives/21863\n",
      "圖片      https://heho.com.tw/wp-content/uploads/2018/09...\n",
      "部位                                                  臉部,眼睛\n",
      "症狀                                                    疲勞眼\n",
      "Name: 140, dtype: object\n",
      "\n",
      "文章標題                                眼睛陷『荒漠』危機！６大穴位按摩改善乾眼症\n",
      "文章網址                   https://heho.com.tw/archives/24474\n",
      "圖片      https://heho.com.tw/wp-content/uploads/2018/10...\n",
      "部位                                                  臉部,眼睛\n",
      "症狀                                                    乾眼症\n",
      "Name: 141, dtype: object\n",
      "\n",
      "文章標題                      居家辦公 / 上班族必備！眼睛疲勞、肩頸僵硬，按手部穴道就搞定\n",
      "文章網址                   https://heho.com.tw/archives/59558\n",
      "圖片      https://heho.com.tw/wp-content/uploads/2019/11...\n",
      "部位                                                  臉部,眼睛\n",
      "症狀                                                   眼睛疲勞\n",
      "Name: 142, dtype: object\n",
      "\n",
      "文章標題                                    擊退黑眼圈，中醫教你按 6 穴道！\n",
      "文章網址                   https://heho.com.tw/archives/56654\n",
      "圖片      https://heho.com.tw/wp-content/uploads/2019/09...\n",
      "部位                                                  臉部,眼睛\n",
      "症狀                                                    黑眼圈\n",
      "Name: 143, dtype: object\n",
      "\n",
      "文章標題                         眼壓太高怎麼辦？教你自我檢測及按對 5 個穴道降壓又明目\n",
      "文章網址                   https://heho.com.tw/archives/19138\n",
      "圖片      https://heho.com.tw/wp-content/uploads/2018/08...\n",
      "部位                                                  臉部,眼睛\n",
      "症狀                                                     養生\n",
      "Name: 144, dtype: object\n",
      "\n",
      "文章標題                                  眼睛又乾又癢？ 常按護眼穴道改善乾眼症\n",
      "文章網址                  https://heho.com.tw/archives/155529\n",
      "圖片      https://heho.com.tw/wp-content/uploads/2021/01...\n",
      "部位                                                  臉部,眼睛\n",
      "症狀                                                     護眼\n",
      "Name: 145, dtype: object\n",
      "\n",
      "文章標題                                   眼睛乾癢又疲勞？眼周６穴道明目又護眼\n",
      "文章網址                   https://heho.com.tw/archives/84486\n",
      "圖片      https://heho.com.tw/wp-content/uploads/2020/05...\n",
      "部位                                                  臉部,眼睛\n",
      "症狀                                                     護眼\n",
      "Name: 146, dtype: object\n",
      "\n",
      "文章標題                                        中暑不適，刮痧4穴位消暑氣\n",
      "文章網址                   https://heho.com.tw/archives/14261\n",
      "圖片      https://heho.com.tw/wp-content/uploads/2018/05...\n",
      "部位                                                    NaN\n",
      "症狀                                                     中暑\n",
      "Name: 147, dtype: object\n",
      "\n",
      "文章標題                                    炎炎夏日易中暑，４穴位幫忙舒緩不適\n",
      "文章網址                   https://heho.com.tw/archives/87385\n",
      "圖片      https://heho.com.tw/wp-content/uploads/2020/06...\n",
      "部位                                                    NaN\n",
      "症狀                                                     中暑\n",
      "Name: 148, dtype: object\n",
      "\n",
      "文章標題                                       炎炎夏日必備，４大穴道防中暑\n",
      "文章網址                  https://heho.com.tw/archives/230142\n",
      "圖片      https://heho.com.tw/wp-content/uploads/2022/07...\n",
      "部位                                                    NaN\n",
      "症狀                                                     中暑\n",
      "Name: 149, dtype: object\n",
      "\n",
      "文章標題                                     失眠睡不好，６穴道補氣紓壓助好眠\n",
      "文章網址                  https://heho.com.tw/archives/244409\n",
      "圖片      https://heho.com.tw/wp-content/uploads/2022/10...\n",
      "部位                                                    NaN\n",
      "症狀                                                     失眠\n",
      "Name: 150, dtype: object\n",
      "\n",
      "文章標題                                  多夢、淺眠、難入睡！對症按穴道助你好眠\n",
      "文章網址                   https://heho.com.tw/archives/27751\n",
      "圖片      https://heho.com.tw/wp-content/uploads/2018/11...\n",
      "部位                                                    NaN\n",
      "症狀                                                     失眠\n",
      "Name: 151, dtype: object\n",
      "\n",
      "文章標題                                   孩子愛哭鬧、不睡覺？2穴道安神又助眠\n",
      "文章網址                  https://heho.com.tw/archives/147797\n",
      "圖片      https://heho.com.tw/wp-content/uploads/2020/11...\n",
      "部位                                                    NaN\n",
      "症狀                                                     失眠\n",
      "Name: 152, dtype: object\n",
      "\n",
      "文章標題                                     好累卻睡不著？４個助眠的保健穴道\n",
      "文章網址                  https://heho.com.tw/archives/241548\n",
      "圖片      https://heho.com.tw/wp-content/uploads/2022/09...\n",
      "部位                                                    NaN\n",
      "症狀                                                     失眠\n",
      "Name: 153, dtype: object\n",
      "\n",
      "文章標題                               動不動就大爆汗？按4穴道止汗、調理多汗症狀！\n",
      "文章網址                   https://heho.com.tw/archives/54960\n",
      "圖片      https://heho.com.tw/wp-content/uploads/2019/08...\n",
      "部位                                                    NaN\n",
      "症狀                                                    多汗症\n",
      "Name: 154, dtype: object\n",
      "\n",
      "文章標題                                  穩定血糖不飆升，5 個控糖穴道必收藏！\n",
      "文章網址                   https://heho.com.tw/archives/76552\n",
      "圖片      https://heho.com.tw/wp-content/uploads/2020/03...\n",
      "部位                                                    NaN\n",
      "症狀                                                     血糖\n",
      "Name: 155, dtype: object\n",
      "\n",
      "文章標題                 【Heho微動畫】爸媽必備育兒照護技能！透過穴位按摩緩解孩子7大常見不適\n",
      "文章網址                  https://heho.com.tw/archives/149541\n",
      "圖片      https://heho.com.tw/wp-content/uploads/2020/12...\n",
      "部位                                                    NaN\n",
      "症狀                                                     育兒\n",
      "Name: 156, dtype: object\n",
      "\n",
      "文章標題                                  解便秘這招有效！4 個實用通便穴道按摩\n",
      "文章網址                   https://heho.com.tw/archives/40513\n",
      "圖片      https://heho.com.tw/wp-content/uploads/2019/03...\n",
      "部位                                                    NaN\n",
      "症狀                                                     便秘\n",
      "Name: 157, dtype: object\n",
      "\n",
      "文章標題                                   女性不可不知，平衡荷爾蒙黃金4穴位!\n",
      "文章網址                   https://heho.com.tw/archives/12003\n",
      "圖片      https://heho.com.tw/wp-content/uploads/2018/04...\n",
      "部位                                                    NaN\n",
      "症狀                                                     婦科\n",
      "Name: 158, dtype: object\n",
      "\n",
      "文章標題                                 孕吐、水腫又抽筋， 6 穴道緩解懷孕不適\n",
      "文章網址                  https://heho.com.tw/archives/164832\n",
      "圖片      https://heho.com.tw/wp-content/uploads/2021/03...\n",
      "部位                                                    NaN\n",
      "症狀                                                     婦科\n",
      "Name: 159, dtype: object\n",
      "\n",
      "文章標題                                  擔心母奶量不足？6 穴位幫助發奶更順利\n",
      "文章網址                  https://heho.com.tw/archives/206460\n",
      "圖片      https://heho.com.tw/wp-content/uploads/2022/02...\n",
      "部位                                                    NaN\n",
      "症狀                                                     婦科\n",
      "Name: 160, dtype: object\n",
      "\n",
      "文章標題                                  有催生作用！懷孕時不能碰這６個按摩穴位\n",
      "文章網址                   https://heho.com.tw/archives/39924\n",
      "圖片      https://heho.com.tw/wp-content/uploads/2019/02...\n",
      "部位                                                    NaN\n",
      "症狀                                                     婦科\n",
      "Name: 161, dtype: object\n",
      "\n",
      "文章標題                                    月經不順常遲到？4 穴道調經順氣血\n",
      "文章網址                  https://heho.com.tw/archives/170614\n",
      "圖片      https://heho.com.tw/wp-content/uploads/2021/05...\n",
      "部位                                                    NaN\n",
      "症狀                                                  婦科,經痛\n",
      "Name: 162, dtype: object\n",
      "\n",
      "文章標題                                  經前症候群好不舒服？按通４穴位舒緩不適\n",
      "文章網址                  https://heho.com.tw/archives/165876\n",
      "圖片      https://heho.com.tw/wp-content/uploads/2021/03...\n",
      "部位                                                    NaN\n",
      "症狀                                                  婦科,經痛\n",
      "Name: 163, dtype: object\n",
      "\n",
      "文章標題                                              緩解經痛4穴位\n",
      "文章網址                    https://heho.com.tw/archives/1557\n",
      "圖片      https://heho.com.tw/wp-content/uploads/2017/10...\n",
      "部位                                                    NaN\n",
      "症狀                                                  婦科,經痛\n",
      "Name: 164, dtype: object\n",
      "\n",
      "文章標題                                   感冒好難受，按７穴道止咳化痰、通鼻塞\n",
      "文章網址                    https://heho.com.tw/archives/7526\n",
      "圖片      https://heho.com.tw/wp-content/uploads/2018/01...\n",
      "部位                                                    NaN\n",
      "症狀                                                     感冒\n",
      "Name: 165, dtype: object\n",
      "\n",
      "文章標題                                       氣溫忽高忽低，按４穴道防感冒\n",
      "文章網址                  https://heho.com.tw/archives/197867\n",
      "圖片      https://heho.com.tw/wp-content/uploads/2021/12...\n",
      "部位                                                    NaN\n",
      "症狀                                                     感冒\n",
      "Name: 166, dtype: object\n",
      "\n",
      "文章標題                                   感冒用穴道大全，不適症狀按一按都舒緩\n",
      "文章網址                   https://heho.com.tw/archives/27098\n",
      "圖片      https://heho.com.tw/wp-content/uploads/2018/11...\n",
      "部位                                                    NaN\n",
      "症狀                                                     感冒\n",
      "Name: 167, dtype: object\n",
      "\n",
      "文章標題                                   孩子發燒感冒，按摩２穴道有助退熱止咳\n",
      "文章網址                  https://heho.com.tw/archives/147206\n",
      "圖片      https://heho.com.tw/wp-content/uploads/2020/11...\n",
      "部位                                                    NaN\n",
      "症狀                                                  感冒,發燒\n",
      "Name: 168, dtype: object\n",
      "\n",
      "文章標題                                  每天按4大穴道3分鐘，糖尿病就有改善!\n",
      "文章網址                    https://heho.com.tw/archives/9177\n",
      "圖片      https://heho.com.tw/wp-content/uploads/2018/03...\n",
      "部位                                                    NaN\n",
      "症狀                                                    糖尿病\n",
      "Name: 169, dtype: object\n",
      "\n",
      "文章標題                                  中醫看蕁麻疹「３觀念２穴道」舒緩止癢！\n",
      "文章網址                  https://heho.com.tw/archives/244932\n",
      "圖片      https://heho.com.tw/wp-content/uploads/2022/10...\n",
      "部位                                                    NaN\n",
      "症狀                                                    蕁麻疹\n",
      "Name: 170, dtype: object\n",
      "\n",
      "文章標題                                      穴道按摩有效緩解癌症治療副作用\n",
      "文章網址                   https://heho.com.tw/archives/44559\n",
      "圖片      https://heho.com.tw/wp-content/uploads/2019/04...\n",
      "部位                                                    NaN\n",
      "症狀                                                癌症治療副作用\n",
      "Name: 171, dtype: object\n",
      "\n"
     ]
    }
   ],
   "source": [
    "# 迭代 DataFrame 的每一列，並打印出來\n",
    "for index, row in data.iterrows():\n",
    "    print(row)\n",
    "\n",
    "    # 如果需要單獨存取列中的數值，可以使用 row['列名'] 的方式\n",
    "    # 例如：print(row['Name'], row['Age'])\n",
    "    \n",
    "    print()  # 每一列之間插入空行"
   ]
  },
  {
   "cell_type": "markdown",
   "id": "a92f36c3",
   "metadata": {},
   "source": [
    "# 只想提供關於標題、文章網址、圖片的特定資訊"
   ]
  },
  {
   "cell_type": "code",
   "execution_count": 23,
   "id": "c43ee11d",
   "metadata": {
    "scrolled": true
   },
   "outputs": [
    {
     "name": "stdout",
     "output_type": "stream",
     "text": [
      "文章標題: 告別手腳麻木！５個超有效穴位大公開\n",
      "文章網址: https://heho.com.tw/archives/22330\n",
      "圖片: https://heho.com.tw/wp-content/uploads/2018/09/老人手腳麻木穴道-01.jpg\n",
      "\n",
      "文章標題: 手腳冰冷怎麼辦？４穴道袪寒保暖通氣血\n",
      "文章網址: https://heho.com.tw/archives/151663\n",
      "圖片: https://heho.com.tw/wp-content/uploads/2020/12/1607586481.7129.png\n",
      "\n",
      "文章標題: 手腕痛又麻？按摩４穴道緩解「滑鼠手」疼痛\n",
      "文章網址: https://heho.com.tw/archives/183035\n",
      "圖片: https://heho.com.tw/wp-content/uploads/2021/07/1626247539.8463.png\n",
      "\n",
      "文章標題: 久坐易有大小毛病，按三穴道保健、解久坐不適\n",
      "文章網址: https://heho.com.tw/archives/192257\n",
      "圖片: https://heho.com.tw/wp-content/uploads/2021/10/1634030704.6743.png\n",
      "\n",
      "文章標題: 長期久坐，水腫成蘿蔔腿！中醫傳授４穴位，小腿快速瘦一圈\n",
      "文章網址: https://heho.com.tw/archives/27685\n",
      "圖片: https://heho.com.tw/wp-content/uploads/2018/11/瘦小腿穴道-01.png\n",
      "\n",
      "文章標題: 足底筋膜炎總讓你「寸步難行」？中醫推薦按摩 6 穴位助解痛\n",
      "文章網址: https://heho.com.tw/archives/259487\n",
      "圖片: https://heho.com.tw/wp-content/uploads/2023/01/1673862536.3145.jpg\n",
      "\n",
      "文章標題: 運動後鐵腿，按摩 4 穴道助緩解\n",
      "文章網址: https://heho.com.tw/archives/156385\n",
      "圖片: https://heho.com.tw/wp-content/uploads/2021/01/1609820136.3791.png\n",
      "\n",
      "文章標題: 腳麻動不了嗎？３個急救穴位，即按即舒緩！\n",
      "文章網址: https://heho.com.tw/archives/29020\n",
      "圖片: https://heho.com.tw/wp-content/uploads/2018/11/腿麻穴道-01.png\n",
      "\n",
      "文章標題: 穴位不再只在腳底啦！！！腳背也可以\n",
      "文章網址: https://heho.com.tw/archives/2716\n",
      "圖片: https://heho.com.tw/wp-content/uploads/2017/11/腳背穴道-03.png\n",
      "\n",
      "文章標題: 失智可用中醫改善！日常保養按這４穴道\n",
      "文章網址: https://heho.com.tw/archives/186978\n",
      "圖片: https://heho.com.tw/wp-content/uploads/2021/08/1629363660.4416.png\n",
      "\n",
      "文章標題: 失智症有望透過中醫改善，中醫師傳授保養的四大穴位！\n",
      "文章網址: https://heho.com.tw/archives/273818\n",
      "圖片: https://heho.com.tw/wp-content/uploads/2023/05/1683105127.6649.jpg\n",
      "\n",
      "文章標題: 治療失智症中醫也可以！５大穴道延緩退化\n",
      "文章網址: https://heho.com.tw/archives/28792\n",
      "圖片: https://heho.com.tw/wp-content/uploads/2018/11/治療失智穴道-01.png\n",
      "\n",
      "文章標題: 居家辦公 / 按摩手也能活化大腦！手部４穴道打開活腦開關，讓大腦不當機\n",
      "文章網址: https://heho.com.tw/archives/94042\n",
      "圖片: https://heho.com.tw/wp-content/uploads/2020/07/2fb3027bdac8992a25c494f561dfe393.png\n",
      "\n",
      "文章標題: 甲狀腺亢進不適症狀，巧按穴道助舒緩\n",
      "文章網址: https://heho.com.tw/archives/26052\n",
      "圖片: https://heho.com.tw/wp-content/uploads/2018/10/甲狀腺亢進的不適，巧按穴道助舒緩-01.png\n",
      "\n",
      "文章標題: ５個神奇穴位，除體濕、調節內分泌！\n",
      "文章網址: https://heho.com.tw/archives/53962\n",
      "圖片: https://heho.com.tw/wp-content/uploads/2019/07/5個神奇穴位，除體濕、調節內分泌_1.png\n",
      "\n",
      "文章標題: 保養心血管，按 3 穴道防三高\n",
      "文章網址: https://heho.com.tw/archives/143707\n",
      "圖片: https://heho.com.tw/wp-content/uploads/2020/10/542668e942fdbe342ef15c3fcecf30c9.png\n",
      "\n",
      "文章標題: 補氣又養心，4 穴道保養心血管\n",
      "文章網址: https://heho.com.tw/archives/208047\n",
      "圖片: https://heho.com.tw/wp-content/uploads/2022/02/1645690619.6939.png\n",
      "\n",
      "文章標題: 4穴道養心通氣，越按心臟越健康\n",
      "文章網址: https://heho.com.tw/archives/55582\n",
      "圖片: https://heho.com.tw/wp-content/uploads/2019/08/4穴道養心通氣，越按心臟越健康.png\n",
      "\n",
      "文章標題: 神奇5穴位讓你緩解牙齒疼痛！\n",
      "文章網址: https://heho.com.tw/archives/14673\n",
      "圖片: https://heho.com.tw/wp-content/uploads/2018/05/牙齒痛穴位-01.jpg\n",
      "\n",
      "文章標題: 按穴道也能顧牙齒！按摩 5 穴道讓牙齒更健康\n",
      "文章網址: https://heho.com.tw/archives/165074\n",
      "圖片: https://heho.com.tw/wp-content/uploads/2021/03/1615363076.3303.png\n",
      "\n",
      "文章標題: 冬天皮在癢，敲打肺經、按穴道止癢有解!\n",
      "文章網址: https://heho.com.tw/archives/30075\n",
      "圖片: https://heho.com.tw/wp-content/uploads/2018/12/敲打肺經_按穴道改善冬季癢！.png\n",
      "\n",
      "文章標題: 常按魔法穴道，改善孩子皮膚炎困擾\n",
      "文章網址: https://heho.com.tw/archives/147500\n",
      "圖片: https://heho.com.tw/wp-content/uploads/2020/11/69e6d65a4bf71ee947c89ace69505536-1.png\n",
      "\n",
      "文章標題: 止癢不用抓!異位性皮膚炎，按穴道也有效\n",
      "文章網址: https://heho.com.tw/archives/15828\n",
      "圖片: https://heho.com.tw/wp-content/uploads/2018/06/止癢不用抓！異位性皮膚炎，按穴道也有效-01.png\n",
      "\n",
      "文章標題: 按穴道也能消痘痘，4種類型「痘」有效！\n",
      "文章網址: https://heho.com.tw/archives/54400\n",
      "圖片: https://heho.com.tw/wp-content/uploads/2019/08/按穴道也能消痘痘，4種類型「痘」有效-1.png\n",
      "\n",
      "文章標題: 天氣悶熱汗臭、體味重？4大穴道清熱除臭！\n",
      "文章網址: https://heho.com.tw/archives/82545\n",
      "圖片: https://heho.com.tw/wp-content/uploads/2020/05/01dd4ca39e3ab0f877910affd5b2e79f.png\n",
      "\n",
      "文章標題: 2招穴道按摩，提升孩子免疫力防過敏\n",
      "文章網址: https://heho.com.tw/archives/136701\n",
      "圖片: https://heho.com.tw/wp-content/uploads/2020/09/b42c316d9bc18f4ae503d76c05acfa46.png\n",
      "\n",
      "文章標題: 啟動身體免疫力！5個穴道解決身體小毛病\n",
      "文章網址: https://heho.com.tw/archives/65873\n",
      "圖片: https://heho.com.tw/wp-content/uploads/2020/01/啟動身體免疫力5個穴道解決身體小毛病.png\n",
      "\n",
      "文章標題: 對抗流感，常按４穴道提升免疫力！\n",
      "文章網址: https://heho.com.tw/archives/64156\n",
      "圖片: https://heho.com.tw/wp-content/uploads/2020/01/對抗流感，常按4穴道提升免疫力.png\n",
      "\n",
      "文章標題: 夏季預防冷氣病，勤按4穴道提升免疫力!\n",
      "文章網址: https://heho.com.tw/archives/89465\n",
      "圖片: https://heho.com.tw/wp-content/uploads/2020/07/4699c31f83ff29f99d48232f9eedee5f.png\n",
      "\n",
      "文章標題: 趕走慢性疲勞，常揉 6 穴道\n",
      "文章網址: https://heho.com.tw/archives/180695\n",
      "圖片: https://heho.com.tw/wp-content/uploads/2021/06/1625043215.7719.png\n",
      "\n",
      "文章標題: 按摩這三組穴位可有效紓解「慢性疲勞症候群」\n",
      "文章網址: https://heho.com.tw/archives/267950\n",
      "圖片: https://heho.com.tw/wp-content/uploads/2023/03/1679648895.1824.jpg\n",
      "\n",
      "文章標題: 全身各種疼痛，6穴道對症來解\n",
      "文章網址: https://heho.com.tw/archives/63109\n",
      "圖片: https://heho.com.tw/wp-content/uploads/2020/01/全身各種疼痛，6穴道對症來解.png\n",
      "\n",
      "文章標題: 急救保命必收藏！身體的６大急救穴道\n",
      "文章網址: https://heho.com.tw/archives/90853\n",
      "圖片: https://heho.com.tw/wp-content/uploads/2020/07/87c973f539e03655d87091d1e41e1161.png\n",
      "\n",
      "文章標題: 人體５大器官排毒穴道\n",
      "文章網址: https://heho.com.tw/archives/15237\n",
      "圖片: https://heho.com.tw/wp-content/uploads/2018/06/內臟排毒穴道-01.jpg\n",
      "\n",
      "文章標題: 打通經絡　痠痛不在！６個治痠痛穴道，肩頸腰痠一次Ｋ.Ｏ\n",
      "文章網址: https://heho.com.tw/archives/40602\n",
      "圖片: https://heho.com.tw/wp-content/uploads/2019/03/舒緩肩頸痠痛的自癒點2.png\n",
      "\n",
      "文章標題: ４大穴道解痠痛，打掃不再腰痠背痛！\n",
      "文章網址: https://heho.com.tw/archives/63507\n",
      "圖片: https://heho.com.tw/wp-content/uploads/2020/01/4大穴道解痠痛打掃不再腰痠背痛-2.png\n",
      "\n",
      "文章標題: 6個穴道助代謝，脂肪不囤積!\n",
      "文章網址: https://heho.com.tw/archives/8400\n",
      "圖片: https://heho.com.tw/wp-content/uploads/2018/02/不讓年貨囤積，6招提升代謝-01.png\n",
      "\n",
      "文章標題: 放假吃太多？4消脂穴道，促進循環代謝\n",
      "文章網址: https://heho.com.tw/archives/205888\n",
      "圖片: https://heho.com.tw/wp-content/uploads/2022/02/1644306661.9135.png\n",
      "\n",
      "文章標題: ８穴道提升代謝、除脂肪！讓你年後不發胖\n",
      "文章網址: https://heho.com.tw/archives/37908\n",
      "圖片: https://heho.com.tw/wp-content/uploads/2019/01/助代謝穴道-01.png\n",
      "\n",
      "文章標題: 你該知道耳朵上的瘦身穴道\n",
      "文章網址: https://heho.com.tw/archives/8487\n",
      "圖片: https://heho.com.tw/wp-content/uploads/2018/02/按耳朵就能瘦.png\n",
      "\n",
      "文章標題: 按穴道通經活絡，打造出易瘦體質\n",
      "文章網址: https://heho.com.tw/archives/50437\n",
      "圖片: https://heho.com.tw/wp-content/uploads/2019/05/按穴道通經活絡，打造出易瘦體質-01.png\n",
      "\n",
      "文章標題: 瘦小腹必備！６大減脂穴道改善代謝\n",
      "文章網址: https://heho.com.tw/archives/226806\n",
      "圖片: https://heho.com.tw/wp-content/uploads/2022/06/1655891571.912.png\n",
      "\n",
      "文章標題: 瘦身４穴道促進代謝，打造易瘦體質\n",
      "文章網址: https://heho.com.tw/archives/179059\n",
      "圖片: https://heho.com.tw/wp-content/uploads/2021/06/1624000421.3723.png\n",
      "\n",
      "文章標題: 瘦身必備！５個重點穴道從頭瘦到腳\n",
      "文章網址: https://heho.com.tw/archives/81652\n",
      "圖片: https://heho.com.tw/wp-content/uploads/2020/05/a0b03459f9421508b70eb2a1f55c8266.png\n",
      "\n",
      "文章標題: 冬至補陽好時機，按５穴道陽氣充足不生病\n",
      "文章網址: https://heho.com.tw/archives/152947\n",
      "圖片: https://heho.com.tw/wp-content/uploads/2020/12/1608102573.4604.png\n",
      "\n",
      "文章標題: 4 種身體的「虛」，按摩對應穴道來保養！\n",
      "文章網址: https://heho.com.tw/archives/86230\n",
      "圖片: https://heho.com.tw/wp-content/uploads/2020/06/c40a51550ce5957e30b1d350260e96bb.png\n",
      "\n",
      "文章標題: 常按神奇 2 穴道，讓孩子長高、變聰明！\n",
      "文章網址: https://heho.com.tw/archives/136091\n",
      "圖片: https://heho.com.tw/wp-content/uploads/2020/09/9095aeacfcec57bc0991ec5f1dfec2cd.png\n",
      "\n",
      "文章標題: 按壓手掌６穴位，輕鬆保養五臟六腑\n",
      "文章網址: https://heho.com.tw/archives/37152\n",
      "圖片: https://heho.com.tw/wp-content/uploads/2019/01/五臟六腑_手掌-01.png\n",
      "\n",
      "文章標題: 夏天濕熱易上火？揉按4穴道祛濕除熱好養身\n",
      "文章網址: https://heho.com.tw/archives/49020\n",
      "圖片: https://heho.com.tw/wp-content/uploads/2019/05/夏天濕熱易上火？揉按4穴道祛濕除熱養好身_01.png\n",
      "\n",
      "文章標題: 常按６穴道，助舒壓、解身體大小困擾\n",
      "文章網址: https://heho.com.tw/archives/168060\n",
      "圖片: https://heho.com.tw/wp-content/uploads/2021/04/1617949389.5712.png\n",
      "\n",
      "文章標題: ５大穴道擊退虛寒、水腫體質\n",
      "文章網址: https://heho.com.tw/archives/157822\n",
      "圖片: https://heho.com.tw/wp-content/uploads/2021/01/1610526263.6923.png\n",
      "\n",
      "文章標題: 穀雨時節養生秘訣，５穴道去濕邪又助眠\n",
      "文章網址: https://heho.com.tw/archives/79088\n",
      "圖片: https://heho.com.tw/wp-content/uploads/2020/04/9645816af1333a2684c05fbf177cefe0.png\n",
      "\n",
      "文章標題: 養生必備！6個補氣強身的特效穴位\n",
      "文章網址: https://heho.com.tw/archives/59263\n",
      "圖片: https://heho.com.tw/wp-content/uploads/2019/11/養生必備！6個補氣強身的特效穴位.png\n",
      "\n",
      "文章標題: 越按越健康！必收藏的６個養生穴道\n",
      "文章網址: https://heho.com.tw/archives/166568\n",
      "圖片: https://heho.com.tw/wp-content/uploads/2021/03/1616569363.0597.png\n",
      "\n",
      "文章標題: 按穴道防血栓，４個穴道幫助活血化瘀\n",
      "文章網址: https://heho.com.tw/archives/165792\n",
      "圖片: https://heho.com.tw/wp-content/uploads/2021/03/1615966003.175.png\n",
      "\n",
      "文章標題: 溫差大要當「心」，按摩穴道穩血壓防疾病\n",
      "文章網址: https://heho.com.tw/archives/59883\n",
      "圖片: https://heho.com.tw/wp-content/uploads/2019/11/20191119-溫差大要當「心」，按摩穴道穩血壓防疾病.png\n",
      "\n",
      "文章標題: 降低血壓從頭到腳，不可不知5大穴道！\n",
      "文章網址: https://heho.com.tw/archives/18849\n",
      "圖片: https://heho.com.tw/wp-content/uploads/2018/07/降低血壓從頭到腳，不可不知5大穴道！-01.png\n",
      "\n",
      "文章標題: 私密處搔癢、分泌物多？按 4 穴道遠離婦科困擾\n",
      "文章網址: https://heho.com.tw/archives/171406\n",
      "圖片: https://heho.com.tw/wp-content/uploads/2021/06/1620792691.9009.png\n",
      "\n",
      "文章標題: 春天養肝最好，4個穴道提升免疫力\n",
      "文章網址: https://heho.com.tw/archives/8854\n",
      "圖片: https://heho.com.tw/wp-content/uploads/2018/03/春天養肝，4穴道補氣防病-01.png\n",
      "\n",
      "文章標題: 中醫治療脂肪肝 3種類型按摩穴道來調理\n",
      "文章網址: https://heho.com.tw/archives/57554\n",
      "圖片: https://heho.com.tw/wp-content/uploads/2019/10/中醫治療脂肪肝，3種類型按摩穴道來調理.png\n",
      "\n",
      "文章標題: 春天是養肝好時機！用 2 方法、壓 2 穴道為整年健康打根基\n",
      "文章網址: https://heho.com.tw/archives/262457\n",
      "圖片: https://heho.com.tw/wp-content/uploads/2023/02/1676214532.3136.jpg\n",
      "\n",
      "文章標題: 養氣血、解肝氣，春天養肝就按這4穴道！\n",
      "文章網址: https://heho.com.tw/archives/43710\n",
      "圖片: https://heho.com.tw/wp-content/uploads/2019/03/養肝穴道-01.png\n",
      "\n",
      "文章標題: 第四波本土疫情讓你感到焦慮？中醫師傳授三穴位安定心情\n",
      "文章網址: https://heho.com.tw/archives/278567\n",
      "圖片: https://heho.com.tw/wp-content/uploads/2023/06/1685583322.168.jpg\n",
      "\n",
      "文章標題: 想要降血壓、助眠、緩解焦慮，就快按腳上6個黃金穴道！\n",
      "文章網址: https://heho.com.tw/archives/41074\n",
      "圖片: https://heho.com.tw/wp-content/uploads/2019/03/黃金6穴道-01.png\n",
      "\n",
      "文章標題: 更年期困擾，8穴道助緩解!\n",
      "文章網址: https://heho.com.tw/archives/13354\n",
      "圖片: https://heho.com.tw/wp-content/uploads/2018/05/更年期困擾，8穴道緩解-01.png\n",
      "\n",
      "文章標題: 防疫生活對策 / 疫情期間身體疲勞卻又睡不著？按摩６穴道助安神鎮靜、放鬆身心\n",
      "文章網址: https://heho.com.tw/archives/169081\n",
      "圖片: https://heho.com.tw/wp-content/uploads/2021/04/1618986955.3059.png\n",
      "\n",
      "文章標題: 提神醒腦必備４大穴道\n",
      "文章網址: https://heho.com.tw/archives/240060\n",
      "圖片: https://heho.com.tw/wp-content/uploads/2022/09/1662967211.1026.png\n",
      "\n",
      "文章標題: 按這5穴道，讓你精神百倍身體好\n",
      "文章網址: https://heho.com.tw/archives/10470\n",
      "圖片: https://heho.com.tw/wp-content/uploads/2018/03/春睏提神-01.jpg\n",
      "\n",
      "文章標題: 容易恐慌又焦慮！快按５穴位　ＫＯ緊繃狀態！\n",
      "文章網址: https://heho.com.tw/archives/23716\n",
      "圖片: https://heho.com.tw/wp-content/uploads/2018/10/舒緩恐慌焦慮的穴道-01.jpg\n",
      "\n",
      "文章標題: 緩解焦慮不安，5 穴道提升心靈自癒力\n",
      "文章網址: https://heho.com.tw/archives/74460\n",
      "圖片: https://heho.com.tw/wp-content/uploads/2020/03/f3884b36e6e1371b4527ce87ab6c6c2b.png\n",
      "\n",
      "文章標題: 坐立難安好煩躁？按摩穴道疏肝理氣遠焦慮\n",
      "文章網址: https://heho.com.tw/archives/25066\n",
      "圖片: https://heho.com.tw/wp-content/uploads/2018/10/坐立難安好煩躁-按摩穴位疏肝理氣遠焦慮-02.png\n",
      "\n",
      "文章標題: 壓力大、心情差讓你肝脾失和，按6穴道遠離他\n",
      "文章網址: https://heho.com.tw/archives/13591\n",
      "圖片: https://heho.com.tw/wp-content/uploads/2018/05/壓力大-心情差讓你肝脾失和，按6穴道遠離他-1.png\n",
      "\n",
      "文章標題: 按摩４個穴道，化解憂鬱不煩燥\n",
      "文章網址: https://heho.com.tw/archives/47817\n",
      "圖片: https://heho.com.tw/wp-content/uploads/2019/04/心情鬱悶、煩躁，按摩4穴道理氣化憂鬱！-01.png\n",
      "\n",
      "文章標題: 心情鬱悶也可以看中醫！3 心法 2 穴位讓你變開心\n",
      "文章網址: https://heho.com.tw/archives/249444\n",
      "圖片: https://heho.com.tw/wp-content/uploads/2022/11/1667809861.095.png\n",
      "\n",
      "文章標題: 按壓這 4 穴位安定心神、疏肝解鬱又「養肝」\n",
      "文章網址: https://heho.com.tw/archives/259008\n",
      "圖片: https://heho.com.tw/wp-content/uploads/2023/01/1674102709.1738.jpg\n",
      "\n",
      "文章標題: 氣虛讓人易累又嗜睡，5大補氣穴位補出好元氣！\n",
      "文章網址: https://heho.com.tw/archives/57073\n",
      "圖片: https://heho.com.tw/wp-content/uploads/2019/09/氣虛讓人易累又嗜睡，5大補氣穴位補出好元氣！.png\n",
      "\n",
      "文章標題: 按對穴道紓壓保健康，上班族必備6穴道\n",
      "文章網址: https://heho.com.tw/archives/18156\n",
      "圖片: https://heho.com.tw/wp-content/uploads/2018/07/上班族必備6種實用穴道-，舒壓保健康-01.png\n",
      "\n",
      "文章標題: 紓壓降火氣！4穴道安定心神、養好心情\n",
      "文章網址: https://heho.com.tw/archives/198222\n",
      "圖片: https://heho.com.tw/wp-content/uploads/2021/12/1638778911.6578.png\n",
      "\n",
      "文章標題: 保養呼吸道！6個穴道清肺又排毒\n",
      "文章網址: https://heho.com.tw/archives/60379\n",
      "圖片: https://heho.com.tw/wp-content/uploads/2019/11/保養呼吸道！6個穴道清肺又排毒.png\n",
      "\n",
      "文章標題: 秋季易傷呼吸道，3穴道滋陰防秋燥\n",
      "文章網址: https://heho.com.tw/archives/139782\n",
      "圖片: https://heho.com.tw/wp-content/uploads/2020/09/79d57d874ecfb6659d74dde0740e3818.png\n",
      "\n",
      "文章標題: 喉嚨癢癢快感冒，按 4 穴道保養呼吸道\n",
      "文章網址: https://heho.com.tw/archives/58191\n",
      "圖片: https://heho.com.tw/wp-content/uploads/2019/10/20191016-喉嚨癢癢快感冒，按4穴道保養呼吸道.png\n",
      "\n",
      "文章標題: 夜咳、有痰可能是肺臟太濕了，快按５穴位讓濕氣退散！\n",
      "文章網址: https://heho.com.tw/archives/57355\n",
      "圖片: https://heho.com.tw/wp-content/uploads/2018/12/除濕穴道-01.png\n",
      "\n",
      "文章標題: 夜咳、有痰可能是肺臟太濕了，快按５穴位讓濕氣退散！\n",
      "文章網址: https://heho.com.tw/archives/33746\n",
      "圖片: https://heho.com.tw/wp-content/uploads/2018/12/除濕穴道-01.png\n",
      "\n",
      "文章標題: 養肺顧氣管，預防感冒就按４穴道！\n",
      "文章網址: https://heho.com.tw/archives/49819\n",
      "圖片: https://heho.com.tw/wp-content/uploads/2019/05/養肺顧氣管，預防感冒就按四穴道！.png\n",
      "\n",
      "文章標題: 按這四大穴位，改善「胃食道逆流」！\n",
      "文章網址: https://heho.com.tw/archives/270648\n",
      "圖片: https://heho.com.tw/wp-content/uploads/2023/04/1681292928.8434.jpg\n",
      "\n",
      "文章標題: 健康保「胃」戰！術養穴道，胃病不上門\n",
      "文章網址: https://heho.com.tw/archives/15088\n",
      "圖片: https://heho.com.tw/wp-content/uploads/2018/06/健康保胃戰術養穴道不讓胃病找上門-2.png\n",
      "\n",
      "文章標題: 跑步跑到胃痛！快按這３大穴位速緩解\n",
      "文章網址: https://heho.com.tw/archives/40039\n",
      "圖片: https://heho.com.tw/wp-content/uploads/2019/02/跑步胃抽筋穴位-01.png\n",
      "\n",
      "文章標題: 脹氣、胃痛、消化不良？按4穴道顧胃養好身\n",
      "文章網址: https://heho.com.tw/archives/53194\n",
      "圖片: https://heho.com.tw/wp-content/uploads/2019/07/脹氣、胃痛、消化不良？按4穴道來顧胃養好胃_01.png\n",
      "\n",
      "文章標題: 食慾不振又反胃，５個穴位按出好胃口！\n",
      "文章網址: https://heho.com.tw/archives/142915\n",
      "圖片: https://heho.com.tw/wp-content/uploads/2020/10/6446d860dbbfe540e9e2cbab5f98f1e3-15.png\n",
      "\n",
      "文章標題: 消化不良怎麼辦？按４穴道腸胃暢通不塞車\n",
      "文章網址: https://heho.com.tw/archives/161185\n",
      "圖片: https://heho.com.tw/wp-content/uploads/2021/02/1612427911.4431.png\n",
      "\n",
      "文章標題: 按對穴道，改善消化道大小毛病\n",
      "文章網址: https://heho.com.tw/archives/163086\n",
      "圖片: https://heho.com.tw/wp-content/uploads/2021/02/1613985233.2117.png\n",
      "\n",
      "文章標題: 吃太飽胃脹、消化不良？按４個穴道助消化\n",
      "文章網址: https://heho.com.tw/archives/63461\n",
      "圖片: https://heho.com.tw/wp-content/uploads/2018/02/4穴道3分鐘KO胃脹消化不良.png\n",
      "\n",
      "文章標題: 聚餐吃太飽胃脹氣？５穴位快速緩解脹氣、胃不適\n",
      "文章網址: https://heho.com.tw/archives/37902\n",
      "圖片: https://heho.com.tw/wp-content/uploads/2019/01/消除胃脹氣穴道.png\n",
      "\n",
      "文章標題: 吃太飽不舒服，按4個穴道KO脹氣、消化不良\n",
      "文章網址: https://heho.com.tw/archives/8285\n",
      "圖片: https://heho.com.tw/wp-content/uploads/2018/02/4穴道3分鐘KO胃脹消化不良.png\n",
      "\n",
      "文章標題: 一指搞定腸胃問題！4穴道解胃痛、消脹氣\n",
      "文章網址: https://heho.com.tw/archives/190917\n",
      "圖片: https://heho.com.tw/wp-content/uploads/2021/09/1632734126.2567.png\n",
      "\n",
      "文章標題: 改善火燒心！養胃４大穴道提升胃健康\n",
      "文章網址: https://heho.com.tw/archives/224095\n",
      "圖片: https://heho.com.tw/wp-content/uploads/2022/06/1654680323.7933.png\n",
      "\n",
      "文章標題: 腸胃炎上吐下瀉好困擾！手腳２穴位緩解不適感\n",
      "文章網址: https://heho.com.tw/archives/256044\n",
      "圖片: https://heho.com.tw/wp-content/uploads/2022/12/1671604612.7452.png\n",
      "\n",
      "文章標題: 腸躁症讓人便秘又腹瀉！中醫教你4穴位遠離它\n",
      "文章網址: https://heho.com.tw/archives/45938\n",
      "圖片: https://heho.com.tw/wp-content/uploads/2019/04/腸躁症又便秘又腹瀉！中醫教你4穴位遠離它_01.png\n",
      "\n",
      "文章標題: 擁有好腸胃，保健腸胃必學 5 穴位\n",
      "文章網址: https://heho.com.tw/archives/71830\n",
      "圖片: https://heho.com.tw/wp-content/uploads/2020/03/78bed909bd676b9d6b33d592d6c2c52a.png\n",
      "\n",
      "文章標題: 按摩6穴道，調理自律神經不失調\n",
      "文章網址: https://heho.com.tw/archives/24458\n",
      "圖片: https://heho.com.tw/wp-content/uploads/2018/10/按摩6穴道_調理自律神經不失調.png\n",
      "\n",
      "文章標題: 「自律神經失調」會好嗎？這四穴位平衡身心靈\n",
      "文章網址: https://heho.com.tw/archives/265495\n",
      "圖片: https://heho.com.tw/wp-content/uploads/2023/03/1677825613.1156.jpg\n",
      "\n",
      "文章標題: 改善自律神經失調，４穴道啟動自癒力\n",
      "文章網址: https://heho.com.tw/archives/246433\n",
      "圖片: https://heho.com.tw/wp-content/uploads/2022/10/1666246770.8593.png\n",
      "\n",
      "文章標題: 溫差大自律神經易失調！按摩４穴道助平衡\n",
      "文章網址: https://heho.com.tw/archives/145158\n",
      "圖片: https://heho.com.tw/wp-content/uploads/2020/10/6446d860dbbfe540e9e2cbab5f98f1e3-31.png\n",
      "\n",
      "文章標題: 胸悶Get Out！4穴道讓你『解悶』，大口呼吸\n",
      "文章網址: https://heho.com.tw/archives/9421\n",
      "圖片: https://heho.com.tw/wp-content/uploads/2018/03/胸悶穴道-01.jpg\n",
      "\n",
      "文章標題: 痰濕讓人長痘、胸悶、水腫！3穴道健脾化濕\n",
      "文章網址: https://heho.com.tw/archives/85812\n",
      "圖片: https://heho.com.tw/wp-content/uploads/2020/06/1627457142.0739.png\n",
      "\n",
      "文章標題: 打嗝不停時，這2個穴位讓你立即止嗝！\n",
      "文章網址: https://heho.com.tw/archives/10334\n",
      "圖片: https://heho.com.tw/wp-content/uploads/2018/03/止嗝-01.jpg\n",
      "\n",
      "文章標題: 止咳四穴道，急性和久咳都適用！\n",
      "文章網址: https://heho.com.tw/archives/9166\n",
      "圖片: https://heho.com.tw/wp-content/uploads/2018/03/止咳穴位-01.jpg\n",
      "\n",
      "文章標題: 小雪養生穴道，養腎防寒又防病\n",
      "文章網址: https://heho.com.tw/archives/146727\n",
      "圖片: https://heho.com.tw/wp-content/uploads/2020/11/6446d860dbbfe540e9e2cbab5f98f1e3-18.png\n",
      "\n",
      "文章標題: 冬天養腎補氣！按4穴道提高免疫力 不怕生病\n",
      "文章網址: https://heho.com.tw/archives/61413\n",
      "圖片: https://heho.com.tw/wp-content/uploads/2019/12/冬天養腎補氣按4穴道提高免疫力不怕生病_01.png\n",
      "\n",
      "文章標題: 冬季養生先養腎，術養四穴位\n",
      "文章網址: https://heho.com.tw/archives/3723\n",
      "圖片: https://heho.com.tw/wp-content/uploads/2017/12/冬季養生先養腎，術養四穴位_-01.jpg\n",
      "\n",
      "文章標題: 按摩 4 穴道養好腎補元氣\n",
      "文章網址: https://heho.com.tw/archives/243580\n",
      "圖片: https://heho.com.tw/wp-content/uploads/2022/09/1664522808.7496.png\n",
      "\n",
      "文章標題: 養腎養好髮！按3大腎經穴位養出烏黑秀髮\n",
      "文章網址: https://heho.com.tw/archives/28690\n",
      "圖片: https://heho.com.tw/wp-content/uploads/2018/11/1640833352.0944.png\n",
      "\n",
      "文章標題: 按這些穴位就對了！幫助降低你的腦中風危機\n",
      "文章網址: https://heho.com.tw/archives/3858\n",
      "圖片: https://heho.com.tw/wp-content/uploads/2017/12/術養穴位降低腦中風危機-01.jpg\n",
      "\n",
      "文章標題: 活血關節通！3黃金穴道緩解膝蓋痠痛\n",
      "文章網址: https://heho.com.tw/archives/176498\n",
      "圖片: https://heho.com.tw/wp-content/uploads/2021/06/1622534814.0729.png\n",
      "\n",
      "文章標題: 運動後膝蓋痛？４個穴道保養膝蓋緩解不適\n",
      "文章網址: https://heho.com.tw/archives/184876\n",
      "圖片: https://heho.com.tw/wp-content/uploads/2021/07/1627456887.1039.png\n",
      "\n",
      "文章標題: 膝蓋痛又無力？快按４穴道活絡氣血護膝蓋\n",
      "文章網址: https://heho.com.tw/archives/43890\n",
      "圖片: https://heho.com.tw/wp-content/uploads/2019/03/膝蓋痛又無力４穴道活絡氣血護膝蓋.png\n",
      "\n",
      "文章標題: 按這５穴道　腰、膝蓋痛、便祕一次改善\n",
      "文章網址: https://heho.com.tw/archives/18363\n",
      "圖片: https://heho.com.tw/wp-content/uploads/2018/07/穴道.jpg\n",
      "\n",
      "文章標題: 5大生髮穴道，強健頭皮助頭髮生長\n",
      "文章網址: https://heho.com.tw/archives/128855\n",
      "圖片: https://heho.com.tw/wp-content/uploads/2020/08/52484f6d0aadf36a1ab2bd6200bd4c3f.png\n",
      "\n",
      "文章標題: 頭皮屑多又頻掉髮？5穴道對付頭髮煩惱\n",
      "文章網址: https://heho.com.tw/archives/58948\n",
      "圖片: https://heho.com.tw/wp-content/uploads/2019/10/20191030-頭皮屑多又頻掉髮？對付頭髮煩惱5穴道.png\n",
      "\n",
      "文章標題: 暈車按摩５穴道，放假出遊不掃興！\n",
      "文章網址: https://heho.com.tw/archives/63323\n",
      "圖片: https://heho.com.tw/wp-content/uploads/2020/01/過年稿-暈車按摩５穴道，放假出遊不掃興！.png\n",
      "\n",
      "文章標題: 暈車按穴道有解，不讓出遊好掃興\n",
      "文章網址: https://heho.com.tw/archives/8305\n",
      "圖片: https://heho.com.tw/wp-content/uploads/2019/10/暈車按穴道有解，不讓出遊好掃興-01.png\n",
      "\n",
      "文章標題: ２飲食＋４穴道，讓你烏髮又健髮！\n",
      "文章網址: https://heho.com.tw/archives/14835\n",
      "圖片: https://heho.com.tw/wp-content/uploads/2018/06/掉髮穴道-01.jpg\n",
      "\n",
      "文章標題: 對抗掉髮、禿頭危機，就按摩6穴道保養頭皮\n",
      "文章網址: https://heho.com.tw/archives/26175\n",
      "圖片: https://heho.com.tw/wp-content/uploads/2018/10/對抗掉髮、禿頭危機，用6穴道保養頭皮-01.png\n",
      "\n",
      "文章標題: 宿醉頭痛想吐？ 4穴道快速緩解宿醉不適\n",
      "文章網址: https://heho.com.tw/archives/161900\n",
      "圖片: https://heho.com.tw/wp-content/uploads/2021/02/1612843626.2971.png\n",
      "\n",
      "文章標題: 輕敲６穴位通氣血，擊退偏頭痛！\n",
      "文章網址: https://heho.com.tw/archives/41847\n",
      "圖片: https://heho.com.tw/wp-content/uploads/2019/03/偏頭痛穴道-01.png\n",
      "\n",
      "文章標題: 過敏性頭痛好不舒服！３個穴位舒緩疼痛\n",
      "文章網址: https://heho.com.tw/archives/238140\n",
      "圖片: https://heho.com.tw/wp-content/uploads/2022/08/1661914064.5081.png\n",
      "\n",
      "文章標題: 冷氣使人頭痛不出汗，３穴道改善冷氣病\n",
      "文章網址: https://heho.com.tw/archives/176066\n",
      "圖片: https://heho.com.tw/wp-content/uploads/2021/05/1622192455.4849.png\n",
      "\n",
      "文章標題: 對症解頭痛，3種頭痛按穴道速舒緩\n",
      "文章網址: https://heho.com.tw/archives/154248\n",
      "圖片: https://heho.com.tw/wp-content/uploads/2021/01/1608708392.9601.png\n",
      "\n",
      "文章標題: 變天就頭痛，按摩 4 穴道擊退天氣痛！\n",
      "文章網址: https://heho.com.tw/archives/58485\n",
      "圖片: https://heho.com.tw/wp-content/uploads/2019/10/變天就頭痛，按摩4穴道擊退天氣痛！.png\n",
      "\n",
      "文章標題: 眩暈、頭暈好難受？巧按4穴道緩解兼保養\n",
      "文章網址: https://heho.com.tw/archives/85558\n",
      "圖片: https://heho.com.tw/wp-content/uploads/2020/05/337bbd1b9d50e0403b3dee8283d005ad.png\n",
      "\n",
      "文章標題: 頭暈、頭痛好難受？４大穴道速緩解\n",
      "文章網址: https://heho.com.tw/archives/192946\n",
      "圖片: https://heho.com.tw/wp-content/uploads/2021/10/1634715416.7713.png\n",
      "\n",
      "文章標題: 揉按5穴位，改善偶發的頭暈目眩\n",
      "文章網址: https://heho.com.tw/archives/33412\n",
      "圖片: https://heho.com.tw/wp-content/uploads/2018/12/頭暈目眩揉按3穴位有效解決.png\n",
      "\n",
      "文章標題: 一睡醒就落枕！４個穴位緩解疼痛\n",
      "文章網址: https://heho.com.tw/archives/89593\n",
      "圖片: https://heho.com.tw/wp-content/uploads/2020/07/1a73ace29d55d38194d4adeea8e8a001.png\n",
      "\n",
      "文章標題: 舉手不「肩」難，按壓4穴道舒緩50肩\n",
      "文章網址: https://heho.com.tw/archives/12259\n",
      "圖片: https://heho.com.tw/wp-content/uploads/2018/04/按4穴舒緩50肩，舉手不「肩」難-.png\n",
      "\n",
      "文章標題: 6大穴位讓你肩頸放鬆又能豐胸！\n",
      "文章網址: https://heho.com.tw/archives/9983\n",
      "圖片: https://heho.com.tw/wp-content/uploads/2018/03/豐胸-01.jpg\n",
      "\n",
      "文章標題: 對付肩頸痠痛，按摩４個穴道馬上見效！\n",
      "文章網址: https://heho.com.tw/archives/69039\n",
      "圖片: https://heho.com.tw/wp-content/uploads/2020/02/對付肩頸痠痛，4個穴道馬上見效-01.png\n",
      "\n",
      "文章標題: 舒緩肩頸酸痛的重要穴位\n",
      "文章網址: https://heho.com.tw/archives/1523\n",
      "圖片: https://heho.com.tw/wp-content/uploads/2017/10/舒緩-01.jpg\n",
      "\n",
      "文章標題: 鼻子又不舒服了嗎 ?按摩這些穴位改善過敏鼻\n",
      "文章網址: https://heho.com.tw/archives/3980\n",
      "圖片: https://heho.com.tw/wp-content/uploads/2017/12/術養四穴位，緩解鼻過敏-01.jpg\n",
      "\n",
      "文章標題: 過敏性鼻炎多氣虛，3類型按穴道補氣抗過敏\n",
      "文章網址: https://heho.com.tw/archives/131199\n",
      "圖片: https://heho.com.tw/wp-content/uploads/2020/08/0a0279e87a77847a4a5bd6dec984545b.png\n",
      "\n",
      "文章標題: 嘴破怎麼辦？４穴道消炎解痛更快好\n",
      "文章網址: https://heho.com.tw/archives/57857\n",
      "圖片: https://heho.com.tw/wp-content/uploads/2019/10/嘴破怎麼辦？4穴道消炎解痛更快好.png\n",
      "\n",
      "文章標題: 年長者眼茫茫，舒緩疲勞眼，按壓４穴位\n",
      "文章網址: https://heho.com.tw/archives/21863\n",
      "圖片: https://heho.com.tw/wp-content/uploads/2018/09/舒緩眼睛穴位-01.jpg\n",
      "\n",
      "文章標題: 眼睛陷『荒漠』危機！６大穴位按摩改善乾眼症\n",
      "文章網址: https://heho.com.tw/archives/24474\n",
      "圖片: https://heho.com.tw/wp-content/uploads/2018/10/乾眼症穴位-01.jpg\n",
      "\n",
      "文章標題: 居家辦公 / 上班族必備！眼睛疲勞、肩頸僵硬，按手部穴道就搞定\n",
      "文章網址: https://heho.com.tw/archives/59558\n",
      "圖片: https://heho.com.tw/wp-content/uploads/2019/11/20191112-上班族必備！眼睛疲勞、肩頸僵硬，按手部穴道就搞定.png\n",
      "\n",
      "文章標題: 擊退黑眼圈，中醫教你按 6 穴道！\n",
      "文章網址: https://heho.com.tw/archives/56654\n",
      "圖片: https://heho.com.tw/wp-content/uploads/2019/09/擊退黑眼圈，中醫教你按6穴道！.png\n",
      "\n",
      "文章標題: 眼壓太高怎麼辦？教你自我檢測及按對 5 個穴道降壓又明目\n",
      "文章網址: https://heho.com.tw/archives/19138\n",
      "圖片: https://heho.com.tw/wp-content/uploads/2018/08/眼壓太高怎麼辦？按對穴道降壓又明目-01.png\n",
      "\n",
      "文章標題: 眼睛又乾又癢？ 常按護眼穴道改善乾眼症\n",
      "文章網址: https://heho.com.tw/archives/155529\n",
      "圖片: https://heho.com.tw/wp-content/uploads/2021/01/1609321618.8966.png\n",
      "\n",
      "文章標題: 眼睛乾癢又疲勞？眼周６穴道明目又護眼\n",
      "文章網址: https://heho.com.tw/archives/84486\n",
      "圖片: https://heho.com.tw/wp-content/uploads/2020/05/4173142e20b6d6ce375f2273fd3453de.png\n",
      "\n",
      "文章標題: 中暑不適，刮痧4穴位消暑氣\n",
      "文章網址: https://heho.com.tw/archives/14261\n",
      "圖片: https://heho.com.tw/wp-content/uploads/2018/05/中暑不適，-4穴位刮痧消暑氣-01.png\n",
      "\n",
      "文章標題: 炎炎夏日易中暑，４穴位幫忙舒緩不適\n",
      "文章網址: https://heho.com.tw/archives/87385\n",
      "圖片: https://heho.com.tw/wp-content/uploads/2020/06/89ba885e168e69ac013333121151bd4d.png\n",
      "\n",
      "文章標題: 炎炎夏日必備，４大穴道防中暑\n",
      "文章網址: https://heho.com.tw/archives/230142\n",
      "圖片: https://heho.com.tw/wp-content/uploads/2022/07/1657701779.977.png\n",
      "\n",
      "文章標題: 失眠睡不好，６穴道補氣紓壓助好眠\n",
      "文章網址: https://heho.com.tw/archives/244409\n",
      "圖片: https://heho.com.tw/wp-content/uploads/2022/10/1665047218.6311.png\n",
      "\n",
      "文章標題: 多夢、淺眠、難入睡！對症按穴道助你好眠\n",
      "文章網址: https://heho.com.tw/archives/27751\n",
      "圖片: https://heho.com.tw/wp-content/uploads/2018/11/淺眠、多夢、難入睡，對症改善好入眠！-01.png\n",
      "\n",
      "文章標題: 孩子愛哭鬧、不睡覺？2穴道安神又助眠\n",
      "文章網址: https://heho.com.tw/archives/147797\n",
      "圖片: https://heho.com.tw/wp-content/uploads/2020/11/7b230426fb93cc6424802197bc9f75d3.png\n",
      "\n",
      "文章標題: 好累卻睡不著？４個助眠的保健穴道\n",
      "文章網址: https://heho.com.tw/archives/241548\n",
      "圖片: https://heho.com.tw/wp-content/uploads/2022/09/1663663286.4215.png\n",
      "\n",
      "文章標題: 動不動就大爆汗？按4穴道止汗、調理多汗症狀！\n",
      "文章網址: https://heho.com.tw/archives/54960\n",
      "圖片: https://heho.com.tw/wp-content/uploads/2019/08/動不動就大爆汗？按摩4穴道調理多汗症狀_01.png\n",
      "\n",
      "文章標題: 穩定血糖不飆升，5 個控糖穴道必收藏！\n",
      "文章網址: https://heho.com.tw/archives/76552\n",
      "圖片: https://heho.com.tw/wp-content/uploads/2020/03/e6c328ff2c06a935e80d2bf2c6062769.png\n",
      "\n",
      "文章標題: 【Heho微動畫】爸媽必備育兒照護技能！透過穴位按摩緩解孩子7大常見不適\n",
      "文章網址: https://heho.com.tw/archives/149541\n",
      "圖片: https://heho.com.tw/wp-content/uploads/2020/12/273ca3f79ae5b2e5dac1897b7f03fff5.png\n",
      "\n",
      "文章標題: 解便秘這招有效！4 個實用通便穴道按摩\n",
      "文章網址: https://heho.com.tw/archives/40513\n",
      "圖片: https://heho.com.tw/wp-content/uploads/2019/03/解便秘這招有效！4個實用通便穴位_01.png\n",
      "\n",
      "文章標題: 女性不可不知，平衡荷爾蒙黃金4穴位!\n",
      "文章網址: https://heho.com.tw/archives/12003\n",
      "圖片: https://heho.com.tw/wp-content/uploads/2018/04/女性不可不知4穴位，術養平衡荷爾蒙-01-e1524032220787.png\n",
      "\n",
      "文章標題: 孕吐、水腫又抽筋， 6 穴道緩解懷孕不適\n",
      "文章網址: https://heho.com.tw/archives/164832\n",
      "圖片: https://heho.com.tw/wp-content/uploads/2021/03/1615360135.1204.png\n",
      "\n",
      "文章標題: 擔心母奶量不足？6 穴位幫助發奶更順利\n",
      "文章網址: https://heho.com.tw/archives/206460\n",
      "圖片: https://heho.com.tw/wp-content/uploads/2022/02/1644564116.0561.png\n",
      "\n",
      "文章標題: 有催生作用！懷孕時不能碰這６個按摩穴位\n",
      "文章網址: https://heho.com.tw/archives/39924\n",
      "圖片: https://heho.com.tw/wp-content/uploads/2019/02/懷孕不能按的穴道-01.png\n",
      "\n",
      "文章標題: 月經不順常遲到？4 穴道調經順氣血\n",
      "文章網址: https://heho.com.tw/archives/170614\n",
      "圖片: https://heho.com.tw/wp-content/uploads/2021/05/1627456380.7301.png\n",
      "\n",
      "文章標題: 經前症候群好不舒服？按通４穴位舒緩不適\n",
      "文章網址: https://heho.com.tw/archives/165876\n",
      "圖片: https://heho.com.tw/wp-content/uploads/2021/03/1615968479.5173.png\n",
      "\n",
      "文章標題: 緩解經痛4穴位\n",
      "文章網址: https://heho.com.tw/archives/1557\n",
      "圖片: https://heho.com.tw/wp-content/uploads/2017/10/緩解經痛4穴位-2-01.png\n",
      "\n",
      "文章標題: 感冒好難受，按７穴道止咳化痰、通鼻塞\n",
      "文章網址: https://heho.com.tw/archives/7526\n",
      "圖片: https://heho.com.tw/wp-content/uploads/2018/01/按摩7穴道，化痰止咳通鼻塞_過年版.png\n",
      "\n",
      "文章標題: 氣溫忽高忽低，按４穴道防感冒\n",
      "文章網址: https://heho.com.tw/archives/197867\n",
      "圖片: https://heho.com.tw/wp-content/uploads/2021/12/1638342307.2539.png\n",
      "\n",
      "文章標題: 感冒用穴道大全，不適症狀按一按都舒緩\n",
      "文章網址: https://heho.com.tw/archives/27098\n",
      "圖片: https://heho.com.tw/wp-content/uploads/2018/11/感冒用穴道大全，不適症狀按一按都舒緩-01.png\n",
      "\n",
      "文章標題: 孩子發燒感冒，按摩２穴道有助退熱止咳\n",
      "文章網址: https://heho.com.tw/archives/147206\n",
      "圖片: https://heho.com.tw/wp-content/uploads/2020/11/7da635444a82c0ab1bfd9717da62101e.png\n",
      "\n",
      "文章標題: 每天按4大穴道3分鐘，糖尿病就有改善!\n",
      "文章網址: https://heho.com.tw/archives/9177\n",
      "圖片: https://heho.com.tw/wp-content/uploads/2018/03/改善糖尿病有4大金剛穴-01.png\n",
      "\n",
      "文章標題: 中醫看蕁麻疹「３觀念２穴道」舒緩止癢！\n",
      "文章網址: https://heho.com.tw/archives/244932\n",
      "圖片: https://heho.com.tw/wp-content/uploads/2022/10/1665471060.4892.png\n",
      "\n",
      "文章標題: 穴道按摩有效緩解癌症治療副作用\n",
      "文章網址: https://heho.com.tw/archives/44559\n",
      "圖片: https://heho.com.tw/wp-content/uploads/2019/04/按摩穴道有效減輕癌症副作用01.png\n",
      "\n"
     ]
    }
   ],
   "source": [
    "# 定義不想打印的欄位列表\n",
    "exclude_columns = ['部位','症狀']\n",
    "\n",
    "# 迭代 DataFrame 的每一列，並打印出來（排除指定的欄位）\n",
    "for _, row in data.iterrows():\n",
    "    # 打印除了指定的欄位以外的其他欄位\n",
    "    for column, value in row.iteritems():\n",
    "        if column not in exclude_columns:\n",
    "            print(f\"{column}: {value}\")\n",
    "\n",
    "    print()  # 每一列之間插入空行"
   ]
  },
  {
   "cell_type": "markdown",
   "id": "a14b7b41",
   "metadata": {},
   "source": [
    "# 將圖片網址轉換為圖片顯示"
   ]
  },
  {
   "cell_type": "code",
   "execution_count": 24,
   "id": "f2c10ac8",
   "metadata": {},
   "outputs": [
    {
     "name": "stdout",
     "output_type": "stream",
     "text": [
      "文章標題: 告別手腳麻木！５個超有效穴位大公開\n",
      "文章網址: https://heho.com.tw/archives/22330\n"
     ]
    },
    {
     "data": {
      "text/html": [
       "<img src=\"https://heho.com.tw/wp-content/uploads/2018/09/老人手腳麻木穴道-01.jpg\" width=\"400\" height=\"400\"/>"
      ],
      "text/plain": [
       "<IPython.core.display.Image object>"
      ]
     },
     "metadata": {},
     "output_type": "display_data"
    },
    {
     "name": "stdout",
     "output_type": "stream",
     "text": [
      "\n",
      "文章標題: 手腳冰冷怎麼辦？４穴道袪寒保暖通氣血\n",
      "文章網址: https://heho.com.tw/archives/151663\n"
     ]
    },
    {
     "data": {
      "text/html": [
       "<img src=\"https://heho.com.tw/wp-content/uploads/2020/12/1607586481.7129.png\" width=\"400\" height=\"400\"/>"
      ],
      "text/plain": [
       "<IPython.core.display.Image object>"
      ]
     },
     "metadata": {},
     "output_type": "display_data"
    },
    {
     "name": "stdout",
     "output_type": "stream",
     "text": [
      "\n",
      "文章標題: 手腕痛又麻？按摩４穴道緩解「滑鼠手」疼痛\n",
      "文章網址: https://heho.com.tw/archives/183035\n"
     ]
    },
    {
     "data": {
      "text/html": [
       "<img src=\"https://heho.com.tw/wp-content/uploads/2021/07/1626247539.8463.png\" width=\"400\" height=\"400\"/>"
      ],
      "text/plain": [
       "<IPython.core.display.Image object>"
      ]
     },
     "metadata": {},
     "output_type": "display_data"
    },
    {
     "name": "stdout",
     "output_type": "stream",
     "text": [
      "\n",
      "文章標題: 久坐易有大小毛病，按三穴道保健、解久坐不適\n",
      "文章網址: https://heho.com.tw/archives/192257\n"
     ]
    },
    {
     "data": {
      "text/html": [
       "<img src=\"https://heho.com.tw/wp-content/uploads/2021/10/1634030704.6743.png\" width=\"400\" height=\"400\"/>"
      ],
      "text/plain": [
       "<IPython.core.display.Image object>"
      ]
     },
     "metadata": {},
     "output_type": "display_data"
    },
    {
     "name": "stdout",
     "output_type": "stream",
     "text": [
      "\n",
      "文章標題: 長期久坐，水腫成蘿蔔腿！中醫傳授４穴位，小腿快速瘦一圈\n",
      "文章網址: https://heho.com.tw/archives/27685\n"
     ]
    },
    {
     "data": {
      "text/html": [
       "<img src=\"https://heho.com.tw/wp-content/uploads/2018/11/瘦小腿穴道-01.png\" width=\"400\" height=\"400\"/>"
      ],
      "text/plain": [
       "<IPython.core.display.Image object>"
      ]
     },
     "metadata": {},
     "output_type": "display_data"
    },
    {
     "name": "stdout",
     "output_type": "stream",
     "text": [
      "\n",
      "文章標題: 足底筋膜炎總讓你「寸步難行」？中醫推薦按摩 6 穴位助解痛\n",
      "文章網址: https://heho.com.tw/archives/259487\n"
     ]
    },
    {
     "data": {
      "text/html": [
       "<img src=\"https://heho.com.tw/wp-content/uploads/2023/01/1673862536.3145.jpg\" width=\"400\" height=\"400\"/>"
      ],
      "text/plain": [
       "<IPython.core.display.Image object>"
      ]
     },
     "metadata": {},
     "output_type": "display_data"
    },
    {
     "name": "stdout",
     "output_type": "stream",
     "text": [
      "\n",
      "文章標題: 運動後鐵腿，按摩 4 穴道助緩解\n",
      "文章網址: https://heho.com.tw/archives/156385\n"
     ]
    },
    {
     "data": {
      "text/html": [
       "<img src=\"https://heho.com.tw/wp-content/uploads/2021/01/1609820136.3791.png\" width=\"400\" height=\"400\"/>"
      ],
      "text/plain": [
       "<IPython.core.display.Image object>"
      ]
     },
     "metadata": {},
     "output_type": "display_data"
    },
    {
     "name": "stdout",
     "output_type": "stream",
     "text": [
      "\n",
      "文章標題: 腳麻動不了嗎？３個急救穴位，即按即舒緩！\n",
      "文章網址: https://heho.com.tw/archives/29020\n"
     ]
    },
    {
     "data": {
      "text/html": [
       "<img src=\"https://heho.com.tw/wp-content/uploads/2018/11/腿麻穴道-01.png\" width=\"400\" height=\"400\"/>"
      ],
      "text/plain": [
       "<IPython.core.display.Image object>"
      ]
     },
     "metadata": {},
     "output_type": "display_data"
    },
    {
     "name": "stdout",
     "output_type": "stream",
     "text": [
      "\n",
      "文章標題: 穴位不再只在腳底啦！！！腳背也可以\n",
      "文章網址: https://heho.com.tw/archives/2716\n"
     ]
    },
    {
     "data": {
      "text/html": [
       "<img src=\"https://heho.com.tw/wp-content/uploads/2017/11/腳背穴道-03.png\" width=\"400\" height=\"400\"/>"
      ],
      "text/plain": [
       "<IPython.core.display.Image object>"
      ]
     },
     "metadata": {},
     "output_type": "display_data"
    },
    {
     "name": "stdout",
     "output_type": "stream",
     "text": [
      "\n",
      "文章標題: 失智可用中醫改善！日常保養按這４穴道\n",
      "文章網址: https://heho.com.tw/archives/186978\n"
     ]
    },
    {
     "data": {
      "text/html": [
       "<img src=\"https://heho.com.tw/wp-content/uploads/2021/08/1629363660.4416.png\" width=\"400\" height=\"400\"/>"
      ],
      "text/plain": [
       "<IPython.core.display.Image object>"
      ]
     },
     "metadata": {},
     "output_type": "display_data"
    },
    {
     "name": "stdout",
     "output_type": "stream",
     "text": [
      "\n",
      "文章標題: 失智症有望透過中醫改善，中醫師傳授保養的四大穴位！\n",
      "文章網址: https://heho.com.tw/archives/273818\n"
     ]
    },
    {
     "data": {
      "text/html": [
       "<img src=\"https://heho.com.tw/wp-content/uploads/2023/05/1683105127.6649.jpg\" width=\"400\" height=\"400\"/>"
      ],
      "text/plain": [
       "<IPython.core.display.Image object>"
      ]
     },
     "metadata": {},
     "output_type": "display_data"
    },
    {
     "name": "stdout",
     "output_type": "stream",
     "text": [
      "\n",
      "文章標題: 治療失智症中醫也可以！５大穴道延緩退化\n",
      "文章網址: https://heho.com.tw/archives/28792\n"
     ]
    },
    {
     "data": {
      "text/html": [
       "<img src=\"https://heho.com.tw/wp-content/uploads/2018/11/治療失智穴道-01.png\" width=\"400\" height=\"400\"/>"
      ],
      "text/plain": [
       "<IPython.core.display.Image object>"
      ]
     },
     "metadata": {},
     "output_type": "display_data"
    },
    {
     "name": "stdout",
     "output_type": "stream",
     "text": [
      "\n",
      "文章標題: 居家辦公 / 按摩手也能活化大腦！手部４穴道打開活腦開關，讓大腦不當機\n",
      "文章網址: https://heho.com.tw/archives/94042\n"
     ]
    },
    {
     "data": {
      "text/html": [
       "<img src=\"https://heho.com.tw/wp-content/uploads/2020/07/2fb3027bdac8992a25c494f561dfe393.png\" width=\"400\" height=\"400\"/>"
      ],
      "text/plain": [
       "<IPython.core.display.Image object>"
      ]
     },
     "metadata": {},
     "output_type": "display_data"
    },
    {
     "name": "stdout",
     "output_type": "stream",
     "text": [
      "\n",
      "文章標題: 甲狀腺亢進不適症狀，巧按穴道助舒緩\n",
      "文章網址: https://heho.com.tw/archives/26052\n"
     ]
    },
    {
     "data": {
      "text/html": [
       "<img src=\"https://heho.com.tw/wp-content/uploads/2018/10/甲狀腺亢進的不適，巧按穴道助舒緩-01.png\" width=\"400\" height=\"400\"/>"
      ],
      "text/plain": [
       "<IPython.core.display.Image object>"
      ]
     },
     "metadata": {},
     "output_type": "display_data"
    },
    {
     "name": "stdout",
     "output_type": "stream",
     "text": [
      "\n",
      "文章標題: ５個神奇穴位，除體濕、調節內分泌！\n",
      "文章網址: https://heho.com.tw/archives/53962\n"
     ]
    },
    {
     "data": {
      "text/html": [
       "<img src=\"https://heho.com.tw/wp-content/uploads/2019/07/5個神奇穴位，除體濕、調節內分泌_1.png\" width=\"400\" height=\"400\"/>"
      ],
      "text/plain": [
       "<IPython.core.display.Image object>"
      ]
     },
     "metadata": {},
     "output_type": "display_data"
    },
    {
     "name": "stdout",
     "output_type": "stream",
     "text": [
      "\n",
      "文章標題: 保養心血管，按 3 穴道防三高\n",
      "文章網址: https://heho.com.tw/archives/143707\n"
     ]
    },
    {
     "data": {
      "text/html": [
       "<img src=\"https://heho.com.tw/wp-content/uploads/2020/10/542668e942fdbe342ef15c3fcecf30c9.png\" width=\"400\" height=\"400\"/>"
      ],
      "text/plain": [
       "<IPython.core.display.Image object>"
      ]
     },
     "metadata": {},
     "output_type": "display_data"
    },
    {
     "name": "stdout",
     "output_type": "stream",
     "text": [
      "\n",
      "文章標題: 補氣又養心，4 穴道保養心血管\n",
      "文章網址: https://heho.com.tw/archives/208047\n"
     ]
    },
    {
     "data": {
      "text/html": [
       "<img src=\"https://heho.com.tw/wp-content/uploads/2022/02/1645690619.6939.png\" width=\"400\" height=\"400\"/>"
      ],
      "text/plain": [
       "<IPython.core.display.Image object>"
      ]
     },
     "metadata": {},
     "output_type": "display_data"
    },
    {
     "name": "stdout",
     "output_type": "stream",
     "text": [
      "\n",
      "文章標題: 4穴道養心通氣，越按心臟越健康\n",
      "文章網址: https://heho.com.tw/archives/55582\n"
     ]
    },
    {
     "data": {
      "text/html": [
       "<img src=\"https://heho.com.tw/wp-content/uploads/2019/08/4穴道養心通氣，越按心臟越健康.png\" width=\"400\" height=\"400\"/>"
      ],
      "text/plain": [
       "<IPython.core.display.Image object>"
      ]
     },
     "metadata": {},
     "output_type": "display_data"
    },
    {
     "name": "stdout",
     "output_type": "stream",
     "text": [
      "\n",
      "文章標題: 神奇5穴位讓你緩解牙齒疼痛！\n",
      "文章網址: https://heho.com.tw/archives/14673\n"
     ]
    },
    {
     "data": {
      "text/html": [
       "<img src=\"https://heho.com.tw/wp-content/uploads/2018/05/牙齒痛穴位-01.jpg\" width=\"400\" height=\"400\"/>"
      ],
      "text/plain": [
       "<IPython.core.display.Image object>"
      ]
     },
     "metadata": {},
     "output_type": "display_data"
    },
    {
     "name": "stdout",
     "output_type": "stream",
     "text": [
      "\n",
      "文章標題: 按穴道也能顧牙齒！按摩 5 穴道讓牙齒更健康\n",
      "文章網址: https://heho.com.tw/archives/165074\n"
     ]
    },
    {
     "data": {
      "text/html": [
       "<img src=\"https://heho.com.tw/wp-content/uploads/2021/03/1615363076.3303.png\" width=\"400\" height=\"400\"/>"
      ],
      "text/plain": [
       "<IPython.core.display.Image object>"
      ]
     },
     "metadata": {},
     "output_type": "display_data"
    },
    {
     "name": "stdout",
     "output_type": "stream",
     "text": [
      "\n",
      "文章標題: 冬天皮在癢，敲打肺經、按穴道止癢有解!\n",
      "文章網址: https://heho.com.tw/archives/30075\n"
     ]
    },
    {
     "data": {
      "text/html": [
       "<img src=\"https://heho.com.tw/wp-content/uploads/2018/12/敲打肺經_按穴道改善冬季癢！.png\" width=\"400\" height=\"400\"/>"
      ],
      "text/plain": [
       "<IPython.core.display.Image object>"
      ]
     },
     "metadata": {},
     "output_type": "display_data"
    },
    {
     "name": "stdout",
     "output_type": "stream",
     "text": [
      "\n",
      "文章標題: 常按魔法穴道，改善孩子皮膚炎困擾\n",
      "文章網址: https://heho.com.tw/archives/147500\n"
     ]
    },
    {
     "data": {
      "text/html": [
       "<img src=\"https://heho.com.tw/wp-content/uploads/2020/11/69e6d65a4bf71ee947c89ace69505536-1.png\" width=\"400\" height=\"400\"/>"
      ],
      "text/plain": [
       "<IPython.core.display.Image object>"
      ]
     },
     "metadata": {},
     "output_type": "display_data"
    },
    {
     "name": "stdout",
     "output_type": "stream",
     "text": [
      "\n",
      "文章標題: 止癢不用抓!異位性皮膚炎，按穴道也有效\n",
      "文章網址: https://heho.com.tw/archives/15828\n"
     ]
    },
    {
     "data": {
      "text/html": [
       "<img src=\"https://heho.com.tw/wp-content/uploads/2018/06/止癢不用抓！異位性皮膚炎，按穴道也有效-01.png\" width=\"400\" height=\"400\"/>"
      ],
      "text/plain": [
       "<IPython.core.display.Image object>"
      ]
     },
     "metadata": {},
     "output_type": "display_data"
    },
    {
     "name": "stdout",
     "output_type": "stream",
     "text": [
      "\n",
      "文章標題: 按穴道也能消痘痘，4種類型「痘」有效！\n",
      "文章網址: https://heho.com.tw/archives/54400\n"
     ]
    },
    {
     "data": {
      "text/html": [
       "<img src=\"https://heho.com.tw/wp-content/uploads/2019/08/按穴道也能消痘痘，4種類型「痘」有效-1.png\" width=\"400\" height=\"400\"/>"
      ],
      "text/plain": [
       "<IPython.core.display.Image object>"
      ]
     },
     "metadata": {},
     "output_type": "display_data"
    },
    {
     "name": "stdout",
     "output_type": "stream",
     "text": [
      "\n",
      "文章標題: 天氣悶熱汗臭、體味重？4大穴道清熱除臭！\n",
      "文章網址: https://heho.com.tw/archives/82545\n"
     ]
    },
    {
     "data": {
      "text/html": [
       "<img src=\"https://heho.com.tw/wp-content/uploads/2020/05/01dd4ca39e3ab0f877910affd5b2e79f.png\" width=\"400\" height=\"400\"/>"
      ],
      "text/plain": [
       "<IPython.core.display.Image object>"
      ]
     },
     "metadata": {},
     "output_type": "display_data"
    },
    {
     "name": "stdout",
     "output_type": "stream",
     "text": [
      "\n",
      "文章標題: 2招穴道按摩，提升孩子免疫力防過敏\n",
      "文章網址: https://heho.com.tw/archives/136701\n"
     ]
    },
    {
     "data": {
      "text/html": [
       "<img src=\"https://heho.com.tw/wp-content/uploads/2020/09/b42c316d9bc18f4ae503d76c05acfa46.png\" width=\"400\" height=\"400\"/>"
      ],
      "text/plain": [
       "<IPython.core.display.Image object>"
      ]
     },
     "metadata": {},
     "output_type": "display_data"
    },
    {
     "name": "stdout",
     "output_type": "stream",
     "text": [
      "\n",
      "文章標題: 啟動身體免疫力！5個穴道解決身體小毛病\n",
      "文章網址: https://heho.com.tw/archives/65873\n"
     ]
    },
    {
     "data": {
      "text/html": [
       "<img src=\"https://heho.com.tw/wp-content/uploads/2020/01/啟動身體免疫力5個穴道解決身體小毛病.png\" width=\"400\" height=\"400\"/>"
      ],
      "text/plain": [
       "<IPython.core.display.Image object>"
      ]
     },
     "metadata": {},
     "output_type": "display_data"
    },
    {
     "name": "stdout",
     "output_type": "stream",
     "text": [
      "\n",
      "文章標題: 對抗流感，常按４穴道提升免疫力！\n",
      "文章網址: https://heho.com.tw/archives/64156\n"
     ]
    },
    {
     "data": {
      "text/html": [
       "<img src=\"https://heho.com.tw/wp-content/uploads/2020/01/對抗流感，常按4穴道提升免疫力.png\" width=\"400\" height=\"400\"/>"
      ],
      "text/plain": [
       "<IPython.core.display.Image object>"
      ]
     },
     "metadata": {},
     "output_type": "display_data"
    },
    {
     "name": "stdout",
     "output_type": "stream",
     "text": [
      "\n",
      "文章標題: 夏季預防冷氣病，勤按4穴道提升免疫力!\n",
      "文章網址: https://heho.com.tw/archives/89465\n"
     ]
    },
    {
     "data": {
      "text/html": [
       "<img src=\"https://heho.com.tw/wp-content/uploads/2020/07/4699c31f83ff29f99d48232f9eedee5f.png\" width=\"400\" height=\"400\"/>"
      ],
      "text/plain": [
       "<IPython.core.display.Image object>"
      ]
     },
     "metadata": {},
     "output_type": "display_data"
    },
    {
     "name": "stdout",
     "output_type": "stream",
     "text": [
      "\n",
      "文章標題: 趕走慢性疲勞，常揉 6 穴道\n",
      "文章網址: https://heho.com.tw/archives/180695\n"
     ]
    },
    {
     "data": {
      "text/html": [
       "<img src=\"https://heho.com.tw/wp-content/uploads/2021/06/1625043215.7719.png\" width=\"400\" height=\"400\"/>"
      ],
      "text/plain": [
       "<IPython.core.display.Image object>"
      ]
     },
     "metadata": {},
     "output_type": "display_data"
    },
    {
     "name": "stdout",
     "output_type": "stream",
     "text": [
      "\n",
      "文章標題: 按摩這三組穴位可有效紓解「慢性疲勞症候群」\n",
      "文章網址: https://heho.com.tw/archives/267950\n"
     ]
    },
    {
     "data": {
      "text/html": [
       "<img src=\"https://heho.com.tw/wp-content/uploads/2023/03/1679648895.1824.jpg\" width=\"400\" height=\"400\"/>"
      ],
      "text/plain": [
       "<IPython.core.display.Image object>"
      ]
     },
     "metadata": {},
     "output_type": "display_data"
    },
    {
     "name": "stdout",
     "output_type": "stream",
     "text": [
      "\n",
      "文章標題: 全身各種疼痛，6穴道對症來解\n",
      "文章網址: https://heho.com.tw/archives/63109\n"
     ]
    },
    {
     "data": {
      "text/html": [
       "<img src=\"https://heho.com.tw/wp-content/uploads/2020/01/全身各種疼痛，6穴道對症來解.png\" width=\"400\" height=\"400\"/>"
      ],
      "text/plain": [
       "<IPython.core.display.Image object>"
      ]
     },
     "metadata": {},
     "output_type": "display_data"
    },
    {
     "name": "stdout",
     "output_type": "stream",
     "text": [
      "\n",
      "文章標題: 急救保命必收藏！身體的６大急救穴道\n",
      "文章網址: https://heho.com.tw/archives/90853\n"
     ]
    },
    {
     "data": {
      "text/html": [
       "<img src=\"https://heho.com.tw/wp-content/uploads/2020/07/87c973f539e03655d87091d1e41e1161.png\" width=\"400\" height=\"400\"/>"
      ],
      "text/plain": [
       "<IPython.core.display.Image object>"
      ]
     },
     "metadata": {},
     "output_type": "display_data"
    },
    {
     "name": "stdout",
     "output_type": "stream",
     "text": [
      "\n",
      "文章標題: 人體５大器官排毒穴道\n",
      "文章網址: https://heho.com.tw/archives/15237\n"
     ]
    },
    {
     "data": {
      "text/html": [
       "<img src=\"https://heho.com.tw/wp-content/uploads/2018/06/內臟排毒穴道-01.jpg\" width=\"400\" height=\"400\"/>"
      ],
      "text/plain": [
       "<IPython.core.display.Image object>"
      ]
     },
     "metadata": {},
     "output_type": "display_data"
    },
    {
     "name": "stdout",
     "output_type": "stream",
     "text": [
      "\n",
      "文章標題: 打通經絡　痠痛不在！６個治痠痛穴道，肩頸腰痠一次Ｋ.Ｏ\n",
      "文章網址: https://heho.com.tw/archives/40602\n"
     ]
    },
    {
     "data": {
      "text/html": [
       "<img src=\"https://heho.com.tw/wp-content/uploads/2019/03/舒緩肩頸痠痛的自癒點2.png\" width=\"400\" height=\"400\"/>"
      ],
      "text/plain": [
       "<IPython.core.display.Image object>"
      ]
     },
     "metadata": {},
     "output_type": "display_data"
    },
    {
     "name": "stdout",
     "output_type": "stream",
     "text": [
      "\n",
      "文章標題: ４大穴道解痠痛，打掃不再腰痠背痛！\n",
      "文章網址: https://heho.com.tw/archives/63507\n"
     ]
    },
    {
     "data": {
      "text/html": [
       "<img src=\"https://heho.com.tw/wp-content/uploads/2020/01/4大穴道解痠痛打掃不再腰痠背痛-2.png\" width=\"400\" height=\"400\"/>"
      ],
      "text/plain": [
       "<IPython.core.display.Image object>"
      ]
     },
     "metadata": {},
     "output_type": "display_data"
    },
    {
     "name": "stdout",
     "output_type": "stream",
     "text": [
      "\n",
      "文章標題: 6個穴道助代謝，脂肪不囤積!\n",
      "文章網址: https://heho.com.tw/archives/8400\n"
     ]
    },
    {
     "data": {
      "text/html": [
       "<img src=\"https://heho.com.tw/wp-content/uploads/2018/02/不讓年貨囤積，6招提升代謝-01.png\" width=\"400\" height=\"400\"/>"
      ],
      "text/plain": [
       "<IPython.core.display.Image object>"
      ]
     },
     "metadata": {},
     "output_type": "display_data"
    },
    {
     "name": "stdout",
     "output_type": "stream",
     "text": [
      "\n",
      "文章標題: 放假吃太多？4消脂穴道，促進循環代謝\n",
      "文章網址: https://heho.com.tw/archives/205888\n"
     ]
    },
    {
     "data": {
      "text/html": [
       "<img src=\"https://heho.com.tw/wp-content/uploads/2022/02/1644306661.9135.png\" width=\"400\" height=\"400\"/>"
      ],
      "text/plain": [
       "<IPython.core.display.Image object>"
      ]
     },
     "metadata": {},
     "output_type": "display_data"
    },
    {
     "name": "stdout",
     "output_type": "stream",
     "text": [
      "\n",
      "文章標題: ８穴道提升代謝、除脂肪！讓你年後不發胖\n",
      "文章網址: https://heho.com.tw/archives/37908\n"
     ]
    },
    {
     "data": {
      "text/html": [
       "<img src=\"https://heho.com.tw/wp-content/uploads/2019/01/助代謝穴道-01.png\" width=\"400\" height=\"400\"/>"
      ],
      "text/plain": [
       "<IPython.core.display.Image object>"
      ]
     },
     "metadata": {},
     "output_type": "display_data"
    },
    {
     "name": "stdout",
     "output_type": "stream",
     "text": [
      "\n",
      "文章標題: 你該知道耳朵上的瘦身穴道\n",
      "文章網址: https://heho.com.tw/archives/8487\n"
     ]
    },
    {
     "data": {
      "text/html": [
       "<img src=\"https://heho.com.tw/wp-content/uploads/2018/02/按耳朵就能瘦.png\" width=\"400\" height=\"400\"/>"
      ],
      "text/plain": [
       "<IPython.core.display.Image object>"
      ]
     },
     "metadata": {},
     "output_type": "display_data"
    },
    {
     "name": "stdout",
     "output_type": "stream",
     "text": [
      "\n",
      "文章標題: 按穴道通經活絡，打造出易瘦體質\n",
      "文章網址: https://heho.com.tw/archives/50437\n"
     ]
    },
    {
     "data": {
      "text/html": [
       "<img src=\"https://heho.com.tw/wp-content/uploads/2019/05/按穴道通經活絡，打造出易瘦體質-01.png\" width=\"400\" height=\"400\"/>"
      ],
      "text/plain": [
       "<IPython.core.display.Image object>"
      ]
     },
     "metadata": {},
     "output_type": "display_data"
    },
    {
     "name": "stdout",
     "output_type": "stream",
     "text": [
      "\n",
      "文章標題: 瘦小腹必備！６大減脂穴道改善代謝\n",
      "文章網址: https://heho.com.tw/archives/226806\n"
     ]
    },
    {
     "data": {
      "text/html": [
       "<img src=\"https://heho.com.tw/wp-content/uploads/2022/06/1655891571.912.png\" width=\"400\" height=\"400\"/>"
      ],
      "text/plain": [
       "<IPython.core.display.Image object>"
      ]
     },
     "metadata": {},
     "output_type": "display_data"
    },
    {
     "name": "stdout",
     "output_type": "stream",
     "text": [
      "\n",
      "文章標題: 瘦身４穴道促進代謝，打造易瘦體質\n",
      "文章網址: https://heho.com.tw/archives/179059\n"
     ]
    },
    {
     "data": {
      "text/html": [
       "<img src=\"https://heho.com.tw/wp-content/uploads/2021/06/1624000421.3723.png\" width=\"400\" height=\"400\"/>"
      ],
      "text/plain": [
       "<IPython.core.display.Image object>"
      ]
     },
     "metadata": {},
     "output_type": "display_data"
    },
    {
     "name": "stdout",
     "output_type": "stream",
     "text": [
      "\n",
      "文章標題: 瘦身必備！５個重點穴道從頭瘦到腳\n",
      "文章網址: https://heho.com.tw/archives/81652\n"
     ]
    },
    {
     "data": {
      "text/html": [
       "<img src=\"https://heho.com.tw/wp-content/uploads/2020/05/a0b03459f9421508b70eb2a1f55c8266.png\" width=\"400\" height=\"400\"/>"
      ],
      "text/plain": [
       "<IPython.core.display.Image object>"
      ]
     },
     "metadata": {},
     "output_type": "display_data"
    },
    {
     "name": "stdout",
     "output_type": "stream",
     "text": [
      "\n",
      "文章標題: 冬至補陽好時機，按５穴道陽氣充足不生病\n",
      "文章網址: https://heho.com.tw/archives/152947\n"
     ]
    },
    {
     "data": {
      "text/html": [
       "<img src=\"https://heho.com.tw/wp-content/uploads/2020/12/1608102573.4604.png\" width=\"400\" height=\"400\"/>"
      ],
      "text/plain": [
       "<IPython.core.display.Image object>"
      ]
     },
     "metadata": {},
     "output_type": "display_data"
    },
    {
     "name": "stdout",
     "output_type": "stream",
     "text": [
      "\n",
      "文章標題: 4 種身體的「虛」，按摩對應穴道來保養！\n",
      "文章網址: https://heho.com.tw/archives/86230\n"
     ]
    },
    {
     "data": {
      "text/html": [
       "<img src=\"https://heho.com.tw/wp-content/uploads/2020/06/c40a51550ce5957e30b1d350260e96bb.png\" width=\"400\" height=\"400\"/>"
      ],
      "text/plain": [
       "<IPython.core.display.Image object>"
      ]
     },
     "metadata": {},
     "output_type": "display_data"
    },
    {
     "name": "stdout",
     "output_type": "stream",
     "text": [
      "\n",
      "文章標題: 常按神奇 2 穴道，讓孩子長高、變聰明！\n",
      "文章網址: https://heho.com.tw/archives/136091\n"
     ]
    },
    {
     "data": {
      "text/html": [
       "<img src=\"https://heho.com.tw/wp-content/uploads/2020/09/9095aeacfcec57bc0991ec5f1dfec2cd.png\" width=\"400\" height=\"400\"/>"
      ],
      "text/plain": [
       "<IPython.core.display.Image object>"
      ]
     },
     "metadata": {},
     "output_type": "display_data"
    },
    {
     "name": "stdout",
     "output_type": "stream",
     "text": [
      "\n",
      "文章標題: 按壓手掌６穴位，輕鬆保養五臟六腑\n",
      "文章網址: https://heho.com.tw/archives/37152\n"
     ]
    },
    {
     "data": {
      "text/html": [
       "<img src=\"https://heho.com.tw/wp-content/uploads/2019/01/五臟六腑_手掌-01.png\" width=\"400\" height=\"400\"/>"
      ],
      "text/plain": [
       "<IPython.core.display.Image object>"
      ]
     },
     "metadata": {},
     "output_type": "display_data"
    },
    {
     "name": "stdout",
     "output_type": "stream",
     "text": [
      "\n",
      "文章標題: 夏天濕熱易上火？揉按4穴道祛濕除熱好養身\n",
      "文章網址: https://heho.com.tw/archives/49020\n"
     ]
    },
    {
     "data": {
      "text/html": [
       "<img src=\"https://heho.com.tw/wp-content/uploads/2019/05/夏天濕熱易上火？揉按4穴道祛濕除熱養好身_01.png\" width=\"400\" height=\"400\"/>"
      ],
      "text/plain": [
       "<IPython.core.display.Image object>"
      ]
     },
     "metadata": {},
     "output_type": "display_data"
    },
    {
     "name": "stdout",
     "output_type": "stream",
     "text": [
      "\n",
      "文章標題: 常按６穴道，助舒壓、解身體大小困擾\n",
      "文章網址: https://heho.com.tw/archives/168060\n"
     ]
    },
    {
     "data": {
      "text/html": [
       "<img src=\"https://heho.com.tw/wp-content/uploads/2021/04/1617949389.5712.png\" width=\"400\" height=\"400\"/>"
      ],
      "text/plain": [
       "<IPython.core.display.Image object>"
      ]
     },
     "metadata": {},
     "output_type": "display_data"
    },
    {
     "name": "stdout",
     "output_type": "stream",
     "text": [
      "\n",
      "文章標題: ５大穴道擊退虛寒、水腫體質\n",
      "文章網址: https://heho.com.tw/archives/157822\n"
     ]
    },
    {
     "data": {
      "text/html": [
       "<img src=\"https://heho.com.tw/wp-content/uploads/2021/01/1610526263.6923.png\" width=\"400\" height=\"400\"/>"
      ],
      "text/plain": [
       "<IPython.core.display.Image object>"
      ]
     },
     "metadata": {},
     "output_type": "display_data"
    },
    {
     "name": "stdout",
     "output_type": "stream",
     "text": [
      "\n",
      "文章標題: 穀雨時節養生秘訣，５穴道去濕邪又助眠\n",
      "文章網址: https://heho.com.tw/archives/79088\n"
     ]
    },
    {
     "data": {
      "text/html": [
       "<img src=\"https://heho.com.tw/wp-content/uploads/2020/04/9645816af1333a2684c05fbf177cefe0.png\" width=\"400\" height=\"400\"/>"
      ],
      "text/plain": [
       "<IPython.core.display.Image object>"
      ]
     },
     "metadata": {},
     "output_type": "display_data"
    },
    {
     "name": "stdout",
     "output_type": "stream",
     "text": [
      "\n",
      "文章標題: 養生必備！6個補氣強身的特效穴位\n",
      "文章網址: https://heho.com.tw/archives/59263\n"
     ]
    },
    {
     "data": {
      "text/html": [
       "<img src=\"https://heho.com.tw/wp-content/uploads/2019/11/養生必備！6個補氣強身的特效穴位.png\" width=\"400\" height=\"400\"/>"
      ],
      "text/plain": [
       "<IPython.core.display.Image object>"
      ]
     },
     "metadata": {},
     "output_type": "display_data"
    },
    {
     "name": "stdout",
     "output_type": "stream",
     "text": [
      "\n",
      "文章標題: 越按越健康！必收藏的６個養生穴道\n",
      "文章網址: https://heho.com.tw/archives/166568\n"
     ]
    },
    {
     "data": {
      "text/html": [
       "<img src=\"https://heho.com.tw/wp-content/uploads/2021/03/1616569363.0597.png\" width=\"400\" height=\"400\"/>"
      ],
      "text/plain": [
       "<IPython.core.display.Image object>"
      ]
     },
     "metadata": {},
     "output_type": "display_data"
    },
    {
     "name": "stdout",
     "output_type": "stream",
     "text": [
      "\n",
      "文章標題: 按穴道防血栓，４個穴道幫助活血化瘀\n",
      "文章網址: https://heho.com.tw/archives/165792\n"
     ]
    },
    {
     "data": {
      "text/html": [
       "<img src=\"https://heho.com.tw/wp-content/uploads/2021/03/1615966003.175.png\" width=\"400\" height=\"400\"/>"
      ],
      "text/plain": [
       "<IPython.core.display.Image object>"
      ]
     },
     "metadata": {},
     "output_type": "display_data"
    },
    {
     "name": "stdout",
     "output_type": "stream",
     "text": [
      "\n",
      "文章標題: 溫差大要當「心」，按摩穴道穩血壓防疾病\n",
      "文章網址: https://heho.com.tw/archives/59883\n"
     ]
    },
    {
     "data": {
      "text/html": [
       "<img src=\"https://heho.com.tw/wp-content/uploads/2019/11/20191119-溫差大要當「心」，按摩穴道穩血壓防疾病.png\" width=\"400\" height=\"400\"/>"
      ],
      "text/plain": [
       "<IPython.core.display.Image object>"
      ]
     },
     "metadata": {},
     "output_type": "display_data"
    },
    {
     "name": "stdout",
     "output_type": "stream",
     "text": [
      "\n",
      "文章標題: 降低血壓從頭到腳，不可不知5大穴道！\n",
      "文章網址: https://heho.com.tw/archives/18849\n"
     ]
    },
    {
     "data": {
      "text/html": [
       "<img src=\"https://heho.com.tw/wp-content/uploads/2018/07/降低血壓從頭到腳，不可不知5大穴道！-01.png\" width=\"400\" height=\"400\"/>"
      ],
      "text/plain": [
       "<IPython.core.display.Image object>"
      ]
     },
     "metadata": {},
     "output_type": "display_data"
    },
    {
     "name": "stdout",
     "output_type": "stream",
     "text": [
      "\n",
      "文章標題: 私密處搔癢、分泌物多？按 4 穴道遠離婦科困擾\n",
      "文章網址: https://heho.com.tw/archives/171406\n"
     ]
    },
    {
     "data": {
      "text/html": [
       "<img src=\"https://heho.com.tw/wp-content/uploads/2021/06/1620792691.9009.png\" width=\"400\" height=\"400\"/>"
      ],
      "text/plain": [
       "<IPython.core.display.Image object>"
      ]
     },
     "metadata": {},
     "output_type": "display_data"
    },
    {
     "name": "stdout",
     "output_type": "stream",
     "text": [
      "\n",
      "文章標題: 春天養肝最好，4個穴道提升免疫力\n",
      "文章網址: https://heho.com.tw/archives/8854\n"
     ]
    },
    {
     "data": {
      "text/html": [
       "<img src=\"https://heho.com.tw/wp-content/uploads/2018/03/春天養肝，4穴道補氣防病-01.png\" width=\"400\" height=\"400\"/>"
      ],
      "text/plain": [
       "<IPython.core.display.Image object>"
      ]
     },
     "metadata": {},
     "output_type": "display_data"
    },
    {
     "name": "stdout",
     "output_type": "stream",
     "text": [
      "\n",
      "文章標題: 中醫治療脂肪肝 3種類型按摩穴道來調理\n",
      "文章網址: https://heho.com.tw/archives/57554\n"
     ]
    },
    {
     "data": {
      "text/html": [
       "<img src=\"https://heho.com.tw/wp-content/uploads/2019/10/中醫治療脂肪肝，3種類型按摩穴道來調理.png\" width=\"400\" height=\"400\"/>"
      ],
      "text/plain": [
       "<IPython.core.display.Image object>"
      ]
     },
     "metadata": {},
     "output_type": "display_data"
    },
    {
     "name": "stdout",
     "output_type": "stream",
     "text": [
      "\n",
      "文章標題: 春天是養肝好時機！用 2 方法、壓 2 穴道為整年健康打根基\n",
      "文章網址: https://heho.com.tw/archives/262457\n"
     ]
    },
    {
     "data": {
      "text/html": [
       "<img src=\"https://heho.com.tw/wp-content/uploads/2023/02/1676214532.3136.jpg\" width=\"400\" height=\"400\"/>"
      ],
      "text/plain": [
       "<IPython.core.display.Image object>"
      ]
     },
     "metadata": {},
     "output_type": "display_data"
    },
    {
     "name": "stdout",
     "output_type": "stream",
     "text": [
      "\n",
      "文章標題: 養氣血、解肝氣，春天養肝就按這4穴道！\n",
      "文章網址: https://heho.com.tw/archives/43710\n"
     ]
    },
    {
     "data": {
      "text/html": [
       "<img src=\"https://heho.com.tw/wp-content/uploads/2019/03/養肝穴道-01.png\" width=\"400\" height=\"400\"/>"
      ],
      "text/plain": [
       "<IPython.core.display.Image object>"
      ]
     },
     "metadata": {},
     "output_type": "display_data"
    },
    {
     "name": "stdout",
     "output_type": "stream",
     "text": [
      "\n",
      "文章標題: 第四波本土疫情讓你感到焦慮？中醫師傳授三穴位安定心情\n",
      "文章網址: https://heho.com.tw/archives/278567\n"
     ]
    },
    {
     "data": {
      "text/html": [
       "<img src=\"https://heho.com.tw/wp-content/uploads/2023/06/1685583322.168.jpg\" width=\"400\" height=\"400\"/>"
      ],
      "text/plain": [
       "<IPython.core.display.Image object>"
      ]
     },
     "metadata": {},
     "output_type": "display_data"
    },
    {
     "name": "stdout",
     "output_type": "stream",
     "text": [
      "\n",
      "文章標題: 想要降血壓、助眠、緩解焦慮，就快按腳上6個黃金穴道！\n",
      "文章網址: https://heho.com.tw/archives/41074\n"
     ]
    },
    {
     "data": {
      "text/html": [
       "<img src=\"https://heho.com.tw/wp-content/uploads/2019/03/黃金6穴道-01.png\" width=\"400\" height=\"400\"/>"
      ],
      "text/plain": [
       "<IPython.core.display.Image object>"
      ]
     },
     "metadata": {},
     "output_type": "display_data"
    },
    {
     "name": "stdout",
     "output_type": "stream",
     "text": [
      "\n",
      "文章標題: 更年期困擾，8穴道助緩解!\n",
      "文章網址: https://heho.com.tw/archives/13354\n"
     ]
    },
    {
     "data": {
      "text/html": [
       "<img src=\"https://heho.com.tw/wp-content/uploads/2018/05/更年期困擾，8穴道緩解-01.png\" width=\"400\" height=\"400\"/>"
      ],
      "text/plain": [
       "<IPython.core.display.Image object>"
      ]
     },
     "metadata": {},
     "output_type": "display_data"
    },
    {
     "name": "stdout",
     "output_type": "stream",
     "text": [
      "\n",
      "文章標題: 防疫生活對策 / 疫情期間身體疲勞卻又睡不著？按摩６穴道助安神鎮靜、放鬆身心\n",
      "文章網址: https://heho.com.tw/archives/169081\n"
     ]
    },
    {
     "data": {
      "text/html": [
       "<img src=\"https://heho.com.tw/wp-content/uploads/2021/04/1618986955.3059.png\" width=\"400\" height=\"400\"/>"
      ],
      "text/plain": [
       "<IPython.core.display.Image object>"
      ]
     },
     "metadata": {},
     "output_type": "display_data"
    },
    {
     "name": "stdout",
     "output_type": "stream",
     "text": [
      "\n",
      "文章標題: 提神醒腦必備４大穴道\n",
      "文章網址: https://heho.com.tw/archives/240060\n"
     ]
    },
    {
     "data": {
      "text/html": [
       "<img src=\"https://heho.com.tw/wp-content/uploads/2022/09/1662967211.1026.png\" width=\"400\" height=\"400\"/>"
      ],
      "text/plain": [
       "<IPython.core.display.Image object>"
      ]
     },
     "metadata": {},
     "output_type": "display_data"
    },
    {
     "name": "stdout",
     "output_type": "stream",
     "text": [
      "\n",
      "文章標題: 按這5穴道，讓你精神百倍身體好\n",
      "文章網址: https://heho.com.tw/archives/10470\n"
     ]
    },
    {
     "data": {
      "text/html": [
       "<img src=\"https://heho.com.tw/wp-content/uploads/2018/03/春睏提神-01.jpg\" width=\"400\" height=\"400\"/>"
      ],
      "text/plain": [
       "<IPython.core.display.Image object>"
      ]
     },
     "metadata": {},
     "output_type": "display_data"
    },
    {
     "name": "stdout",
     "output_type": "stream",
     "text": [
      "\n",
      "文章標題: 容易恐慌又焦慮！快按５穴位　ＫＯ緊繃狀態！\n",
      "文章網址: https://heho.com.tw/archives/23716\n"
     ]
    },
    {
     "data": {
      "text/html": [
       "<img src=\"https://heho.com.tw/wp-content/uploads/2018/10/舒緩恐慌焦慮的穴道-01.jpg\" width=\"400\" height=\"400\"/>"
      ],
      "text/plain": [
       "<IPython.core.display.Image object>"
      ]
     },
     "metadata": {},
     "output_type": "display_data"
    },
    {
     "name": "stdout",
     "output_type": "stream",
     "text": [
      "\n",
      "文章標題: 緩解焦慮不安，5 穴道提升心靈自癒力\n",
      "文章網址: https://heho.com.tw/archives/74460\n"
     ]
    },
    {
     "data": {
      "text/html": [
       "<img src=\"https://heho.com.tw/wp-content/uploads/2020/03/f3884b36e6e1371b4527ce87ab6c6c2b.png\" width=\"400\" height=\"400\"/>"
      ],
      "text/plain": [
       "<IPython.core.display.Image object>"
      ]
     },
     "metadata": {},
     "output_type": "display_data"
    },
    {
     "name": "stdout",
     "output_type": "stream",
     "text": [
      "\n",
      "文章標題: 坐立難安好煩躁？按摩穴道疏肝理氣遠焦慮\n",
      "文章網址: https://heho.com.tw/archives/25066\n"
     ]
    },
    {
     "data": {
      "text/html": [
       "<img src=\"https://heho.com.tw/wp-content/uploads/2018/10/坐立難安好煩躁-按摩穴位疏肝理氣遠焦慮-02.png\" width=\"400\" height=\"400\"/>"
      ],
      "text/plain": [
       "<IPython.core.display.Image object>"
      ]
     },
     "metadata": {},
     "output_type": "display_data"
    },
    {
     "name": "stdout",
     "output_type": "stream",
     "text": [
      "\n",
      "文章標題: 壓力大、心情差讓你肝脾失和，按6穴道遠離他\n",
      "文章網址: https://heho.com.tw/archives/13591\n"
     ]
    },
    {
     "data": {
      "text/html": [
       "<img src=\"https://heho.com.tw/wp-content/uploads/2018/05/壓力大-心情差讓你肝脾失和，按6穴道遠離他-1.png\" width=\"400\" height=\"400\"/>"
      ],
      "text/plain": [
       "<IPython.core.display.Image object>"
      ]
     },
     "metadata": {},
     "output_type": "display_data"
    },
    {
     "name": "stdout",
     "output_type": "stream",
     "text": [
      "\n",
      "文章標題: 按摩４個穴道，化解憂鬱不煩燥\n",
      "文章網址: https://heho.com.tw/archives/47817\n"
     ]
    },
    {
     "data": {
      "text/html": [
       "<img src=\"https://heho.com.tw/wp-content/uploads/2019/04/心情鬱悶、煩躁，按摩4穴道理氣化憂鬱！-01.png\" width=\"400\" height=\"400\"/>"
      ],
      "text/plain": [
       "<IPython.core.display.Image object>"
      ]
     },
     "metadata": {},
     "output_type": "display_data"
    },
    {
     "name": "stdout",
     "output_type": "stream",
     "text": [
      "\n",
      "文章標題: 心情鬱悶也可以看中醫！3 心法 2 穴位讓你變開心\n",
      "文章網址: https://heho.com.tw/archives/249444\n"
     ]
    },
    {
     "data": {
      "text/html": [
       "<img src=\"https://heho.com.tw/wp-content/uploads/2022/11/1667809861.095.png\" width=\"400\" height=\"400\"/>"
      ],
      "text/plain": [
       "<IPython.core.display.Image object>"
      ]
     },
     "metadata": {},
     "output_type": "display_data"
    },
    {
     "name": "stdout",
     "output_type": "stream",
     "text": [
      "\n",
      "文章標題: 按壓這 4 穴位安定心神、疏肝解鬱又「養肝」\n",
      "文章網址: https://heho.com.tw/archives/259008\n"
     ]
    },
    {
     "data": {
      "text/html": [
       "<img src=\"https://heho.com.tw/wp-content/uploads/2023/01/1674102709.1738.jpg\" width=\"400\" height=\"400\"/>"
      ],
      "text/plain": [
       "<IPython.core.display.Image object>"
      ]
     },
     "metadata": {},
     "output_type": "display_data"
    },
    {
     "name": "stdout",
     "output_type": "stream",
     "text": [
      "\n",
      "文章標題: 氣虛讓人易累又嗜睡，5大補氣穴位補出好元氣！\n",
      "文章網址: https://heho.com.tw/archives/57073\n"
     ]
    },
    {
     "data": {
      "text/html": [
       "<img src=\"https://heho.com.tw/wp-content/uploads/2019/09/氣虛讓人易累又嗜睡，5大補氣穴位補出好元氣！.png\" width=\"400\" height=\"400\"/>"
      ],
      "text/plain": [
       "<IPython.core.display.Image object>"
      ]
     },
     "metadata": {},
     "output_type": "display_data"
    },
    {
     "name": "stdout",
     "output_type": "stream",
     "text": [
      "\n",
      "文章標題: 按對穴道紓壓保健康，上班族必備6穴道\n",
      "文章網址: https://heho.com.tw/archives/18156\n"
     ]
    },
    {
     "data": {
      "text/html": [
       "<img src=\"https://heho.com.tw/wp-content/uploads/2018/07/上班族必備6種實用穴道-，舒壓保健康-01.png\" width=\"400\" height=\"400\"/>"
      ],
      "text/plain": [
       "<IPython.core.display.Image object>"
      ]
     },
     "metadata": {},
     "output_type": "display_data"
    },
    {
     "name": "stdout",
     "output_type": "stream",
     "text": [
      "\n",
      "文章標題: 紓壓降火氣！4穴道安定心神、養好心情\n",
      "文章網址: https://heho.com.tw/archives/198222\n"
     ]
    },
    {
     "data": {
      "text/html": [
       "<img src=\"https://heho.com.tw/wp-content/uploads/2021/12/1638778911.6578.png\" width=\"400\" height=\"400\"/>"
      ],
      "text/plain": [
       "<IPython.core.display.Image object>"
      ]
     },
     "metadata": {},
     "output_type": "display_data"
    },
    {
     "name": "stdout",
     "output_type": "stream",
     "text": [
      "\n",
      "文章標題: 保養呼吸道！6個穴道清肺又排毒\n",
      "文章網址: https://heho.com.tw/archives/60379\n"
     ]
    },
    {
     "data": {
      "text/html": [
       "<img src=\"https://heho.com.tw/wp-content/uploads/2019/11/保養呼吸道！6個穴道清肺又排毒.png\" width=\"400\" height=\"400\"/>"
      ],
      "text/plain": [
       "<IPython.core.display.Image object>"
      ]
     },
     "metadata": {},
     "output_type": "display_data"
    },
    {
     "name": "stdout",
     "output_type": "stream",
     "text": [
      "\n",
      "文章標題: 秋季易傷呼吸道，3穴道滋陰防秋燥\n",
      "文章網址: https://heho.com.tw/archives/139782\n"
     ]
    },
    {
     "data": {
      "text/html": [
       "<img src=\"https://heho.com.tw/wp-content/uploads/2020/09/79d57d874ecfb6659d74dde0740e3818.png\" width=\"400\" height=\"400\"/>"
      ],
      "text/plain": [
       "<IPython.core.display.Image object>"
      ]
     },
     "metadata": {},
     "output_type": "display_data"
    },
    {
     "name": "stdout",
     "output_type": "stream",
     "text": [
      "\n",
      "文章標題: 喉嚨癢癢快感冒，按 4 穴道保養呼吸道\n",
      "文章網址: https://heho.com.tw/archives/58191\n"
     ]
    },
    {
     "data": {
      "text/html": [
       "<img src=\"https://heho.com.tw/wp-content/uploads/2019/10/20191016-喉嚨癢癢快感冒，按4穴道保養呼吸道.png\" width=\"400\" height=\"400\"/>"
      ],
      "text/plain": [
       "<IPython.core.display.Image object>"
      ]
     },
     "metadata": {},
     "output_type": "display_data"
    },
    {
     "name": "stdout",
     "output_type": "stream",
     "text": [
      "\n",
      "文章標題: 夜咳、有痰可能是肺臟太濕了，快按５穴位讓濕氣退散！\n",
      "文章網址: https://heho.com.tw/archives/57355\n"
     ]
    },
    {
     "data": {
      "text/html": [
       "<img src=\"https://heho.com.tw/wp-content/uploads/2018/12/除濕穴道-01.png\" width=\"400\" height=\"400\"/>"
      ],
      "text/plain": [
       "<IPython.core.display.Image object>"
      ]
     },
     "metadata": {},
     "output_type": "display_data"
    },
    {
     "name": "stdout",
     "output_type": "stream",
     "text": [
      "\n",
      "文章標題: 夜咳、有痰可能是肺臟太濕了，快按５穴位讓濕氣退散！\n",
      "文章網址: https://heho.com.tw/archives/33746\n"
     ]
    },
    {
     "data": {
      "text/html": [
       "<img src=\"https://heho.com.tw/wp-content/uploads/2018/12/除濕穴道-01.png\" width=\"400\" height=\"400\"/>"
      ],
      "text/plain": [
       "<IPython.core.display.Image object>"
      ]
     },
     "metadata": {},
     "output_type": "display_data"
    },
    {
     "name": "stdout",
     "output_type": "stream",
     "text": [
      "\n",
      "文章標題: 養肺顧氣管，預防感冒就按４穴道！\n",
      "文章網址: https://heho.com.tw/archives/49819\n"
     ]
    },
    {
     "data": {
      "text/html": [
       "<img src=\"https://heho.com.tw/wp-content/uploads/2019/05/養肺顧氣管，預防感冒就按四穴道！.png\" width=\"400\" height=\"400\"/>"
      ],
      "text/plain": [
       "<IPython.core.display.Image object>"
      ]
     },
     "metadata": {},
     "output_type": "display_data"
    },
    {
     "name": "stdout",
     "output_type": "stream",
     "text": [
      "\n",
      "文章標題: 按這四大穴位，改善「胃食道逆流」！\n",
      "文章網址: https://heho.com.tw/archives/270648\n"
     ]
    },
    {
     "data": {
      "text/html": [
       "<img src=\"https://heho.com.tw/wp-content/uploads/2023/04/1681292928.8434.jpg\" width=\"400\" height=\"400\"/>"
      ],
      "text/plain": [
       "<IPython.core.display.Image object>"
      ]
     },
     "metadata": {},
     "output_type": "display_data"
    },
    {
     "name": "stdout",
     "output_type": "stream",
     "text": [
      "\n",
      "文章標題: 健康保「胃」戰！術養穴道，胃病不上門\n",
      "文章網址: https://heho.com.tw/archives/15088\n"
     ]
    },
    {
     "data": {
      "text/html": [
       "<img src=\"https://heho.com.tw/wp-content/uploads/2018/06/健康保胃戰術養穴道不讓胃病找上門-2.png\" width=\"400\" height=\"400\"/>"
      ],
      "text/plain": [
       "<IPython.core.display.Image object>"
      ]
     },
     "metadata": {},
     "output_type": "display_data"
    },
    {
     "name": "stdout",
     "output_type": "stream",
     "text": [
      "\n",
      "文章標題: 跑步跑到胃痛！快按這３大穴位速緩解\n",
      "文章網址: https://heho.com.tw/archives/40039\n"
     ]
    },
    {
     "data": {
      "text/html": [
       "<img src=\"https://heho.com.tw/wp-content/uploads/2019/02/跑步胃抽筋穴位-01.png\" width=\"400\" height=\"400\"/>"
      ],
      "text/plain": [
       "<IPython.core.display.Image object>"
      ]
     },
     "metadata": {},
     "output_type": "display_data"
    },
    {
     "name": "stdout",
     "output_type": "stream",
     "text": [
      "\n",
      "文章標題: 脹氣、胃痛、消化不良？按4穴道顧胃養好身\n",
      "文章網址: https://heho.com.tw/archives/53194\n"
     ]
    },
    {
     "data": {
      "text/html": [
       "<img src=\"https://heho.com.tw/wp-content/uploads/2019/07/脹氣、胃痛、消化不良？按4穴道來顧胃養好胃_01.png\" width=\"400\" height=\"400\"/>"
      ],
      "text/plain": [
       "<IPython.core.display.Image object>"
      ]
     },
     "metadata": {},
     "output_type": "display_data"
    },
    {
     "name": "stdout",
     "output_type": "stream",
     "text": [
      "\n",
      "文章標題: 食慾不振又反胃，５個穴位按出好胃口！\n",
      "文章網址: https://heho.com.tw/archives/142915\n"
     ]
    },
    {
     "data": {
      "text/html": [
       "<img src=\"https://heho.com.tw/wp-content/uploads/2020/10/6446d860dbbfe540e9e2cbab5f98f1e3-15.png\" width=\"400\" height=\"400\"/>"
      ],
      "text/plain": [
       "<IPython.core.display.Image object>"
      ]
     },
     "metadata": {},
     "output_type": "display_data"
    },
    {
     "name": "stdout",
     "output_type": "stream",
     "text": [
      "\n",
      "文章標題: 消化不良怎麼辦？按４穴道腸胃暢通不塞車\n",
      "文章網址: https://heho.com.tw/archives/161185\n"
     ]
    },
    {
     "data": {
      "text/html": [
       "<img src=\"https://heho.com.tw/wp-content/uploads/2021/02/1612427911.4431.png\" width=\"400\" height=\"400\"/>"
      ],
      "text/plain": [
       "<IPython.core.display.Image object>"
      ]
     },
     "metadata": {},
     "output_type": "display_data"
    },
    {
     "name": "stdout",
     "output_type": "stream",
     "text": [
      "\n",
      "文章標題: 按對穴道，改善消化道大小毛病\n",
      "文章網址: https://heho.com.tw/archives/163086\n"
     ]
    },
    {
     "data": {
      "text/html": [
       "<img src=\"https://heho.com.tw/wp-content/uploads/2021/02/1613985233.2117.png\" width=\"400\" height=\"400\"/>"
      ],
      "text/plain": [
       "<IPython.core.display.Image object>"
      ]
     },
     "metadata": {},
     "output_type": "display_data"
    },
    {
     "name": "stdout",
     "output_type": "stream",
     "text": [
      "\n",
      "文章標題: 吃太飽胃脹、消化不良？按４個穴道助消化\n",
      "文章網址: https://heho.com.tw/archives/63461\n"
     ]
    },
    {
     "data": {
      "text/html": [
       "<img src=\"https://heho.com.tw/wp-content/uploads/2018/02/4穴道3分鐘KO胃脹消化不良.png\" width=\"400\" height=\"400\"/>"
      ],
      "text/plain": [
       "<IPython.core.display.Image object>"
      ]
     },
     "metadata": {},
     "output_type": "display_data"
    },
    {
     "name": "stdout",
     "output_type": "stream",
     "text": [
      "\n",
      "文章標題: 聚餐吃太飽胃脹氣？５穴位快速緩解脹氣、胃不適\n",
      "文章網址: https://heho.com.tw/archives/37902\n"
     ]
    },
    {
     "data": {
      "text/html": [
       "<img src=\"https://heho.com.tw/wp-content/uploads/2019/01/消除胃脹氣穴道.png\" width=\"400\" height=\"400\"/>"
      ],
      "text/plain": [
       "<IPython.core.display.Image object>"
      ]
     },
     "metadata": {},
     "output_type": "display_data"
    },
    {
     "name": "stdout",
     "output_type": "stream",
     "text": [
      "\n",
      "文章標題: 吃太飽不舒服，按4個穴道KO脹氣、消化不良\n",
      "文章網址: https://heho.com.tw/archives/8285\n"
     ]
    },
    {
     "data": {
      "text/html": [
       "<img src=\"https://heho.com.tw/wp-content/uploads/2018/02/4穴道3分鐘KO胃脹消化不良.png\" width=\"400\" height=\"400\"/>"
      ],
      "text/plain": [
       "<IPython.core.display.Image object>"
      ]
     },
     "metadata": {},
     "output_type": "display_data"
    },
    {
     "name": "stdout",
     "output_type": "stream",
     "text": [
      "\n",
      "文章標題: 一指搞定腸胃問題！4穴道解胃痛、消脹氣\n",
      "文章網址: https://heho.com.tw/archives/190917\n"
     ]
    },
    {
     "data": {
      "text/html": [
       "<img src=\"https://heho.com.tw/wp-content/uploads/2021/09/1632734126.2567.png\" width=\"400\" height=\"400\"/>"
      ],
      "text/plain": [
       "<IPython.core.display.Image object>"
      ]
     },
     "metadata": {},
     "output_type": "display_data"
    },
    {
     "name": "stdout",
     "output_type": "stream",
     "text": [
      "\n",
      "文章標題: 改善火燒心！養胃４大穴道提升胃健康\n",
      "文章網址: https://heho.com.tw/archives/224095\n"
     ]
    },
    {
     "data": {
      "text/html": [
       "<img src=\"https://heho.com.tw/wp-content/uploads/2022/06/1654680323.7933.png\" width=\"400\" height=\"400\"/>"
      ],
      "text/plain": [
       "<IPython.core.display.Image object>"
      ]
     },
     "metadata": {},
     "output_type": "display_data"
    },
    {
     "name": "stdout",
     "output_type": "stream",
     "text": [
      "\n",
      "文章標題: 腸胃炎上吐下瀉好困擾！手腳２穴位緩解不適感\n",
      "文章網址: https://heho.com.tw/archives/256044\n"
     ]
    },
    {
     "data": {
      "text/html": [
       "<img src=\"https://heho.com.tw/wp-content/uploads/2022/12/1671604612.7452.png\" width=\"400\" height=\"400\"/>"
      ],
      "text/plain": [
       "<IPython.core.display.Image object>"
      ]
     },
     "metadata": {},
     "output_type": "display_data"
    },
    {
     "name": "stdout",
     "output_type": "stream",
     "text": [
      "\n",
      "文章標題: 腸躁症讓人便秘又腹瀉！中醫教你4穴位遠離它\n",
      "文章網址: https://heho.com.tw/archives/45938\n"
     ]
    },
    {
     "data": {
      "text/html": [
       "<img src=\"https://heho.com.tw/wp-content/uploads/2019/04/腸躁症又便秘又腹瀉！中醫教你4穴位遠離它_01.png\" width=\"400\" height=\"400\"/>"
      ],
      "text/plain": [
       "<IPython.core.display.Image object>"
      ]
     },
     "metadata": {},
     "output_type": "display_data"
    },
    {
     "name": "stdout",
     "output_type": "stream",
     "text": [
      "\n",
      "文章標題: 擁有好腸胃，保健腸胃必學 5 穴位\n",
      "文章網址: https://heho.com.tw/archives/71830\n"
     ]
    },
    {
     "data": {
      "text/html": [
       "<img src=\"https://heho.com.tw/wp-content/uploads/2020/03/78bed909bd676b9d6b33d592d6c2c52a.png\" width=\"400\" height=\"400\"/>"
      ],
      "text/plain": [
       "<IPython.core.display.Image object>"
      ]
     },
     "metadata": {},
     "output_type": "display_data"
    },
    {
     "name": "stdout",
     "output_type": "stream",
     "text": [
      "\n",
      "文章標題: 按摩6穴道，調理自律神經不失調\n",
      "文章網址: https://heho.com.tw/archives/24458\n"
     ]
    },
    {
     "data": {
      "text/html": [
       "<img src=\"https://heho.com.tw/wp-content/uploads/2018/10/按摩6穴道_調理自律神經不失調.png\" width=\"400\" height=\"400\"/>"
      ],
      "text/plain": [
       "<IPython.core.display.Image object>"
      ]
     },
     "metadata": {},
     "output_type": "display_data"
    },
    {
     "name": "stdout",
     "output_type": "stream",
     "text": [
      "\n",
      "文章標題: 「自律神經失調」會好嗎？這四穴位平衡身心靈\n",
      "文章網址: https://heho.com.tw/archives/265495\n"
     ]
    },
    {
     "data": {
      "text/html": [
       "<img src=\"https://heho.com.tw/wp-content/uploads/2023/03/1677825613.1156.jpg\" width=\"400\" height=\"400\"/>"
      ],
      "text/plain": [
       "<IPython.core.display.Image object>"
      ]
     },
     "metadata": {},
     "output_type": "display_data"
    },
    {
     "name": "stdout",
     "output_type": "stream",
     "text": [
      "\n",
      "文章標題: 改善自律神經失調，４穴道啟動自癒力\n",
      "文章網址: https://heho.com.tw/archives/246433\n"
     ]
    },
    {
     "data": {
      "text/html": [
       "<img src=\"https://heho.com.tw/wp-content/uploads/2022/10/1666246770.8593.png\" width=\"400\" height=\"400\"/>"
      ],
      "text/plain": [
       "<IPython.core.display.Image object>"
      ]
     },
     "metadata": {},
     "output_type": "display_data"
    },
    {
     "name": "stdout",
     "output_type": "stream",
     "text": [
      "\n",
      "文章標題: 溫差大自律神經易失調！按摩４穴道助平衡\n",
      "文章網址: https://heho.com.tw/archives/145158\n"
     ]
    },
    {
     "data": {
      "text/html": [
       "<img src=\"https://heho.com.tw/wp-content/uploads/2020/10/6446d860dbbfe540e9e2cbab5f98f1e3-31.png\" width=\"400\" height=\"400\"/>"
      ],
      "text/plain": [
       "<IPython.core.display.Image object>"
      ]
     },
     "metadata": {},
     "output_type": "display_data"
    },
    {
     "name": "stdout",
     "output_type": "stream",
     "text": [
      "\n",
      "文章標題: 胸悶Get Out！4穴道讓你『解悶』，大口呼吸\n",
      "文章網址: https://heho.com.tw/archives/9421\n"
     ]
    },
    {
     "data": {
      "text/html": [
       "<img src=\"https://heho.com.tw/wp-content/uploads/2018/03/胸悶穴道-01.jpg\" width=\"400\" height=\"400\"/>"
      ],
      "text/plain": [
       "<IPython.core.display.Image object>"
      ]
     },
     "metadata": {},
     "output_type": "display_data"
    },
    {
     "name": "stdout",
     "output_type": "stream",
     "text": [
      "\n",
      "文章標題: 痰濕讓人長痘、胸悶、水腫！3穴道健脾化濕\n",
      "文章網址: https://heho.com.tw/archives/85812\n"
     ]
    },
    {
     "data": {
      "text/html": [
       "<img src=\"https://heho.com.tw/wp-content/uploads/2020/06/1627457142.0739.png\" width=\"400\" height=\"400\"/>"
      ],
      "text/plain": [
       "<IPython.core.display.Image object>"
      ]
     },
     "metadata": {},
     "output_type": "display_data"
    },
    {
     "name": "stdout",
     "output_type": "stream",
     "text": [
      "\n",
      "文章標題: 打嗝不停時，這2個穴位讓你立即止嗝！\n",
      "文章網址: https://heho.com.tw/archives/10334\n"
     ]
    },
    {
     "data": {
      "text/html": [
       "<img src=\"https://heho.com.tw/wp-content/uploads/2018/03/止嗝-01.jpg\" width=\"400\" height=\"400\"/>"
      ],
      "text/plain": [
       "<IPython.core.display.Image object>"
      ]
     },
     "metadata": {},
     "output_type": "display_data"
    },
    {
     "name": "stdout",
     "output_type": "stream",
     "text": [
      "\n",
      "文章標題: 止咳四穴道，急性和久咳都適用！\n",
      "文章網址: https://heho.com.tw/archives/9166\n"
     ]
    },
    {
     "data": {
      "text/html": [
       "<img src=\"https://heho.com.tw/wp-content/uploads/2018/03/止咳穴位-01.jpg\" width=\"400\" height=\"400\"/>"
      ],
      "text/plain": [
       "<IPython.core.display.Image object>"
      ]
     },
     "metadata": {},
     "output_type": "display_data"
    },
    {
     "name": "stdout",
     "output_type": "stream",
     "text": [
      "\n",
      "文章標題: 小雪養生穴道，養腎防寒又防病\n",
      "文章網址: https://heho.com.tw/archives/146727\n"
     ]
    },
    {
     "data": {
      "text/html": [
       "<img src=\"https://heho.com.tw/wp-content/uploads/2020/11/6446d860dbbfe540e9e2cbab5f98f1e3-18.png\" width=\"400\" height=\"400\"/>"
      ],
      "text/plain": [
       "<IPython.core.display.Image object>"
      ]
     },
     "metadata": {},
     "output_type": "display_data"
    },
    {
     "name": "stdout",
     "output_type": "stream",
     "text": [
      "\n",
      "文章標題: 冬天養腎補氣！按4穴道提高免疫力 不怕生病\n",
      "文章網址: https://heho.com.tw/archives/61413\n"
     ]
    },
    {
     "data": {
      "text/html": [
       "<img src=\"https://heho.com.tw/wp-content/uploads/2019/12/冬天養腎補氣按4穴道提高免疫力不怕生病_01.png\" width=\"400\" height=\"400\"/>"
      ],
      "text/plain": [
       "<IPython.core.display.Image object>"
      ]
     },
     "metadata": {},
     "output_type": "display_data"
    },
    {
     "name": "stdout",
     "output_type": "stream",
     "text": [
      "\n",
      "文章標題: 冬季養生先養腎，術養四穴位\n",
      "文章網址: https://heho.com.tw/archives/3723\n"
     ]
    },
    {
     "data": {
      "text/html": [
       "<img src=\"https://heho.com.tw/wp-content/uploads/2017/12/冬季養生先養腎，術養四穴位_-01.jpg\" width=\"400\" height=\"400\"/>"
      ],
      "text/plain": [
       "<IPython.core.display.Image object>"
      ]
     },
     "metadata": {},
     "output_type": "display_data"
    },
    {
     "name": "stdout",
     "output_type": "stream",
     "text": [
      "\n",
      "文章標題: 按摩 4 穴道養好腎補元氣\n",
      "文章網址: https://heho.com.tw/archives/243580\n"
     ]
    },
    {
     "data": {
      "text/html": [
       "<img src=\"https://heho.com.tw/wp-content/uploads/2022/09/1664522808.7496.png\" width=\"400\" height=\"400\"/>"
      ],
      "text/plain": [
       "<IPython.core.display.Image object>"
      ]
     },
     "metadata": {},
     "output_type": "display_data"
    },
    {
     "name": "stdout",
     "output_type": "stream",
     "text": [
      "\n",
      "文章標題: 養腎養好髮！按3大腎經穴位養出烏黑秀髮\n",
      "文章網址: https://heho.com.tw/archives/28690\n"
     ]
    },
    {
     "data": {
      "text/html": [
       "<img src=\"https://heho.com.tw/wp-content/uploads/2018/11/1640833352.0944.png\" width=\"400\" height=\"400\"/>"
      ],
      "text/plain": [
       "<IPython.core.display.Image object>"
      ]
     },
     "metadata": {},
     "output_type": "display_data"
    },
    {
     "name": "stdout",
     "output_type": "stream",
     "text": [
      "\n",
      "文章標題: 按這些穴位就對了！幫助降低你的腦中風危機\n",
      "文章網址: https://heho.com.tw/archives/3858\n"
     ]
    },
    {
     "data": {
      "text/html": [
       "<img src=\"https://heho.com.tw/wp-content/uploads/2017/12/術養穴位降低腦中風危機-01.jpg\" width=\"400\" height=\"400\"/>"
      ],
      "text/plain": [
       "<IPython.core.display.Image object>"
      ]
     },
     "metadata": {},
     "output_type": "display_data"
    },
    {
     "name": "stdout",
     "output_type": "stream",
     "text": [
      "\n",
      "文章標題: 活血關節通！3黃金穴道緩解膝蓋痠痛\n",
      "文章網址: https://heho.com.tw/archives/176498\n"
     ]
    },
    {
     "data": {
      "text/html": [
       "<img src=\"https://heho.com.tw/wp-content/uploads/2021/06/1622534814.0729.png\" width=\"400\" height=\"400\"/>"
      ],
      "text/plain": [
       "<IPython.core.display.Image object>"
      ]
     },
     "metadata": {},
     "output_type": "display_data"
    },
    {
     "name": "stdout",
     "output_type": "stream",
     "text": [
      "\n",
      "文章標題: 運動後膝蓋痛？４個穴道保養膝蓋緩解不適\n",
      "文章網址: https://heho.com.tw/archives/184876\n"
     ]
    },
    {
     "data": {
      "text/html": [
       "<img src=\"https://heho.com.tw/wp-content/uploads/2021/07/1627456887.1039.png\" width=\"400\" height=\"400\"/>"
      ],
      "text/plain": [
       "<IPython.core.display.Image object>"
      ]
     },
     "metadata": {},
     "output_type": "display_data"
    },
    {
     "name": "stdout",
     "output_type": "stream",
     "text": [
      "\n",
      "文章標題: 膝蓋痛又無力？快按４穴道活絡氣血護膝蓋\n",
      "文章網址: https://heho.com.tw/archives/43890\n"
     ]
    },
    {
     "data": {
      "text/html": [
       "<img src=\"https://heho.com.tw/wp-content/uploads/2019/03/膝蓋痛又無力４穴道活絡氣血護膝蓋.png\" width=\"400\" height=\"400\"/>"
      ],
      "text/plain": [
       "<IPython.core.display.Image object>"
      ]
     },
     "metadata": {},
     "output_type": "display_data"
    },
    {
     "name": "stdout",
     "output_type": "stream",
     "text": [
      "\n",
      "文章標題: 按這５穴道　腰、膝蓋痛、便祕一次改善\n",
      "文章網址: https://heho.com.tw/archives/18363\n"
     ]
    },
    {
     "data": {
      "text/html": [
       "<img src=\"https://heho.com.tw/wp-content/uploads/2018/07/穴道.jpg\" width=\"400\" height=\"400\"/>"
      ],
      "text/plain": [
       "<IPython.core.display.Image object>"
      ]
     },
     "metadata": {},
     "output_type": "display_data"
    },
    {
     "name": "stdout",
     "output_type": "stream",
     "text": [
      "\n",
      "文章標題: 5大生髮穴道，強健頭皮助頭髮生長\n",
      "文章網址: https://heho.com.tw/archives/128855\n"
     ]
    },
    {
     "data": {
      "text/html": [
       "<img src=\"https://heho.com.tw/wp-content/uploads/2020/08/52484f6d0aadf36a1ab2bd6200bd4c3f.png\" width=\"400\" height=\"400\"/>"
      ],
      "text/plain": [
       "<IPython.core.display.Image object>"
      ]
     },
     "metadata": {},
     "output_type": "display_data"
    },
    {
     "name": "stdout",
     "output_type": "stream",
     "text": [
      "\n",
      "文章標題: 頭皮屑多又頻掉髮？5穴道對付頭髮煩惱\n",
      "文章網址: https://heho.com.tw/archives/58948\n"
     ]
    },
    {
     "data": {
      "text/html": [
       "<img src=\"https://heho.com.tw/wp-content/uploads/2019/10/20191030-頭皮屑多又頻掉髮？對付頭髮煩惱5穴道.png\" width=\"400\" height=\"400\"/>"
      ],
      "text/plain": [
       "<IPython.core.display.Image object>"
      ]
     },
     "metadata": {},
     "output_type": "display_data"
    },
    {
     "name": "stdout",
     "output_type": "stream",
     "text": [
      "\n",
      "文章標題: 暈車按摩５穴道，放假出遊不掃興！\n",
      "文章網址: https://heho.com.tw/archives/63323\n"
     ]
    },
    {
     "data": {
      "text/html": [
       "<img src=\"https://heho.com.tw/wp-content/uploads/2020/01/過年稿-暈車按摩５穴道，放假出遊不掃興！.png\" width=\"400\" height=\"400\"/>"
      ],
      "text/plain": [
       "<IPython.core.display.Image object>"
      ]
     },
     "metadata": {},
     "output_type": "display_data"
    },
    {
     "name": "stdout",
     "output_type": "stream",
     "text": [
      "\n",
      "文章標題: 暈車按穴道有解，不讓出遊好掃興\n",
      "文章網址: https://heho.com.tw/archives/8305\n"
     ]
    },
    {
     "data": {
      "text/html": [
       "<img src=\"https://heho.com.tw/wp-content/uploads/2019/10/暈車按穴道有解，不讓出遊好掃興-01.png\" width=\"400\" height=\"400\"/>"
      ],
      "text/plain": [
       "<IPython.core.display.Image object>"
      ]
     },
     "metadata": {},
     "output_type": "display_data"
    },
    {
     "name": "stdout",
     "output_type": "stream",
     "text": [
      "\n",
      "文章標題: ２飲食＋４穴道，讓你烏髮又健髮！\n",
      "文章網址: https://heho.com.tw/archives/14835\n"
     ]
    },
    {
     "data": {
      "text/html": [
       "<img src=\"https://heho.com.tw/wp-content/uploads/2018/06/掉髮穴道-01.jpg\" width=\"400\" height=\"400\"/>"
      ],
      "text/plain": [
       "<IPython.core.display.Image object>"
      ]
     },
     "metadata": {},
     "output_type": "display_data"
    },
    {
     "name": "stdout",
     "output_type": "stream",
     "text": [
      "\n",
      "文章標題: 對抗掉髮、禿頭危機，就按摩6穴道保養頭皮\n",
      "文章網址: https://heho.com.tw/archives/26175\n"
     ]
    },
    {
     "data": {
      "text/html": [
       "<img src=\"https://heho.com.tw/wp-content/uploads/2018/10/對抗掉髮、禿頭危機，用6穴道保養頭皮-01.png\" width=\"400\" height=\"400\"/>"
      ],
      "text/plain": [
       "<IPython.core.display.Image object>"
      ]
     },
     "metadata": {},
     "output_type": "display_data"
    },
    {
     "name": "stdout",
     "output_type": "stream",
     "text": [
      "\n",
      "文章標題: 宿醉頭痛想吐？ 4穴道快速緩解宿醉不適\n",
      "文章網址: https://heho.com.tw/archives/161900\n"
     ]
    },
    {
     "data": {
      "text/html": [
       "<img src=\"https://heho.com.tw/wp-content/uploads/2021/02/1612843626.2971.png\" width=\"400\" height=\"400\"/>"
      ],
      "text/plain": [
       "<IPython.core.display.Image object>"
      ]
     },
     "metadata": {},
     "output_type": "display_data"
    },
    {
     "name": "stdout",
     "output_type": "stream",
     "text": [
      "\n",
      "文章標題: 輕敲６穴位通氣血，擊退偏頭痛！\n",
      "文章網址: https://heho.com.tw/archives/41847\n"
     ]
    },
    {
     "data": {
      "text/html": [
       "<img src=\"https://heho.com.tw/wp-content/uploads/2019/03/偏頭痛穴道-01.png\" width=\"400\" height=\"400\"/>"
      ],
      "text/plain": [
       "<IPython.core.display.Image object>"
      ]
     },
     "metadata": {},
     "output_type": "display_data"
    },
    {
     "name": "stdout",
     "output_type": "stream",
     "text": [
      "\n",
      "文章標題: 過敏性頭痛好不舒服！３個穴位舒緩疼痛\n",
      "文章網址: https://heho.com.tw/archives/238140\n"
     ]
    },
    {
     "data": {
      "text/html": [
       "<img src=\"https://heho.com.tw/wp-content/uploads/2022/08/1661914064.5081.png\" width=\"400\" height=\"400\"/>"
      ],
      "text/plain": [
       "<IPython.core.display.Image object>"
      ]
     },
     "metadata": {},
     "output_type": "display_data"
    },
    {
     "name": "stdout",
     "output_type": "stream",
     "text": [
      "\n",
      "文章標題: 冷氣使人頭痛不出汗，３穴道改善冷氣病\n",
      "文章網址: https://heho.com.tw/archives/176066\n"
     ]
    },
    {
     "data": {
      "text/html": [
       "<img src=\"https://heho.com.tw/wp-content/uploads/2021/05/1622192455.4849.png\" width=\"400\" height=\"400\"/>"
      ],
      "text/plain": [
       "<IPython.core.display.Image object>"
      ]
     },
     "metadata": {},
     "output_type": "display_data"
    },
    {
     "name": "stdout",
     "output_type": "stream",
     "text": [
      "\n",
      "文章標題: 對症解頭痛，3種頭痛按穴道速舒緩\n",
      "文章網址: https://heho.com.tw/archives/154248\n"
     ]
    },
    {
     "data": {
      "text/html": [
       "<img src=\"https://heho.com.tw/wp-content/uploads/2021/01/1608708392.9601.png\" width=\"400\" height=\"400\"/>"
      ],
      "text/plain": [
       "<IPython.core.display.Image object>"
      ]
     },
     "metadata": {},
     "output_type": "display_data"
    },
    {
     "name": "stdout",
     "output_type": "stream",
     "text": [
      "\n",
      "文章標題: 變天就頭痛，按摩 4 穴道擊退天氣痛！\n",
      "文章網址: https://heho.com.tw/archives/58485\n"
     ]
    },
    {
     "data": {
      "text/html": [
       "<img src=\"https://heho.com.tw/wp-content/uploads/2019/10/變天就頭痛，按摩4穴道擊退天氣痛！.png\" width=\"400\" height=\"400\"/>"
      ],
      "text/plain": [
       "<IPython.core.display.Image object>"
      ]
     },
     "metadata": {},
     "output_type": "display_data"
    },
    {
     "name": "stdout",
     "output_type": "stream",
     "text": [
      "\n",
      "文章標題: 眩暈、頭暈好難受？巧按4穴道緩解兼保養\n",
      "文章網址: https://heho.com.tw/archives/85558\n"
     ]
    },
    {
     "data": {
      "text/html": [
       "<img src=\"https://heho.com.tw/wp-content/uploads/2020/05/337bbd1b9d50e0403b3dee8283d005ad.png\" width=\"400\" height=\"400\"/>"
      ],
      "text/plain": [
       "<IPython.core.display.Image object>"
      ]
     },
     "metadata": {},
     "output_type": "display_data"
    },
    {
     "name": "stdout",
     "output_type": "stream",
     "text": [
      "\n",
      "文章標題: 頭暈、頭痛好難受？４大穴道速緩解\n",
      "文章網址: https://heho.com.tw/archives/192946\n"
     ]
    },
    {
     "data": {
      "text/html": [
       "<img src=\"https://heho.com.tw/wp-content/uploads/2021/10/1634715416.7713.png\" width=\"400\" height=\"400\"/>"
      ],
      "text/plain": [
       "<IPython.core.display.Image object>"
      ]
     },
     "metadata": {},
     "output_type": "display_data"
    },
    {
     "name": "stdout",
     "output_type": "stream",
     "text": [
      "\n",
      "文章標題: 揉按5穴位，改善偶發的頭暈目眩\n",
      "文章網址: https://heho.com.tw/archives/33412\n"
     ]
    },
    {
     "data": {
      "text/html": [
       "<img src=\"https://heho.com.tw/wp-content/uploads/2018/12/頭暈目眩揉按3穴位有效解決.png\" width=\"400\" height=\"400\"/>"
      ],
      "text/plain": [
       "<IPython.core.display.Image object>"
      ]
     },
     "metadata": {},
     "output_type": "display_data"
    },
    {
     "name": "stdout",
     "output_type": "stream",
     "text": [
      "\n",
      "文章標題: 一睡醒就落枕！４個穴位緩解疼痛\n",
      "文章網址: https://heho.com.tw/archives/89593\n"
     ]
    },
    {
     "data": {
      "text/html": [
       "<img src=\"https://heho.com.tw/wp-content/uploads/2020/07/1a73ace29d55d38194d4adeea8e8a001.png\" width=\"400\" height=\"400\"/>"
      ],
      "text/plain": [
       "<IPython.core.display.Image object>"
      ]
     },
     "metadata": {},
     "output_type": "display_data"
    },
    {
     "name": "stdout",
     "output_type": "stream",
     "text": [
      "\n",
      "文章標題: 舉手不「肩」難，按壓4穴道舒緩50肩\n",
      "文章網址: https://heho.com.tw/archives/12259\n"
     ]
    },
    {
     "data": {
      "text/html": [
       "<img src=\"https://heho.com.tw/wp-content/uploads/2018/04/按4穴舒緩50肩，舉手不「肩」難-.png\" width=\"400\" height=\"400\"/>"
      ],
      "text/plain": [
       "<IPython.core.display.Image object>"
      ]
     },
     "metadata": {},
     "output_type": "display_data"
    },
    {
     "name": "stdout",
     "output_type": "stream",
     "text": [
      "\n",
      "文章標題: 6大穴位讓你肩頸放鬆又能豐胸！\n",
      "文章網址: https://heho.com.tw/archives/9983\n"
     ]
    },
    {
     "data": {
      "text/html": [
       "<img src=\"https://heho.com.tw/wp-content/uploads/2018/03/豐胸-01.jpg\" width=\"400\" height=\"400\"/>"
      ],
      "text/plain": [
       "<IPython.core.display.Image object>"
      ]
     },
     "metadata": {},
     "output_type": "display_data"
    },
    {
     "name": "stdout",
     "output_type": "stream",
     "text": [
      "\n",
      "文章標題: 對付肩頸痠痛，按摩４個穴道馬上見效！\n",
      "文章網址: https://heho.com.tw/archives/69039\n"
     ]
    },
    {
     "data": {
      "text/html": [
       "<img src=\"https://heho.com.tw/wp-content/uploads/2020/02/對付肩頸痠痛，4個穴道馬上見效-01.png\" width=\"400\" height=\"400\"/>"
      ],
      "text/plain": [
       "<IPython.core.display.Image object>"
      ]
     },
     "metadata": {},
     "output_type": "display_data"
    },
    {
     "name": "stdout",
     "output_type": "stream",
     "text": [
      "\n",
      "文章標題: 舒緩肩頸酸痛的重要穴位\n",
      "文章網址: https://heho.com.tw/archives/1523\n"
     ]
    },
    {
     "data": {
      "text/html": [
       "<img src=\"https://heho.com.tw/wp-content/uploads/2017/10/舒緩-01.jpg\" width=\"400\" height=\"400\"/>"
      ],
      "text/plain": [
       "<IPython.core.display.Image object>"
      ]
     },
     "metadata": {},
     "output_type": "display_data"
    },
    {
     "name": "stdout",
     "output_type": "stream",
     "text": [
      "\n",
      "文章標題: 鼻子又不舒服了嗎 ?按摩這些穴位改善過敏鼻\n",
      "文章網址: https://heho.com.tw/archives/3980\n"
     ]
    },
    {
     "data": {
      "text/html": [
       "<img src=\"https://heho.com.tw/wp-content/uploads/2017/12/術養四穴位，緩解鼻過敏-01.jpg\" width=\"400\" height=\"400\"/>"
      ],
      "text/plain": [
       "<IPython.core.display.Image object>"
      ]
     },
     "metadata": {},
     "output_type": "display_data"
    },
    {
     "name": "stdout",
     "output_type": "stream",
     "text": [
      "\n",
      "文章標題: 過敏性鼻炎多氣虛，3類型按穴道補氣抗過敏\n",
      "文章網址: https://heho.com.tw/archives/131199\n"
     ]
    },
    {
     "data": {
      "text/html": [
       "<img src=\"https://heho.com.tw/wp-content/uploads/2020/08/0a0279e87a77847a4a5bd6dec984545b.png\" width=\"400\" height=\"400\"/>"
      ],
      "text/plain": [
       "<IPython.core.display.Image object>"
      ]
     },
     "metadata": {},
     "output_type": "display_data"
    },
    {
     "name": "stdout",
     "output_type": "stream",
     "text": [
      "\n",
      "文章標題: 嘴破怎麼辦？４穴道消炎解痛更快好\n",
      "文章網址: https://heho.com.tw/archives/57857\n"
     ]
    },
    {
     "data": {
      "text/html": [
       "<img src=\"https://heho.com.tw/wp-content/uploads/2019/10/嘴破怎麼辦？4穴道消炎解痛更快好.png\" width=\"400\" height=\"400\"/>"
      ],
      "text/plain": [
       "<IPython.core.display.Image object>"
      ]
     },
     "metadata": {},
     "output_type": "display_data"
    },
    {
     "name": "stdout",
     "output_type": "stream",
     "text": [
      "\n",
      "文章標題: 年長者眼茫茫，舒緩疲勞眼，按壓４穴位\n",
      "文章網址: https://heho.com.tw/archives/21863\n"
     ]
    },
    {
     "data": {
      "text/html": [
       "<img src=\"https://heho.com.tw/wp-content/uploads/2018/09/舒緩眼睛穴位-01.jpg\" width=\"400\" height=\"400\"/>"
      ],
      "text/plain": [
       "<IPython.core.display.Image object>"
      ]
     },
     "metadata": {},
     "output_type": "display_data"
    },
    {
     "name": "stdout",
     "output_type": "stream",
     "text": [
      "\n",
      "文章標題: 眼睛陷『荒漠』危機！６大穴位按摩改善乾眼症\n",
      "文章網址: https://heho.com.tw/archives/24474\n"
     ]
    },
    {
     "data": {
      "text/html": [
       "<img src=\"https://heho.com.tw/wp-content/uploads/2018/10/乾眼症穴位-01.jpg\" width=\"400\" height=\"400\"/>"
      ],
      "text/plain": [
       "<IPython.core.display.Image object>"
      ]
     },
     "metadata": {},
     "output_type": "display_data"
    },
    {
     "name": "stdout",
     "output_type": "stream",
     "text": [
      "\n",
      "文章標題: 居家辦公 / 上班族必備！眼睛疲勞、肩頸僵硬，按手部穴道就搞定\n",
      "文章網址: https://heho.com.tw/archives/59558\n"
     ]
    },
    {
     "data": {
      "text/html": [
       "<img src=\"https://heho.com.tw/wp-content/uploads/2019/11/20191112-上班族必備！眼睛疲勞、肩頸僵硬，按手部穴道就搞定.png\" width=\"400\" height=\"400\"/>"
      ],
      "text/plain": [
       "<IPython.core.display.Image object>"
      ]
     },
     "metadata": {},
     "output_type": "display_data"
    },
    {
     "name": "stdout",
     "output_type": "stream",
     "text": [
      "\n",
      "文章標題: 擊退黑眼圈，中醫教你按 6 穴道！\n",
      "文章網址: https://heho.com.tw/archives/56654\n"
     ]
    },
    {
     "data": {
      "text/html": [
       "<img src=\"https://heho.com.tw/wp-content/uploads/2019/09/擊退黑眼圈，中醫教你按6穴道！.png\" width=\"400\" height=\"400\"/>"
      ],
      "text/plain": [
       "<IPython.core.display.Image object>"
      ]
     },
     "metadata": {},
     "output_type": "display_data"
    },
    {
     "name": "stdout",
     "output_type": "stream",
     "text": [
      "\n",
      "文章標題: 眼壓太高怎麼辦？教你自我檢測及按對 5 個穴道降壓又明目\n",
      "文章網址: https://heho.com.tw/archives/19138\n"
     ]
    },
    {
     "data": {
      "text/html": [
       "<img src=\"https://heho.com.tw/wp-content/uploads/2018/08/眼壓太高怎麼辦？按對穴道降壓又明目-01.png\" width=\"400\" height=\"400\"/>"
      ],
      "text/plain": [
       "<IPython.core.display.Image object>"
      ]
     },
     "metadata": {},
     "output_type": "display_data"
    },
    {
     "name": "stdout",
     "output_type": "stream",
     "text": [
      "\n",
      "文章標題: 眼睛又乾又癢？ 常按護眼穴道改善乾眼症\n",
      "文章網址: https://heho.com.tw/archives/155529\n"
     ]
    },
    {
     "data": {
      "text/html": [
       "<img src=\"https://heho.com.tw/wp-content/uploads/2021/01/1609321618.8966.png\" width=\"400\" height=\"400\"/>"
      ],
      "text/plain": [
       "<IPython.core.display.Image object>"
      ]
     },
     "metadata": {},
     "output_type": "display_data"
    },
    {
     "name": "stdout",
     "output_type": "stream",
     "text": [
      "\n",
      "文章標題: 眼睛乾癢又疲勞？眼周６穴道明目又護眼\n",
      "文章網址: https://heho.com.tw/archives/84486\n"
     ]
    },
    {
     "data": {
      "text/html": [
       "<img src=\"https://heho.com.tw/wp-content/uploads/2020/05/4173142e20b6d6ce375f2273fd3453de.png\" width=\"400\" height=\"400\"/>"
      ],
      "text/plain": [
       "<IPython.core.display.Image object>"
      ]
     },
     "metadata": {},
     "output_type": "display_data"
    },
    {
     "name": "stdout",
     "output_type": "stream",
     "text": [
      "\n",
      "文章標題: 中暑不適，刮痧4穴位消暑氣\n",
      "文章網址: https://heho.com.tw/archives/14261\n"
     ]
    },
    {
     "data": {
      "text/html": [
       "<img src=\"https://heho.com.tw/wp-content/uploads/2018/05/中暑不適，-4穴位刮痧消暑氣-01.png\" width=\"400\" height=\"400\"/>"
      ],
      "text/plain": [
       "<IPython.core.display.Image object>"
      ]
     },
     "metadata": {},
     "output_type": "display_data"
    },
    {
     "name": "stdout",
     "output_type": "stream",
     "text": [
      "\n",
      "文章標題: 炎炎夏日易中暑，４穴位幫忙舒緩不適\n",
      "文章網址: https://heho.com.tw/archives/87385\n"
     ]
    },
    {
     "data": {
      "text/html": [
       "<img src=\"https://heho.com.tw/wp-content/uploads/2020/06/89ba885e168e69ac013333121151bd4d.png\" width=\"400\" height=\"400\"/>"
      ],
      "text/plain": [
       "<IPython.core.display.Image object>"
      ]
     },
     "metadata": {},
     "output_type": "display_data"
    },
    {
     "name": "stdout",
     "output_type": "stream",
     "text": [
      "\n",
      "文章標題: 炎炎夏日必備，４大穴道防中暑\n",
      "文章網址: https://heho.com.tw/archives/230142\n"
     ]
    },
    {
     "data": {
      "text/html": [
       "<img src=\"https://heho.com.tw/wp-content/uploads/2022/07/1657701779.977.png\" width=\"400\" height=\"400\"/>"
      ],
      "text/plain": [
       "<IPython.core.display.Image object>"
      ]
     },
     "metadata": {},
     "output_type": "display_data"
    },
    {
     "name": "stdout",
     "output_type": "stream",
     "text": [
      "\n",
      "文章標題: 失眠睡不好，６穴道補氣紓壓助好眠\n",
      "文章網址: https://heho.com.tw/archives/244409\n"
     ]
    },
    {
     "data": {
      "text/html": [
       "<img src=\"https://heho.com.tw/wp-content/uploads/2022/10/1665047218.6311.png\" width=\"400\" height=\"400\"/>"
      ],
      "text/plain": [
       "<IPython.core.display.Image object>"
      ]
     },
     "metadata": {},
     "output_type": "display_data"
    },
    {
     "name": "stdout",
     "output_type": "stream",
     "text": [
      "\n",
      "文章標題: 多夢、淺眠、難入睡！對症按穴道助你好眠\n",
      "文章網址: https://heho.com.tw/archives/27751\n"
     ]
    },
    {
     "data": {
      "text/html": [
       "<img src=\"https://heho.com.tw/wp-content/uploads/2018/11/淺眠、多夢、難入睡，對症改善好入眠！-01.png\" width=\"400\" height=\"400\"/>"
      ],
      "text/plain": [
       "<IPython.core.display.Image object>"
      ]
     },
     "metadata": {},
     "output_type": "display_data"
    },
    {
     "name": "stdout",
     "output_type": "stream",
     "text": [
      "\n",
      "文章標題: 孩子愛哭鬧、不睡覺？2穴道安神又助眠\n",
      "文章網址: https://heho.com.tw/archives/147797\n"
     ]
    },
    {
     "data": {
      "text/html": [
       "<img src=\"https://heho.com.tw/wp-content/uploads/2020/11/7b230426fb93cc6424802197bc9f75d3.png\" width=\"400\" height=\"400\"/>"
      ],
      "text/plain": [
       "<IPython.core.display.Image object>"
      ]
     },
     "metadata": {},
     "output_type": "display_data"
    },
    {
     "name": "stdout",
     "output_type": "stream",
     "text": [
      "\n",
      "文章標題: 好累卻睡不著？４個助眠的保健穴道\n",
      "文章網址: https://heho.com.tw/archives/241548\n"
     ]
    },
    {
     "data": {
      "text/html": [
       "<img src=\"https://heho.com.tw/wp-content/uploads/2022/09/1663663286.4215.png\" width=\"400\" height=\"400\"/>"
      ],
      "text/plain": [
       "<IPython.core.display.Image object>"
      ]
     },
     "metadata": {},
     "output_type": "display_data"
    },
    {
     "name": "stdout",
     "output_type": "stream",
     "text": [
      "\n",
      "文章標題: 動不動就大爆汗？按4穴道止汗、調理多汗症狀！\n",
      "文章網址: https://heho.com.tw/archives/54960\n"
     ]
    },
    {
     "data": {
      "text/html": [
       "<img src=\"https://heho.com.tw/wp-content/uploads/2019/08/動不動就大爆汗？按摩4穴道調理多汗症狀_01.png\" width=\"400\" height=\"400\"/>"
      ],
      "text/plain": [
       "<IPython.core.display.Image object>"
      ]
     },
     "metadata": {},
     "output_type": "display_data"
    },
    {
     "name": "stdout",
     "output_type": "stream",
     "text": [
      "\n",
      "文章標題: 穩定血糖不飆升，5 個控糖穴道必收藏！\n",
      "文章網址: https://heho.com.tw/archives/76552\n"
     ]
    },
    {
     "data": {
      "text/html": [
       "<img src=\"https://heho.com.tw/wp-content/uploads/2020/03/e6c328ff2c06a935e80d2bf2c6062769.png\" width=\"400\" height=\"400\"/>"
      ],
      "text/plain": [
       "<IPython.core.display.Image object>"
      ]
     },
     "metadata": {},
     "output_type": "display_data"
    },
    {
     "name": "stdout",
     "output_type": "stream",
     "text": [
      "\n",
      "文章標題: 【Heho微動畫】爸媽必備育兒照護技能！透過穴位按摩緩解孩子7大常見不適\n",
      "文章網址: https://heho.com.tw/archives/149541\n"
     ]
    },
    {
     "data": {
      "text/html": [
       "<img src=\"https://heho.com.tw/wp-content/uploads/2020/12/273ca3f79ae5b2e5dac1897b7f03fff5.png\" width=\"400\" height=\"400\"/>"
      ],
      "text/plain": [
       "<IPython.core.display.Image object>"
      ]
     },
     "metadata": {},
     "output_type": "display_data"
    },
    {
     "name": "stdout",
     "output_type": "stream",
     "text": [
      "\n",
      "文章標題: 解便秘這招有效！4 個實用通便穴道按摩\n",
      "文章網址: https://heho.com.tw/archives/40513\n"
     ]
    },
    {
     "data": {
      "text/html": [
       "<img src=\"https://heho.com.tw/wp-content/uploads/2019/03/解便秘這招有效！4個實用通便穴位_01.png\" width=\"400\" height=\"400\"/>"
      ],
      "text/plain": [
       "<IPython.core.display.Image object>"
      ]
     },
     "metadata": {},
     "output_type": "display_data"
    },
    {
     "name": "stdout",
     "output_type": "stream",
     "text": [
      "\n",
      "文章標題: 女性不可不知，平衡荷爾蒙黃金4穴位!\n",
      "文章網址: https://heho.com.tw/archives/12003\n"
     ]
    },
    {
     "data": {
      "text/html": [
       "<img src=\"https://heho.com.tw/wp-content/uploads/2018/04/女性不可不知4穴位，術養平衡荷爾蒙-01-e1524032220787.png\" width=\"400\" height=\"400\"/>"
      ],
      "text/plain": [
       "<IPython.core.display.Image object>"
      ]
     },
     "metadata": {},
     "output_type": "display_data"
    },
    {
     "name": "stdout",
     "output_type": "stream",
     "text": [
      "\n",
      "文章標題: 孕吐、水腫又抽筋， 6 穴道緩解懷孕不適\n",
      "文章網址: https://heho.com.tw/archives/164832\n"
     ]
    },
    {
     "data": {
      "text/html": [
       "<img src=\"https://heho.com.tw/wp-content/uploads/2021/03/1615360135.1204.png\" width=\"400\" height=\"400\"/>"
      ],
      "text/plain": [
       "<IPython.core.display.Image object>"
      ]
     },
     "metadata": {},
     "output_type": "display_data"
    },
    {
     "name": "stdout",
     "output_type": "stream",
     "text": [
      "\n",
      "文章標題: 擔心母奶量不足？6 穴位幫助發奶更順利\n",
      "文章網址: https://heho.com.tw/archives/206460\n"
     ]
    },
    {
     "data": {
      "text/html": [
       "<img src=\"https://heho.com.tw/wp-content/uploads/2022/02/1644564116.0561.png\" width=\"400\" height=\"400\"/>"
      ],
      "text/plain": [
       "<IPython.core.display.Image object>"
      ]
     },
     "metadata": {},
     "output_type": "display_data"
    },
    {
     "name": "stdout",
     "output_type": "stream",
     "text": [
      "\n",
      "文章標題: 有催生作用！懷孕時不能碰這６個按摩穴位\n",
      "文章網址: https://heho.com.tw/archives/39924\n"
     ]
    },
    {
     "data": {
      "text/html": [
       "<img src=\"https://heho.com.tw/wp-content/uploads/2019/02/懷孕不能按的穴道-01.png\" width=\"400\" height=\"400\"/>"
      ],
      "text/plain": [
       "<IPython.core.display.Image object>"
      ]
     },
     "metadata": {},
     "output_type": "display_data"
    },
    {
     "name": "stdout",
     "output_type": "stream",
     "text": [
      "\n",
      "文章標題: 月經不順常遲到？4 穴道調經順氣血\n",
      "文章網址: https://heho.com.tw/archives/170614\n"
     ]
    },
    {
     "data": {
      "text/html": [
       "<img src=\"https://heho.com.tw/wp-content/uploads/2021/05/1627456380.7301.png\" width=\"400\" height=\"400\"/>"
      ],
      "text/plain": [
       "<IPython.core.display.Image object>"
      ]
     },
     "metadata": {},
     "output_type": "display_data"
    },
    {
     "name": "stdout",
     "output_type": "stream",
     "text": [
      "\n",
      "文章標題: 經前症候群好不舒服？按通４穴位舒緩不適\n",
      "文章網址: https://heho.com.tw/archives/165876\n"
     ]
    },
    {
     "data": {
      "text/html": [
       "<img src=\"https://heho.com.tw/wp-content/uploads/2021/03/1615968479.5173.png\" width=\"400\" height=\"400\"/>"
      ],
      "text/plain": [
       "<IPython.core.display.Image object>"
      ]
     },
     "metadata": {},
     "output_type": "display_data"
    },
    {
     "name": "stdout",
     "output_type": "stream",
     "text": [
      "\n",
      "文章標題: 緩解經痛4穴位\n",
      "文章網址: https://heho.com.tw/archives/1557\n"
     ]
    },
    {
     "data": {
      "text/html": [
       "<img src=\"https://heho.com.tw/wp-content/uploads/2017/10/緩解經痛4穴位-2-01.png\" width=\"400\" height=\"400\"/>"
      ],
      "text/plain": [
       "<IPython.core.display.Image object>"
      ]
     },
     "metadata": {},
     "output_type": "display_data"
    },
    {
     "name": "stdout",
     "output_type": "stream",
     "text": [
      "\n",
      "文章標題: 感冒好難受，按７穴道止咳化痰、通鼻塞\n",
      "文章網址: https://heho.com.tw/archives/7526\n"
     ]
    },
    {
     "data": {
      "text/html": [
       "<img src=\"https://heho.com.tw/wp-content/uploads/2018/01/按摩7穴道，化痰止咳通鼻塞_過年版.png\" width=\"400\" height=\"400\"/>"
      ],
      "text/plain": [
       "<IPython.core.display.Image object>"
      ]
     },
     "metadata": {},
     "output_type": "display_data"
    },
    {
     "name": "stdout",
     "output_type": "stream",
     "text": [
      "\n",
      "文章標題: 氣溫忽高忽低，按４穴道防感冒\n",
      "文章網址: https://heho.com.tw/archives/197867\n"
     ]
    },
    {
     "data": {
      "text/html": [
       "<img src=\"https://heho.com.tw/wp-content/uploads/2021/12/1638342307.2539.png\" width=\"400\" height=\"400\"/>"
      ],
      "text/plain": [
       "<IPython.core.display.Image object>"
      ]
     },
     "metadata": {},
     "output_type": "display_data"
    },
    {
     "name": "stdout",
     "output_type": "stream",
     "text": [
      "\n",
      "文章標題: 感冒用穴道大全，不適症狀按一按都舒緩\n",
      "文章網址: https://heho.com.tw/archives/27098\n"
     ]
    },
    {
     "data": {
      "text/html": [
       "<img src=\"https://heho.com.tw/wp-content/uploads/2018/11/感冒用穴道大全，不適症狀按一按都舒緩-01.png\" width=\"400\" height=\"400\"/>"
      ],
      "text/plain": [
       "<IPython.core.display.Image object>"
      ]
     },
     "metadata": {},
     "output_type": "display_data"
    },
    {
     "name": "stdout",
     "output_type": "stream",
     "text": [
      "\n",
      "文章標題: 孩子發燒感冒，按摩２穴道有助退熱止咳\n",
      "文章網址: https://heho.com.tw/archives/147206\n"
     ]
    },
    {
     "data": {
      "text/html": [
       "<img src=\"https://heho.com.tw/wp-content/uploads/2020/11/7da635444a82c0ab1bfd9717da62101e.png\" width=\"400\" height=\"400\"/>"
      ],
      "text/plain": [
       "<IPython.core.display.Image object>"
      ]
     },
     "metadata": {},
     "output_type": "display_data"
    },
    {
     "name": "stdout",
     "output_type": "stream",
     "text": [
      "\n",
      "文章標題: 每天按4大穴道3分鐘，糖尿病就有改善!\n",
      "文章網址: https://heho.com.tw/archives/9177\n"
     ]
    },
    {
     "data": {
      "text/html": [
       "<img src=\"https://heho.com.tw/wp-content/uploads/2018/03/改善糖尿病有4大金剛穴-01.png\" width=\"400\" height=\"400\"/>"
      ],
      "text/plain": [
       "<IPython.core.display.Image object>"
      ]
     },
     "metadata": {},
     "output_type": "display_data"
    },
    {
     "name": "stdout",
     "output_type": "stream",
     "text": [
      "\n",
      "文章標題: 中醫看蕁麻疹「３觀念２穴道」舒緩止癢！\n",
      "文章網址: https://heho.com.tw/archives/244932\n"
     ]
    },
    {
     "data": {
      "text/html": [
       "<img src=\"https://heho.com.tw/wp-content/uploads/2022/10/1665471060.4892.png\" width=\"400\" height=\"400\"/>"
      ],
      "text/plain": [
       "<IPython.core.display.Image object>"
      ]
     },
     "metadata": {},
     "output_type": "display_data"
    },
    {
     "name": "stdout",
     "output_type": "stream",
     "text": [
      "\n",
      "文章標題: 穴道按摩有效緩解癌症治療副作用\n",
      "文章網址: https://heho.com.tw/archives/44559\n"
     ]
    },
    {
     "data": {
      "text/html": [
       "<img src=\"https://heho.com.tw/wp-content/uploads/2019/04/按摩穴道有效減輕癌症副作用01.png\" width=\"400\" height=\"400\"/>"
      ],
      "text/plain": [
       "<IPython.core.display.Image object>"
      ]
     },
     "metadata": {},
     "output_type": "display_data"
    },
    {
     "name": "stdout",
     "output_type": "stream",
     "text": [
      "\n"
     ]
    }
   ],
   "source": [
    "# 定義不想打印的欄位列表\n",
    "exclude_columns = ['部位', '症狀']\n",
    "\n",
    "# 迭代 DataFrame 的每一列，並打印出來（排除指定的欄位）\n",
    "for _, row in data.iterrows():\n",
    "    # 打印除了指定的欄位以外的其他欄位\n",
    "    for column, value in row.iteritems():\n",
    "        if column not in exclude_columns:\n",
    "            if column == '圖片':\n",
    "                display(Image(url=value, width=400, height=400))\n",
    "            else:\n",
    "                print(f\"{column}: {value}\")\n",
    "\n",
    "    print()  # 每一列之間插入空行"
   ]
  },
  {
   "cell_type": "markdown",
   "id": "4ecfef4f",
   "metadata": {},
   "source": [
    "# 透過輸入特定關鍵字找到想要查詢的資料"
   ]
  },
  {
   "cell_type": "code",
   "execution_count": 25,
   "id": "6655e39b",
   "metadata": {},
   "outputs": [
    {
     "name": "stdout",
     "output_type": "stream",
     "text": [
      "文章標題: 告別手腳麻木！５個超有效穴位大公開\n",
      "文章網址: https://heho.com.tw/archives/22330\n",
      "圖片: https://heho.com.tw/wp-content/uploads/2018/09/老人手腳麻木穴道-01.jpg\n",
      "部位: 上肢,下肢\n",
      "症狀: 養生\n",
      "\n",
      "文章標題: 手腳冰冷怎麼辦？４穴道袪寒保暖通氣血\n",
      "文章網址: https://heho.com.tw/archives/151663\n",
      "圖片: https://heho.com.tw/wp-content/uploads/2020/12/1607586481.7129.png\n",
      "部位: 上肢,下肢\n",
      "症狀: 養生\n",
      "\n",
      "文章標題: 穴位不再只在腳底啦！！！腳背也可以\n",
      "文章網址: https://heho.com.tw/archives/2716\n",
      "圖片: https://heho.com.tw/wp-content/uploads/2017/11/腳背穴道-03.png\n",
      "部位: 下肢\n",
      "症狀: 養生\n",
      "\n",
      "文章標題: 居家辦公 / 按摩手也能活化大腦！手部４穴道打開活腦開關，讓大腦不當機\n",
      "文章網址: https://heho.com.tw/archives/94042\n",
      "圖片: https://heho.com.tw/wp-content/uploads/2020/07/2fb3027bdac8992a25c494f561dfe393.png\n",
      "部位: 大腦\n",
      "症狀: 養生\n",
      "\n",
      "文章標題: ５個神奇穴位，除體濕、調節內分泌！\n",
      "文章網址: https://heho.com.tw/archives/53962\n",
      "圖片: https://heho.com.tw/wp-content/uploads/2019/07/5個神奇穴位，除體濕、調節內分泌_1.png\n",
      "部位: 內分泌\n",
      "症狀: 養生\n",
      "\n",
      "文章標題: 保養心血管，按 3 穴道防三高\n",
      "文章網址: https://heho.com.tw/archives/143707\n",
      "圖片: https://heho.com.tw/wp-content/uploads/2020/10/542668e942fdbe342ef15c3fcecf30c9.png\n",
      "部位: 心\n",
      "症狀: 養生\n",
      "\n",
      "文章標題: 補氣又養心，4 穴道保養心血管\n",
      "文章網址: https://heho.com.tw/archives/208047\n",
      "圖片: https://heho.com.tw/wp-content/uploads/2022/02/1645690619.6939.png\n",
      "部位: 心\n",
      "症狀: 養生\n",
      "\n",
      "文章標題: 4穴道養心通氣，越按心臟越健康\n",
      "文章網址: https://heho.com.tw/archives/55582\n",
      "圖片: https://heho.com.tw/wp-content/uploads/2019/08/4穴道養心通氣，越按心臟越健康.png\n",
      "部位: 心\n",
      "症狀: 養生\n",
      "\n",
      "文章標題: 按穴道也能顧牙齒！按摩 5 穴道讓牙齒更健康\n",
      "文章網址: https://heho.com.tw/archives/165074\n",
      "圖片: https://heho.com.tw/wp-content/uploads/2021/03/1615363076.3303.png\n",
      "部位: 牙齒\n",
      "症狀: 養生\n",
      "\n",
      "文章標題: 冬至補陽好時機，按５穴道陽氣充足不生病\n",
      "文章網址: https://heho.com.tw/archives/152947\n",
      "圖片: https://heho.com.tw/wp-content/uploads/2020/12/1608102573.4604.png\n",
      "部位: 全身\n",
      "症狀: 養生\n",
      "\n",
      "文章標題: 4 種身體的「虛」，按摩對應穴道來保養！\n",
      "文章網址: https://heho.com.tw/archives/86230\n",
      "圖片: https://heho.com.tw/wp-content/uploads/2020/06/c40a51550ce5957e30b1d350260e96bb.png\n",
      "部位: 全身\n",
      "症狀: 養生\n",
      "\n",
      "文章標題: 常按神奇 2 穴道，讓孩子長高、變聰明！\n",
      "文章網址: https://heho.com.tw/archives/136091\n",
      "圖片: https://heho.com.tw/wp-content/uploads/2020/09/9095aeacfcec57bc0991ec5f1dfec2cd.png\n",
      "部位: 全身\n",
      "症狀: 養生\n",
      "\n",
      "文章標題: 按壓手掌６穴位，輕鬆保養五臟六腑\n",
      "文章網址: https://heho.com.tw/archives/37152\n",
      "圖片: https://heho.com.tw/wp-content/uploads/2019/01/五臟六腑_手掌-01.png\n",
      "部位: 全身\n",
      "症狀: 養生\n",
      "\n",
      "文章標題: 夏天濕熱易上火？揉按4穴道祛濕除熱好養身\n",
      "文章網址: https://heho.com.tw/archives/49020\n",
      "圖片: https://heho.com.tw/wp-content/uploads/2019/05/夏天濕熱易上火？揉按4穴道祛濕除熱養好身_01.png\n",
      "部位: 全身\n",
      "症狀: 養生\n",
      "\n",
      "文章標題: 常按６穴道，助舒壓、解身體大小困擾\n",
      "文章網址: https://heho.com.tw/archives/168060\n",
      "圖片: https://heho.com.tw/wp-content/uploads/2021/04/1617949389.5712.png\n",
      "部位: 全身\n",
      "症狀: 養生\n",
      "\n",
      "文章標題: ５大穴道擊退虛寒、水腫體質\n",
      "文章網址: https://heho.com.tw/archives/157822\n",
      "圖片: https://heho.com.tw/wp-content/uploads/2021/01/1610526263.6923.png\n",
      "部位: 全身\n",
      "症狀: 養生\n",
      "\n",
      "文章標題: 穀雨時節養生秘訣，５穴道去濕邪又助眠\n",
      "文章網址: https://heho.com.tw/archives/79088\n",
      "圖片: https://heho.com.tw/wp-content/uploads/2020/04/9645816af1333a2684c05fbf177cefe0.png\n",
      "部位: 全身\n",
      "症狀: 養生\n",
      "\n",
      "文章標題: 養生必備！6個補氣強身的特效穴位\n",
      "文章網址: https://heho.com.tw/archives/59263\n",
      "圖片: https://heho.com.tw/wp-content/uploads/2019/11/養生必備！6個補氣強身的特效穴位.png\n",
      "部位: 全身\n",
      "症狀: 養生\n",
      "\n",
      "文章標題: 越按越健康！必收藏的６個養生穴道\n",
      "文章網址: https://heho.com.tw/archives/166568\n",
      "圖片: https://heho.com.tw/wp-content/uploads/2021/03/1616569363.0597.png\n",
      "部位: 全身\n",
      "症狀: 養生\n",
      "\n",
      "文章標題: 春天是養肝好時機！用 2 方法、壓 2 穴道為整年健康打根基\n",
      "文章網址: https://heho.com.tw/archives/262457\n",
      "圖片: https://heho.com.tw/wp-content/uploads/2023/02/1676214532.3136.jpg\n",
      "部位: 肝\n",
      "症狀: 養生\n",
      "\n",
      "文章標題: 養氣血、解肝氣，春天養肝就按這4穴道！\n",
      "文章網址: https://heho.com.tw/archives/43710\n",
      "圖片: https://heho.com.tw/wp-content/uploads/2019/03/養肝穴道-01.png\n",
      "部位: 肝\n",
      "症狀: 養生\n",
      "\n",
      "文章標題: 氣虛讓人易累又嗜睡，5大補氣穴位補出好元氣！\n",
      "文章網址: https://heho.com.tw/archives/57073\n",
      "圖片: https://heho.com.tw/wp-content/uploads/2019/09/氣虛讓人易累又嗜睡，5大補氣穴位補出好元氣！.png\n",
      "部位: 身心\n",
      "症狀: 養生\n",
      "\n",
      "文章標題: 按對穴道紓壓保健康，上班族必備6穴道\n",
      "文章網址: https://heho.com.tw/archives/18156\n",
      "圖片: https://heho.com.tw/wp-content/uploads/2018/07/上班族必備6種實用穴道-，舒壓保健康-01.png\n",
      "部位: 身心\n",
      "症狀: 養生\n",
      "\n",
      "文章標題: 紓壓降火氣！4穴道安定心神、養好心情\n",
      "文章網址: https://heho.com.tw/archives/198222\n",
      "圖片: https://heho.com.tw/wp-content/uploads/2021/12/1638778911.6578.png\n",
      "部位: 身心\n",
      "症狀: 養生\n",
      "\n",
      "文章標題: 保養呼吸道！6個穴道清肺又排毒\n",
      "文章網址: https://heho.com.tw/archives/60379\n",
      "圖片: https://heho.com.tw/wp-content/uploads/2019/11/保養呼吸道！6個穴道清肺又排毒.png\n",
      "部位: 呼吸道\n",
      "症狀: 養生\n",
      "\n",
      "文章標題: 秋季易傷呼吸道，3穴道滋陰防秋燥\n",
      "文章網址: https://heho.com.tw/archives/139782\n",
      "圖片: https://heho.com.tw/wp-content/uploads/2020/09/79d57d874ecfb6659d74dde0740e3818.png\n",
      "部位: 呼吸道\n",
      "症狀: 養生\n",
      "\n",
      "文章標題: 喉嚨癢癢快感冒，按 4 穴道保養呼吸道\n",
      "文章網址: https://heho.com.tw/archives/58191\n",
      "圖片: https://heho.com.tw/wp-content/uploads/2019/10/20191016-喉嚨癢癢快感冒，按4穴道保養呼吸道.png\n",
      "部位: 呼吸道\n",
      "症狀: 養生\n",
      "\n",
      "文章標題: 養肺顧氣管，預防感冒就按４穴道！\n",
      "文章網址: https://heho.com.tw/archives/49819\n",
      "圖片: https://heho.com.tw/wp-content/uploads/2019/05/養肺顧氣管，預防感冒就按四穴道！.png\n",
      "部位: 肺\n",
      "症狀: 養生\n",
      "\n",
      "文章標題: 改善火燒心！養胃４大穴道提升胃健康\n",
      "文章網址: https://heho.com.tw/archives/224095\n",
      "圖片: https://heho.com.tw/wp-content/uploads/2022/06/1654680323.7933.png\n",
      "部位: 胃\n",
      "症狀: 養生\n",
      "\n",
      "文章標題: 擁有好腸胃，保健腸胃必學 5 穴位\n",
      "文章網址: https://heho.com.tw/archives/71830\n",
      "圖片: https://heho.com.tw/wp-content/uploads/2020/03/78bed909bd676b9d6b33d592d6c2c52a.png\n",
      "部位: 胃,腸\n",
      "症狀: 養生\n",
      "\n",
      "文章標題: 小雪養生穴道，養腎防寒又防病\n",
      "文章網址: https://heho.com.tw/archives/146727\n",
      "圖片: https://heho.com.tw/wp-content/uploads/2020/11/6446d860dbbfe540e9e2cbab5f98f1e3-18.png\n",
      "部位: 腎\n",
      "症狀: 養生\n",
      "\n",
      "文章標題: 冬天養腎補氣！按4穴道提高免疫力 不怕生病\n",
      "文章網址: https://heho.com.tw/archives/61413\n",
      "圖片: https://heho.com.tw/wp-content/uploads/2019/12/冬天養腎補氣按4穴道提高免疫力不怕生病_01.png\n",
      "部位: 腎\n",
      "症狀: 養生\n",
      "\n",
      "文章標題: 冬季養生先養腎，術養四穴位\n",
      "文章網址: https://heho.com.tw/archives/3723\n",
      "圖片: https://heho.com.tw/wp-content/uploads/2017/12/冬季養生先養腎，術養四穴位_-01.jpg\n",
      "部位: 腎\n",
      "症狀: 養生\n",
      "\n",
      "文章標題: 按摩 4 穴道養好腎補元氣\n",
      "文章網址: https://heho.com.tw/archives/243580\n",
      "圖片: https://heho.com.tw/wp-content/uploads/2022/09/1664522808.7496.png\n",
      "部位: 腎\n",
      "症狀: 養生\n",
      "\n",
      "文章標題: 養腎養好髮！按3大腎經穴位養出烏黑秀髮\n",
      "文章網址: https://heho.com.tw/archives/28690\n",
      "圖片: https://heho.com.tw/wp-content/uploads/2018/11/1640833352.0944.png\n",
      "部位: 腎\n",
      "症狀: 養生\n",
      "\n",
      "文章標題: ２飲食＋４穴道，讓你烏髮又健髮！\n",
      "文章網址: https://heho.com.tw/archives/14835\n",
      "圖片: https://heho.com.tw/wp-content/uploads/2018/06/掉髮穴道-01.jpg\n",
      "部位: 頭部\n",
      "症狀: 養生\n",
      "\n",
      "文章標題: 對抗掉髮、禿頭危機，就按摩6穴道保養頭皮\n",
      "文章網址: https://heho.com.tw/archives/26175\n",
      "圖片: https://heho.com.tw/wp-content/uploads/2018/10/對抗掉髮、禿頭危機，用6穴道保養頭皮-01.png\n",
      "部位: 頭部\n",
      "症狀: 養生\n",
      "\n",
      "文章標題: 眼壓太高怎麼辦？教你自我檢測及按對 5 個穴道降壓又明目\n",
      "文章網址: https://heho.com.tw/archives/19138\n",
      "圖片: https://heho.com.tw/wp-content/uploads/2018/08/眼壓太高怎麼辦？按對穴道降壓又明目-01.png\n",
      "部位: 臉部,眼睛\n",
      "症狀: 養生\n",
      "\n"
     ]
    }
   ],
   "source": [
    "# 選取特定欄位中具有特定關鍵字的列並打印出來\n",
    "column_name = '症狀'  # 選取的欄位名稱\n",
    "keyword = '養生'  # 關鍵字\n",
    "\n",
    "selected_rows = data[data[column_name].str.contains(keyword, case=False)]\n",
    "\n",
    "# 迭代 DataFrame 的每一列，並打印出來\n",
    "for _, row in selected_rows.iterrows():\n",
    "    for column, value in row.iteritems():\n",
    "        print(f\"{column}: {value}\")\n",
    "    \n",
    "    print()  # 每一列之間插入空行"
   ]
  },
  {
   "cell_type": "code",
   "execution_count": 26,
   "id": "1171ee0e",
   "metadata": {},
   "outputs": [
    {
     "name": "stdout",
     "output_type": "stream",
     "text": [
      "文章標題: 告別手腳麻木！５個超有效穴位大公開\n",
      "文章網址: https://heho.com.tw/archives/22330\n",
      "圖片: https://heho.com.tw/wp-content/uploads/2018/09/老人手腳麻木穴道-01.jpg\n",
      "\n",
      "文章標題: 手腳冰冷怎麼辦？４穴道袪寒保暖通氣血\n",
      "文章網址: https://heho.com.tw/archives/151663\n",
      "圖片: https://heho.com.tw/wp-content/uploads/2020/12/1607586481.7129.png\n",
      "\n",
      "文章標題: 穴位不再只在腳底啦！！！腳背也可以\n",
      "文章網址: https://heho.com.tw/archives/2716\n",
      "圖片: https://heho.com.tw/wp-content/uploads/2017/11/腳背穴道-03.png\n",
      "\n",
      "文章標題: 居家辦公 / 按摩手也能活化大腦！手部４穴道打開活腦開關，讓大腦不當機\n",
      "文章網址: https://heho.com.tw/archives/94042\n",
      "圖片: https://heho.com.tw/wp-content/uploads/2020/07/2fb3027bdac8992a25c494f561dfe393.png\n",
      "\n",
      "文章標題: ５個神奇穴位，除體濕、調節內分泌！\n",
      "文章網址: https://heho.com.tw/archives/53962\n",
      "圖片: https://heho.com.tw/wp-content/uploads/2019/07/5個神奇穴位，除體濕、調節內分泌_1.png\n",
      "\n",
      "文章標題: 保養心血管，按 3 穴道防三高\n",
      "文章網址: https://heho.com.tw/archives/143707\n",
      "圖片: https://heho.com.tw/wp-content/uploads/2020/10/542668e942fdbe342ef15c3fcecf30c9.png\n",
      "\n",
      "文章標題: 補氣又養心，4 穴道保養心血管\n",
      "文章網址: https://heho.com.tw/archives/208047\n",
      "圖片: https://heho.com.tw/wp-content/uploads/2022/02/1645690619.6939.png\n",
      "\n",
      "文章標題: 4穴道養心通氣，越按心臟越健康\n",
      "文章網址: https://heho.com.tw/archives/55582\n",
      "圖片: https://heho.com.tw/wp-content/uploads/2019/08/4穴道養心通氣，越按心臟越健康.png\n",
      "\n",
      "文章標題: 按穴道也能顧牙齒！按摩 5 穴道讓牙齒更健康\n",
      "文章網址: https://heho.com.tw/archives/165074\n",
      "圖片: https://heho.com.tw/wp-content/uploads/2021/03/1615363076.3303.png\n",
      "\n",
      "文章標題: 冬至補陽好時機，按５穴道陽氣充足不生病\n",
      "文章網址: https://heho.com.tw/archives/152947\n",
      "圖片: https://heho.com.tw/wp-content/uploads/2020/12/1608102573.4604.png\n",
      "\n",
      "文章標題: 4 種身體的「虛」，按摩對應穴道來保養！\n",
      "文章網址: https://heho.com.tw/archives/86230\n",
      "圖片: https://heho.com.tw/wp-content/uploads/2020/06/c40a51550ce5957e30b1d350260e96bb.png\n",
      "\n",
      "文章標題: 常按神奇 2 穴道，讓孩子長高、變聰明！\n",
      "文章網址: https://heho.com.tw/archives/136091\n",
      "圖片: https://heho.com.tw/wp-content/uploads/2020/09/9095aeacfcec57bc0991ec5f1dfec2cd.png\n",
      "\n",
      "文章標題: 按壓手掌６穴位，輕鬆保養五臟六腑\n",
      "文章網址: https://heho.com.tw/archives/37152\n",
      "圖片: https://heho.com.tw/wp-content/uploads/2019/01/五臟六腑_手掌-01.png\n",
      "\n",
      "文章標題: 夏天濕熱易上火？揉按4穴道祛濕除熱好養身\n",
      "文章網址: https://heho.com.tw/archives/49020\n",
      "圖片: https://heho.com.tw/wp-content/uploads/2019/05/夏天濕熱易上火？揉按4穴道祛濕除熱養好身_01.png\n",
      "\n",
      "文章標題: 常按６穴道，助舒壓、解身體大小困擾\n",
      "文章網址: https://heho.com.tw/archives/168060\n",
      "圖片: https://heho.com.tw/wp-content/uploads/2021/04/1617949389.5712.png\n",
      "\n",
      "文章標題: ５大穴道擊退虛寒、水腫體質\n",
      "文章網址: https://heho.com.tw/archives/157822\n",
      "圖片: https://heho.com.tw/wp-content/uploads/2021/01/1610526263.6923.png\n",
      "\n",
      "文章標題: 穀雨時節養生秘訣，５穴道去濕邪又助眠\n",
      "文章網址: https://heho.com.tw/archives/79088\n",
      "圖片: https://heho.com.tw/wp-content/uploads/2020/04/9645816af1333a2684c05fbf177cefe0.png\n",
      "\n",
      "文章標題: 養生必備！6個補氣強身的特效穴位\n",
      "文章網址: https://heho.com.tw/archives/59263\n",
      "圖片: https://heho.com.tw/wp-content/uploads/2019/11/養生必備！6個補氣強身的特效穴位.png\n",
      "\n",
      "文章標題: 越按越健康！必收藏的６個養生穴道\n",
      "文章網址: https://heho.com.tw/archives/166568\n",
      "圖片: https://heho.com.tw/wp-content/uploads/2021/03/1616569363.0597.png\n",
      "\n",
      "文章標題: 春天是養肝好時機！用 2 方法、壓 2 穴道為整年健康打根基\n",
      "文章網址: https://heho.com.tw/archives/262457\n",
      "圖片: https://heho.com.tw/wp-content/uploads/2023/02/1676214532.3136.jpg\n",
      "\n",
      "文章標題: 養氣血、解肝氣，春天養肝就按這4穴道！\n",
      "文章網址: https://heho.com.tw/archives/43710\n",
      "圖片: https://heho.com.tw/wp-content/uploads/2019/03/養肝穴道-01.png\n",
      "\n",
      "文章標題: 氣虛讓人易累又嗜睡，5大補氣穴位補出好元氣！\n",
      "文章網址: https://heho.com.tw/archives/57073\n",
      "圖片: https://heho.com.tw/wp-content/uploads/2019/09/氣虛讓人易累又嗜睡，5大補氣穴位補出好元氣！.png\n",
      "\n",
      "文章標題: 按對穴道紓壓保健康，上班族必備6穴道\n",
      "文章網址: https://heho.com.tw/archives/18156\n",
      "圖片: https://heho.com.tw/wp-content/uploads/2018/07/上班族必備6種實用穴道-，舒壓保健康-01.png\n",
      "\n",
      "文章標題: 紓壓降火氣！4穴道安定心神、養好心情\n",
      "文章網址: https://heho.com.tw/archives/198222\n",
      "圖片: https://heho.com.tw/wp-content/uploads/2021/12/1638778911.6578.png\n",
      "\n",
      "文章標題: 保養呼吸道！6個穴道清肺又排毒\n",
      "文章網址: https://heho.com.tw/archives/60379\n",
      "圖片: https://heho.com.tw/wp-content/uploads/2019/11/保養呼吸道！6個穴道清肺又排毒.png\n",
      "\n",
      "文章標題: 秋季易傷呼吸道，3穴道滋陰防秋燥\n",
      "文章網址: https://heho.com.tw/archives/139782\n",
      "圖片: https://heho.com.tw/wp-content/uploads/2020/09/79d57d874ecfb6659d74dde0740e3818.png\n",
      "\n",
      "文章標題: 喉嚨癢癢快感冒，按 4 穴道保養呼吸道\n",
      "文章網址: https://heho.com.tw/archives/58191\n",
      "圖片: https://heho.com.tw/wp-content/uploads/2019/10/20191016-喉嚨癢癢快感冒，按4穴道保養呼吸道.png\n",
      "\n",
      "文章標題: 養肺顧氣管，預防感冒就按４穴道！\n",
      "文章網址: https://heho.com.tw/archives/49819\n",
      "圖片: https://heho.com.tw/wp-content/uploads/2019/05/養肺顧氣管，預防感冒就按四穴道！.png\n",
      "\n",
      "文章標題: 改善火燒心！養胃４大穴道提升胃健康\n",
      "文章網址: https://heho.com.tw/archives/224095\n",
      "圖片: https://heho.com.tw/wp-content/uploads/2022/06/1654680323.7933.png\n",
      "\n",
      "文章標題: 擁有好腸胃，保健腸胃必學 5 穴位\n",
      "文章網址: https://heho.com.tw/archives/71830\n",
      "圖片: https://heho.com.tw/wp-content/uploads/2020/03/78bed909bd676b9d6b33d592d6c2c52a.png\n",
      "\n",
      "文章標題: 小雪養生穴道，養腎防寒又防病\n",
      "文章網址: https://heho.com.tw/archives/146727\n",
      "圖片: https://heho.com.tw/wp-content/uploads/2020/11/6446d860dbbfe540e9e2cbab5f98f1e3-18.png\n",
      "\n",
      "文章標題: 冬天養腎補氣！按4穴道提高免疫力 不怕生病\n",
      "文章網址: https://heho.com.tw/archives/61413\n",
      "圖片: https://heho.com.tw/wp-content/uploads/2019/12/冬天養腎補氣按4穴道提高免疫力不怕生病_01.png\n",
      "\n",
      "文章標題: 冬季養生先養腎，術養四穴位\n",
      "文章網址: https://heho.com.tw/archives/3723\n",
      "圖片: https://heho.com.tw/wp-content/uploads/2017/12/冬季養生先養腎，術養四穴位_-01.jpg\n",
      "\n",
      "文章標題: 按摩 4 穴道養好腎補元氣\n",
      "文章網址: https://heho.com.tw/archives/243580\n",
      "圖片: https://heho.com.tw/wp-content/uploads/2022/09/1664522808.7496.png\n",
      "\n",
      "文章標題: 養腎養好髮！按3大腎經穴位養出烏黑秀髮\n",
      "文章網址: https://heho.com.tw/archives/28690\n",
      "圖片: https://heho.com.tw/wp-content/uploads/2018/11/1640833352.0944.png\n",
      "\n",
      "文章標題: ２飲食＋４穴道，讓你烏髮又健髮！\n",
      "文章網址: https://heho.com.tw/archives/14835\n",
      "圖片: https://heho.com.tw/wp-content/uploads/2018/06/掉髮穴道-01.jpg\n",
      "\n",
      "文章標題: 對抗掉髮、禿頭危機，就按摩6穴道保養頭皮\n",
      "文章網址: https://heho.com.tw/archives/26175\n",
      "圖片: https://heho.com.tw/wp-content/uploads/2018/10/對抗掉髮、禿頭危機，用6穴道保養頭皮-01.png\n",
      "\n",
      "文章標題: 眼壓太高怎麼辦？教你自我檢測及按對 5 個穴道降壓又明目\n",
      "文章網址: https://heho.com.tw/archives/19138\n",
      "圖片: https://heho.com.tw/wp-content/uploads/2018/08/眼壓太高怎麼辦？按對穴道降壓又明目-01.png\n",
      "\n"
     ]
    }
   ],
   "source": [
    "# 定義不想打印的欄位列表\n",
    "exclude_columns = ['部位','症狀']\n",
    "\n",
    "# 選取特定欄位中具有特定關鍵字的列並打印出來\n",
    "column_name = '症狀'  # 選取的欄位名稱\n",
    "keyword = '養生'  # 關鍵字\n",
    "\n",
    "selected_rows = data[data[column_name].str.contains(keyword, case=False)]\n",
    "\n",
    "# 迭代 DataFrame 的每一列，並打印出來（排除指定的欄位）\n",
    "for _, row in selected_rows.iterrows():\n",
    "    # 打印除了指定的欄位以外的其他欄位\n",
    "    for column, value in row.iteritems():\n",
    "        if column not in exclude_columns:\n",
    "            print(f\"{column}: {value}\")\n",
    "\n",
    "    print()  # 每一列之間插入空行"
   ]
  },
  {
   "cell_type": "code",
   "execution_count": 27,
   "id": "01349b87",
   "metadata": {
    "scrolled": true
   },
   "outputs": [
    {
     "name": "stdout",
     "output_type": "stream",
     "text": [
      "文章標題: 告別手腳麻木！５個超有效穴位大公開\n",
      "文章網址: https://heho.com.tw/archives/22330\n"
     ]
    },
    {
     "data": {
      "text/html": [
       "<img src=\"https://heho.com.tw/wp-content/uploads/2018/09/老人手腳麻木穴道-01.jpg\" width=\"400\" height=\"400\"/>"
      ],
      "text/plain": [
       "<IPython.core.display.Image object>"
      ]
     },
     "metadata": {},
     "output_type": "display_data"
    },
    {
     "name": "stdout",
     "output_type": "stream",
     "text": [
      "\n",
      "文章標題: 手腳冰冷怎麼辦？４穴道袪寒保暖通氣血\n",
      "文章網址: https://heho.com.tw/archives/151663\n"
     ]
    },
    {
     "data": {
      "text/html": [
       "<img src=\"https://heho.com.tw/wp-content/uploads/2020/12/1607586481.7129.png\" width=\"400\" height=\"400\"/>"
      ],
      "text/plain": [
       "<IPython.core.display.Image object>"
      ]
     },
     "metadata": {},
     "output_type": "display_data"
    },
    {
     "name": "stdout",
     "output_type": "stream",
     "text": [
      "\n",
      "文章標題: 穴位不再只在腳底啦！！！腳背也可以\n",
      "文章網址: https://heho.com.tw/archives/2716\n"
     ]
    },
    {
     "data": {
      "text/html": [
       "<img src=\"https://heho.com.tw/wp-content/uploads/2017/11/腳背穴道-03.png\" width=\"400\" height=\"400\"/>"
      ],
      "text/plain": [
       "<IPython.core.display.Image object>"
      ]
     },
     "metadata": {},
     "output_type": "display_data"
    },
    {
     "name": "stdout",
     "output_type": "stream",
     "text": [
      "\n",
      "文章標題: 居家辦公 / 按摩手也能活化大腦！手部４穴道打開活腦開關，讓大腦不當機\n",
      "文章網址: https://heho.com.tw/archives/94042\n"
     ]
    },
    {
     "data": {
      "text/html": [
       "<img src=\"https://heho.com.tw/wp-content/uploads/2020/07/2fb3027bdac8992a25c494f561dfe393.png\" width=\"400\" height=\"400\"/>"
      ],
      "text/plain": [
       "<IPython.core.display.Image object>"
      ]
     },
     "metadata": {},
     "output_type": "display_data"
    },
    {
     "name": "stdout",
     "output_type": "stream",
     "text": [
      "\n",
      "文章標題: ５個神奇穴位，除體濕、調節內分泌！\n",
      "文章網址: https://heho.com.tw/archives/53962\n"
     ]
    },
    {
     "data": {
      "text/html": [
       "<img src=\"https://heho.com.tw/wp-content/uploads/2019/07/5個神奇穴位，除體濕、調節內分泌_1.png\" width=\"400\" height=\"400\"/>"
      ],
      "text/plain": [
       "<IPython.core.display.Image object>"
      ]
     },
     "metadata": {},
     "output_type": "display_data"
    },
    {
     "name": "stdout",
     "output_type": "stream",
     "text": [
      "\n",
      "文章標題: 保養心血管，按 3 穴道防三高\n",
      "文章網址: https://heho.com.tw/archives/143707\n"
     ]
    },
    {
     "data": {
      "text/html": [
       "<img src=\"https://heho.com.tw/wp-content/uploads/2020/10/542668e942fdbe342ef15c3fcecf30c9.png\" width=\"400\" height=\"400\"/>"
      ],
      "text/plain": [
       "<IPython.core.display.Image object>"
      ]
     },
     "metadata": {},
     "output_type": "display_data"
    },
    {
     "name": "stdout",
     "output_type": "stream",
     "text": [
      "\n",
      "文章標題: 補氣又養心，4 穴道保養心血管\n",
      "文章網址: https://heho.com.tw/archives/208047\n"
     ]
    },
    {
     "data": {
      "text/html": [
       "<img src=\"https://heho.com.tw/wp-content/uploads/2022/02/1645690619.6939.png\" width=\"400\" height=\"400\"/>"
      ],
      "text/plain": [
       "<IPython.core.display.Image object>"
      ]
     },
     "metadata": {},
     "output_type": "display_data"
    },
    {
     "name": "stdout",
     "output_type": "stream",
     "text": [
      "\n",
      "文章標題: 4穴道養心通氣，越按心臟越健康\n",
      "文章網址: https://heho.com.tw/archives/55582\n"
     ]
    },
    {
     "data": {
      "text/html": [
       "<img src=\"https://heho.com.tw/wp-content/uploads/2019/08/4穴道養心通氣，越按心臟越健康.png\" width=\"400\" height=\"400\"/>"
      ],
      "text/plain": [
       "<IPython.core.display.Image object>"
      ]
     },
     "metadata": {},
     "output_type": "display_data"
    },
    {
     "name": "stdout",
     "output_type": "stream",
     "text": [
      "\n",
      "文章標題: 按穴道也能顧牙齒！按摩 5 穴道讓牙齒更健康\n",
      "文章網址: https://heho.com.tw/archives/165074\n"
     ]
    },
    {
     "data": {
      "text/html": [
       "<img src=\"https://heho.com.tw/wp-content/uploads/2021/03/1615363076.3303.png\" width=\"400\" height=\"400\"/>"
      ],
      "text/plain": [
       "<IPython.core.display.Image object>"
      ]
     },
     "metadata": {},
     "output_type": "display_data"
    },
    {
     "name": "stdout",
     "output_type": "stream",
     "text": [
      "\n",
      "文章標題: 冬至補陽好時機，按５穴道陽氣充足不生病\n",
      "文章網址: https://heho.com.tw/archives/152947\n"
     ]
    },
    {
     "data": {
      "text/html": [
       "<img src=\"https://heho.com.tw/wp-content/uploads/2020/12/1608102573.4604.png\" width=\"400\" height=\"400\"/>"
      ],
      "text/plain": [
       "<IPython.core.display.Image object>"
      ]
     },
     "metadata": {},
     "output_type": "display_data"
    },
    {
     "name": "stdout",
     "output_type": "stream",
     "text": [
      "\n",
      "文章標題: 4 種身體的「虛」，按摩對應穴道來保養！\n",
      "文章網址: https://heho.com.tw/archives/86230\n"
     ]
    },
    {
     "data": {
      "text/html": [
       "<img src=\"https://heho.com.tw/wp-content/uploads/2020/06/c40a51550ce5957e30b1d350260e96bb.png\" width=\"400\" height=\"400\"/>"
      ],
      "text/plain": [
       "<IPython.core.display.Image object>"
      ]
     },
     "metadata": {},
     "output_type": "display_data"
    },
    {
     "name": "stdout",
     "output_type": "stream",
     "text": [
      "\n",
      "文章標題: 常按神奇 2 穴道，讓孩子長高、變聰明！\n",
      "文章網址: https://heho.com.tw/archives/136091\n"
     ]
    },
    {
     "data": {
      "text/html": [
       "<img src=\"https://heho.com.tw/wp-content/uploads/2020/09/9095aeacfcec57bc0991ec5f1dfec2cd.png\" width=\"400\" height=\"400\"/>"
      ],
      "text/plain": [
       "<IPython.core.display.Image object>"
      ]
     },
     "metadata": {},
     "output_type": "display_data"
    },
    {
     "name": "stdout",
     "output_type": "stream",
     "text": [
      "\n",
      "文章標題: 按壓手掌６穴位，輕鬆保養五臟六腑\n",
      "文章網址: https://heho.com.tw/archives/37152\n"
     ]
    },
    {
     "data": {
      "text/html": [
       "<img src=\"https://heho.com.tw/wp-content/uploads/2019/01/五臟六腑_手掌-01.png\" width=\"400\" height=\"400\"/>"
      ],
      "text/plain": [
       "<IPython.core.display.Image object>"
      ]
     },
     "metadata": {},
     "output_type": "display_data"
    },
    {
     "name": "stdout",
     "output_type": "stream",
     "text": [
      "\n",
      "文章標題: 夏天濕熱易上火？揉按4穴道祛濕除熱好養身\n",
      "文章網址: https://heho.com.tw/archives/49020\n"
     ]
    },
    {
     "data": {
      "text/html": [
       "<img src=\"https://heho.com.tw/wp-content/uploads/2019/05/夏天濕熱易上火？揉按4穴道祛濕除熱養好身_01.png\" width=\"400\" height=\"400\"/>"
      ],
      "text/plain": [
       "<IPython.core.display.Image object>"
      ]
     },
     "metadata": {},
     "output_type": "display_data"
    },
    {
     "name": "stdout",
     "output_type": "stream",
     "text": [
      "\n",
      "文章標題: 常按６穴道，助舒壓、解身體大小困擾\n",
      "文章網址: https://heho.com.tw/archives/168060\n"
     ]
    },
    {
     "data": {
      "text/html": [
       "<img src=\"https://heho.com.tw/wp-content/uploads/2021/04/1617949389.5712.png\" width=\"400\" height=\"400\"/>"
      ],
      "text/plain": [
       "<IPython.core.display.Image object>"
      ]
     },
     "metadata": {},
     "output_type": "display_data"
    },
    {
     "name": "stdout",
     "output_type": "stream",
     "text": [
      "\n",
      "文章標題: ５大穴道擊退虛寒、水腫體質\n",
      "文章網址: https://heho.com.tw/archives/157822\n"
     ]
    },
    {
     "data": {
      "text/html": [
       "<img src=\"https://heho.com.tw/wp-content/uploads/2021/01/1610526263.6923.png\" width=\"400\" height=\"400\"/>"
      ],
      "text/plain": [
       "<IPython.core.display.Image object>"
      ]
     },
     "metadata": {},
     "output_type": "display_data"
    },
    {
     "name": "stdout",
     "output_type": "stream",
     "text": [
      "\n",
      "文章標題: 穀雨時節養生秘訣，５穴道去濕邪又助眠\n",
      "文章網址: https://heho.com.tw/archives/79088\n"
     ]
    },
    {
     "data": {
      "text/html": [
       "<img src=\"https://heho.com.tw/wp-content/uploads/2020/04/9645816af1333a2684c05fbf177cefe0.png\" width=\"400\" height=\"400\"/>"
      ],
      "text/plain": [
       "<IPython.core.display.Image object>"
      ]
     },
     "metadata": {},
     "output_type": "display_data"
    },
    {
     "name": "stdout",
     "output_type": "stream",
     "text": [
      "\n",
      "文章標題: 養生必備！6個補氣強身的特效穴位\n",
      "文章網址: https://heho.com.tw/archives/59263\n"
     ]
    },
    {
     "data": {
      "text/html": [
       "<img src=\"https://heho.com.tw/wp-content/uploads/2019/11/養生必備！6個補氣強身的特效穴位.png\" width=\"400\" height=\"400\"/>"
      ],
      "text/plain": [
       "<IPython.core.display.Image object>"
      ]
     },
     "metadata": {},
     "output_type": "display_data"
    },
    {
     "name": "stdout",
     "output_type": "stream",
     "text": [
      "\n",
      "文章標題: 越按越健康！必收藏的６個養生穴道\n",
      "文章網址: https://heho.com.tw/archives/166568\n"
     ]
    },
    {
     "data": {
      "text/html": [
       "<img src=\"https://heho.com.tw/wp-content/uploads/2021/03/1616569363.0597.png\" width=\"400\" height=\"400\"/>"
      ],
      "text/plain": [
       "<IPython.core.display.Image object>"
      ]
     },
     "metadata": {},
     "output_type": "display_data"
    },
    {
     "name": "stdout",
     "output_type": "stream",
     "text": [
      "\n",
      "文章標題: 春天是養肝好時機！用 2 方法、壓 2 穴道為整年健康打根基\n",
      "文章網址: https://heho.com.tw/archives/262457\n"
     ]
    },
    {
     "data": {
      "text/html": [
       "<img src=\"https://heho.com.tw/wp-content/uploads/2023/02/1676214532.3136.jpg\" width=\"400\" height=\"400\"/>"
      ],
      "text/plain": [
       "<IPython.core.display.Image object>"
      ]
     },
     "metadata": {},
     "output_type": "display_data"
    },
    {
     "name": "stdout",
     "output_type": "stream",
     "text": [
      "\n",
      "文章標題: 養氣血、解肝氣，春天養肝就按這4穴道！\n",
      "文章網址: https://heho.com.tw/archives/43710\n"
     ]
    },
    {
     "data": {
      "text/html": [
       "<img src=\"https://heho.com.tw/wp-content/uploads/2019/03/養肝穴道-01.png\" width=\"400\" height=\"400\"/>"
      ],
      "text/plain": [
       "<IPython.core.display.Image object>"
      ]
     },
     "metadata": {},
     "output_type": "display_data"
    },
    {
     "name": "stdout",
     "output_type": "stream",
     "text": [
      "\n",
      "文章標題: 氣虛讓人易累又嗜睡，5大補氣穴位補出好元氣！\n",
      "文章網址: https://heho.com.tw/archives/57073\n"
     ]
    },
    {
     "data": {
      "text/html": [
       "<img src=\"https://heho.com.tw/wp-content/uploads/2019/09/氣虛讓人易累又嗜睡，5大補氣穴位補出好元氣！.png\" width=\"400\" height=\"400\"/>"
      ],
      "text/plain": [
       "<IPython.core.display.Image object>"
      ]
     },
     "metadata": {},
     "output_type": "display_data"
    },
    {
     "name": "stdout",
     "output_type": "stream",
     "text": [
      "\n",
      "文章標題: 按對穴道紓壓保健康，上班族必備6穴道\n",
      "文章網址: https://heho.com.tw/archives/18156\n"
     ]
    },
    {
     "data": {
      "text/html": [
       "<img src=\"https://heho.com.tw/wp-content/uploads/2018/07/上班族必備6種實用穴道-，舒壓保健康-01.png\" width=\"400\" height=\"400\"/>"
      ],
      "text/plain": [
       "<IPython.core.display.Image object>"
      ]
     },
     "metadata": {},
     "output_type": "display_data"
    },
    {
     "name": "stdout",
     "output_type": "stream",
     "text": [
      "\n",
      "文章標題: 紓壓降火氣！4穴道安定心神、養好心情\n",
      "文章網址: https://heho.com.tw/archives/198222\n"
     ]
    },
    {
     "data": {
      "text/html": [
       "<img src=\"https://heho.com.tw/wp-content/uploads/2021/12/1638778911.6578.png\" width=\"400\" height=\"400\"/>"
      ],
      "text/plain": [
       "<IPython.core.display.Image object>"
      ]
     },
     "metadata": {},
     "output_type": "display_data"
    },
    {
     "name": "stdout",
     "output_type": "stream",
     "text": [
      "\n",
      "文章標題: 保養呼吸道！6個穴道清肺又排毒\n",
      "文章網址: https://heho.com.tw/archives/60379\n"
     ]
    },
    {
     "data": {
      "text/html": [
       "<img src=\"https://heho.com.tw/wp-content/uploads/2019/11/保養呼吸道！6個穴道清肺又排毒.png\" width=\"400\" height=\"400\"/>"
      ],
      "text/plain": [
       "<IPython.core.display.Image object>"
      ]
     },
     "metadata": {},
     "output_type": "display_data"
    },
    {
     "name": "stdout",
     "output_type": "stream",
     "text": [
      "\n",
      "文章標題: 秋季易傷呼吸道，3穴道滋陰防秋燥\n",
      "文章網址: https://heho.com.tw/archives/139782\n"
     ]
    },
    {
     "data": {
      "text/html": [
       "<img src=\"https://heho.com.tw/wp-content/uploads/2020/09/79d57d874ecfb6659d74dde0740e3818.png\" width=\"400\" height=\"400\"/>"
      ],
      "text/plain": [
       "<IPython.core.display.Image object>"
      ]
     },
     "metadata": {},
     "output_type": "display_data"
    },
    {
     "name": "stdout",
     "output_type": "stream",
     "text": [
      "\n",
      "文章標題: 喉嚨癢癢快感冒，按 4 穴道保養呼吸道\n",
      "文章網址: https://heho.com.tw/archives/58191\n"
     ]
    },
    {
     "data": {
      "text/html": [
       "<img src=\"https://heho.com.tw/wp-content/uploads/2019/10/20191016-喉嚨癢癢快感冒，按4穴道保養呼吸道.png\" width=\"400\" height=\"400\"/>"
      ],
      "text/plain": [
       "<IPython.core.display.Image object>"
      ]
     },
     "metadata": {},
     "output_type": "display_data"
    },
    {
     "name": "stdout",
     "output_type": "stream",
     "text": [
      "\n",
      "文章標題: 養肺顧氣管，預防感冒就按４穴道！\n",
      "文章網址: https://heho.com.tw/archives/49819\n"
     ]
    },
    {
     "data": {
      "text/html": [
       "<img src=\"https://heho.com.tw/wp-content/uploads/2019/05/養肺顧氣管，預防感冒就按四穴道！.png\" width=\"400\" height=\"400\"/>"
      ],
      "text/plain": [
       "<IPython.core.display.Image object>"
      ]
     },
     "metadata": {},
     "output_type": "display_data"
    },
    {
     "name": "stdout",
     "output_type": "stream",
     "text": [
      "\n",
      "文章標題: 改善火燒心！養胃４大穴道提升胃健康\n",
      "文章網址: https://heho.com.tw/archives/224095\n"
     ]
    },
    {
     "data": {
      "text/html": [
       "<img src=\"https://heho.com.tw/wp-content/uploads/2022/06/1654680323.7933.png\" width=\"400\" height=\"400\"/>"
      ],
      "text/plain": [
       "<IPython.core.display.Image object>"
      ]
     },
     "metadata": {},
     "output_type": "display_data"
    },
    {
     "name": "stdout",
     "output_type": "stream",
     "text": [
      "\n",
      "文章標題: 擁有好腸胃，保健腸胃必學 5 穴位\n",
      "文章網址: https://heho.com.tw/archives/71830\n"
     ]
    },
    {
     "data": {
      "text/html": [
       "<img src=\"https://heho.com.tw/wp-content/uploads/2020/03/78bed909bd676b9d6b33d592d6c2c52a.png\" width=\"400\" height=\"400\"/>"
      ],
      "text/plain": [
       "<IPython.core.display.Image object>"
      ]
     },
     "metadata": {},
     "output_type": "display_data"
    },
    {
     "name": "stdout",
     "output_type": "stream",
     "text": [
      "\n",
      "文章標題: 小雪養生穴道，養腎防寒又防病\n",
      "文章網址: https://heho.com.tw/archives/146727\n"
     ]
    },
    {
     "data": {
      "text/html": [
       "<img src=\"https://heho.com.tw/wp-content/uploads/2020/11/6446d860dbbfe540e9e2cbab5f98f1e3-18.png\" width=\"400\" height=\"400\"/>"
      ],
      "text/plain": [
       "<IPython.core.display.Image object>"
      ]
     },
     "metadata": {},
     "output_type": "display_data"
    },
    {
     "name": "stdout",
     "output_type": "stream",
     "text": [
      "\n",
      "文章標題: 冬天養腎補氣！按4穴道提高免疫力 不怕生病\n",
      "文章網址: https://heho.com.tw/archives/61413\n"
     ]
    },
    {
     "data": {
      "text/html": [
       "<img src=\"https://heho.com.tw/wp-content/uploads/2019/12/冬天養腎補氣按4穴道提高免疫力不怕生病_01.png\" width=\"400\" height=\"400\"/>"
      ],
      "text/plain": [
       "<IPython.core.display.Image object>"
      ]
     },
     "metadata": {},
     "output_type": "display_data"
    },
    {
     "name": "stdout",
     "output_type": "stream",
     "text": [
      "\n",
      "文章標題: 冬季養生先養腎，術養四穴位\n",
      "文章網址: https://heho.com.tw/archives/3723\n"
     ]
    },
    {
     "data": {
      "text/html": [
       "<img src=\"https://heho.com.tw/wp-content/uploads/2017/12/冬季養生先養腎，術養四穴位_-01.jpg\" width=\"400\" height=\"400\"/>"
      ],
      "text/plain": [
       "<IPython.core.display.Image object>"
      ]
     },
     "metadata": {},
     "output_type": "display_data"
    },
    {
     "name": "stdout",
     "output_type": "stream",
     "text": [
      "\n",
      "文章標題: 按摩 4 穴道養好腎補元氣\n",
      "文章網址: https://heho.com.tw/archives/243580\n"
     ]
    },
    {
     "data": {
      "text/html": [
       "<img src=\"https://heho.com.tw/wp-content/uploads/2022/09/1664522808.7496.png\" width=\"400\" height=\"400\"/>"
      ],
      "text/plain": [
       "<IPython.core.display.Image object>"
      ]
     },
     "metadata": {},
     "output_type": "display_data"
    },
    {
     "name": "stdout",
     "output_type": "stream",
     "text": [
      "\n",
      "文章標題: 養腎養好髮！按3大腎經穴位養出烏黑秀髮\n",
      "文章網址: https://heho.com.tw/archives/28690\n"
     ]
    },
    {
     "data": {
      "text/html": [
       "<img src=\"https://heho.com.tw/wp-content/uploads/2018/11/1640833352.0944.png\" width=\"400\" height=\"400\"/>"
      ],
      "text/plain": [
       "<IPython.core.display.Image object>"
      ]
     },
     "metadata": {},
     "output_type": "display_data"
    },
    {
     "name": "stdout",
     "output_type": "stream",
     "text": [
      "\n",
      "文章標題: ２飲食＋４穴道，讓你烏髮又健髮！\n",
      "文章網址: https://heho.com.tw/archives/14835\n"
     ]
    },
    {
     "data": {
      "text/html": [
       "<img src=\"https://heho.com.tw/wp-content/uploads/2018/06/掉髮穴道-01.jpg\" width=\"400\" height=\"400\"/>"
      ],
      "text/plain": [
       "<IPython.core.display.Image object>"
      ]
     },
     "metadata": {},
     "output_type": "display_data"
    },
    {
     "name": "stdout",
     "output_type": "stream",
     "text": [
      "\n",
      "文章標題: 對抗掉髮、禿頭危機，就按摩6穴道保養頭皮\n",
      "文章網址: https://heho.com.tw/archives/26175\n"
     ]
    },
    {
     "data": {
      "text/html": [
       "<img src=\"https://heho.com.tw/wp-content/uploads/2018/10/對抗掉髮、禿頭危機，用6穴道保養頭皮-01.png\" width=\"400\" height=\"400\"/>"
      ],
      "text/plain": [
       "<IPython.core.display.Image object>"
      ]
     },
     "metadata": {},
     "output_type": "display_data"
    },
    {
     "name": "stdout",
     "output_type": "stream",
     "text": [
      "\n",
      "文章標題: 眼壓太高怎麼辦？教你自我檢測及按對 5 個穴道降壓又明目\n",
      "文章網址: https://heho.com.tw/archives/19138\n"
     ]
    },
    {
     "data": {
      "text/html": [
       "<img src=\"https://heho.com.tw/wp-content/uploads/2018/08/眼壓太高怎麼辦？按對穴道降壓又明目-01.png\" width=\"400\" height=\"400\"/>"
      ],
      "text/plain": [
       "<IPython.core.display.Image object>"
      ]
     },
     "metadata": {},
     "output_type": "display_data"
    },
    {
     "name": "stdout",
     "output_type": "stream",
     "text": [
      "\n"
     ]
    }
   ],
   "source": [
    "# 定義不想打印的欄位列表\n",
    "exclude_columns = ['部位','症狀']\n",
    "\n",
    "# 選取特定欄位中具有特定關鍵字的列並打印出來\n",
    "column_name = '症狀'  # 選取的欄位名稱\n",
    "keyword = '養生'  # 關鍵字\n",
    "\n",
    "selected_rows = data[data[column_name].str.contains(keyword, case=False)]\n",
    "\n",
    "# 迭代 DataFrame 的每一列，並打印出來（排除指定的欄位）\n",
    "for _, row in selected_rows.iterrows():\n",
    "    # 打印除了指定的欄位以外的其他欄位\n",
    "    for column, value in row.iteritems():\n",
    "        if column not in exclude_columns:\n",
    "            if column == '圖片':\n",
    "                display(Image(url=value, width=400, height=400))\n",
    "            else:\n",
    "                print(f\"{column}: {value}\")\n",
    "\n",
    "    print()  # 每一列之間插入空行"
   ]
  },
  {
   "cell_type": "markdown",
   "id": "3324678f",
   "metadata": {},
   "source": [
    "# 透過jupyter內的互動功能模擬使用者操作的情形\n",
    "## 使用 ipywidgets 庫創建互動元件\n",
    "## 測試 ipywidgets 的功能"
   ]
  },
  {
   "cell_type": "code",
   "execution_count": 28,
   "id": "c5b50b55",
   "metadata": {},
   "outputs": [],
   "source": [
    "#匯入ipywidgets\n",
    "from ipywidgets import interact"
   ]
  },
  {
   "cell_type": "code",
   "execution_count": 29,
   "id": "af962c23",
   "metadata": {
    "scrolled": true
   },
   "outputs": [
    {
     "data": {
      "application/vnd.jupyter.widget-view+json": {
       "model_id": "cc137b46954940509fcc13307bdf7952",
       "version_major": 2,
       "version_minor": 0
      },
      "text/plain": [
       "Text(value='0', description='查詢:', placeholder='輸入想查詢的症狀類別')"
      ]
     },
     "metadata": {},
     "output_type": "display_data"
    }
   ],
   "source": [
    "#測試\n",
    "Q = widgets.Text(\n",
    "    value='0',\n",
    "    placeholder='輸入想查詢的症狀類別',\n",
    "    description='查詢:',\n",
    "    disabled=False\n",
    ")\n",
    "display(Q)"
   ]
  },
  {
   "cell_type": "code",
   "execution_count": 30,
   "id": "70f5e95c",
   "metadata": {},
   "outputs": [
    {
     "name": "stdout",
     "output_type": "stream",
     "text": [
      "0\n"
     ]
    }
   ],
   "source": [
    "#測試\n",
    "enter =format(Q.value)\n",
    "print(enter)"
   ]
  },
  {
   "cell_type": "code",
   "execution_count": 31,
   "id": "fd0f384e",
   "metadata": {},
   "outputs": [
    {
     "data": {
      "application/vnd.jupyter.widget-view+json": {
       "model_id": "630d0c1fdd084f9db7dd935b4b817d01",
       "version_major": 2,
       "version_minor": 0
      },
      "text/plain": [
       "SelectMultiple(description='分類:', index=(0,), options=('護眼', '頭暈', '養生', '憂鬱', '感冒', '焦慮'), value=('護眼',))"
      ]
     },
     "metadata": {},
     "output_type": "display_data"
    }
   ],
   "source": [
    "import ipywidgets as widgets\n",
    "from IPython.display import display\n",
    "\n",
    "options=['護眼', '頭暈', '養生','憂鬱','感冒','焦慮']\n",
    "\n",
    "Q = widgets.SelectMultiple(\n",
    "    options=options,\n",
    "    value=[options[0]],\n",
    "    description='分類:',\n",
    "    disabled=False,\n",
    ")\n",
    "display(Q)"
   ]
  },
  {
   "cell_type": "code",
   "execution_count": 32,
   "id": "97168732",
   "metadata": {
    "scrolled": true
   },
   "outputs": [
    {
     "name": "stdout",
     "output_type": "stream",
     "text": [
      "護眼\n"
     ]
    }
   ],
   "source": [
    "for Ans in Q.value:\n",
    "    a =format(Ans)\n",
    "    print(a)"
   ]
  },
  {
   "cell_type": "code",
   "execution_count": 34,
   "id": "f7cadb8c",
   "metadata": {
    "scrolled": false
   },
   "outputs": [
    {
     "name": "stdout",
     "output_type": "stream",
     "text": [
      "文章標題: 眼睛又乾又癢？ 常按護眼穴道改善乾眼症\n",
      "文章網址: https://heho.com.tw/archives/155529\n"
     ]
    },
    {
     "data": {
      "text/html": [
       "<img src=\"https://heho.com.tw/wp-content/uploads/2021/01/1609321618.8966.png\" width=\"400\" height=\"400\"/>"
      ],
      "text/plain": [
       "<IPython.core.display.Image object>"
      ]
     },
     "metadata": {},
     "output_type": "display_data"
    },
    {
     "name": "stdout",
     "output_type": "stream",
     "text": [
      "\n",
      "文章標題: 眼睛乾癢又疲勞？眼周６穴道明目又護眼\n",
      "文章網址: https://heho.com.tw/archives/84486\n"
     ]
    },
    {
     "data": {
      "text/html": [
       "<img src=\"https://heho.com.tw/wp-content/uploads/2020/05/4173142e20b6d6ce375f2273fd3453de.png\" width=\"400\" height=\"400\"/>"
      ],
      "text/plain": [
       "<IPython.core.display.Image object>"
      ]
     },
     "metadata": {},
     "output_type": "display_data"
    },
    {
     "name": "stdout",
     "output_type": "stream",
     "text": [
      "\n"
     ]
    }
   ],
   "source": [
    "# 定義不想打印的欄位列表\n",
    "exclude_columns = ['部位','症狀']\n",
    "\n",
    "# 選取特定欄位中具有特定關鍵字的列並打印出來\n",
    "column_name = '症狀'  # 選取的欄位名稱\n",
    "keyword = a  # 關鍵字\n",
    "\n",
    "selected_rows = data[data[column_name].str.contains(keyword, case=False)]\n",
    "\n",
    "# 迭代 DataFrame 的每一列，並打印出來（排除指定的欄位）\n",
    "for _, row in selected_rows.iterrows():\n",
    "    # 打印除了指定的欄位以外的其他欄位\n",
    "    for column, value in row.iteritems():\n",
    "        if column not in exclude_columns:\n",
    "            if column == '圖片':\n",
    "                display(Image(url=value, width=400, height=400))\n",
    "            else:\n",
    "                print(f\"{column}: {value}\")\n",
    "\n",
    "    print()  # 每一列之間插入空行"
   ]
  },
  {
   "cell_type": "code",
   "execution_count": null,
   "id": "2c1eef27",
   "metadata": {},
   "outputs": [],
   "source": []
  }
 ],
 "metadata": {
  "kernelspec": {
   "display_name": "Python 3 (ipykernel)",
   "language": "python",
   "name": "python3"
  },
  "language_info": {
   "codemirror_mode": {
    "name": "ipython",
    "version": 3
   },
   "file_extension": ".py",
   "mimetype": "text/x-python",
   "name": "python",
   "nbconvert_exporter": "python",
   "pygments_lexer": "ipython3",
   "version": "3.9.13"
  }
 },
 "nbformat": 4,
 "nbformat_minor": 5
}
