{
 "cells": [
  {
   "cell_type": "code",
   "execution_count": 28,
   "id": "3c428945",
   "metadata": {},
   "outputs": [],
   "source": [
    "import urllib.request as req #抓取網頁原始碼(HTML)\n",
    "import json\n",
    "import pandas as pd\n",
    "import requests \n",
    "import time\n",
    "from time import sleep\n",
    "\n",
    "#抓取的網站\n",
    "url = 'https://tvl.ctvba.org.tw' \n",
    "\n",
    "# 建立 Request 物件，附加 Request Headers(因為連線被拒絕，必須看起來像是人類)\n",
    "request = req.Request(url, headers = {\n",
    "    \"User-Agent\":'Mozilla/5.0 (Windows NT 10.0; Win64; x64) AppleWebKit/537.36 (KHTML, like Gecko) Chrome/106.0.0.0 Safari/537.36'\n",
    "})\n",
    "with req.urlopen(request) as response:\n",
    "    data = response.read().decode(\"utf-8\")"
   ]
  },
  {
   "cell_type": "code",
   "execution_count": 29,
   "id": "0cb200cc",
   "metadata": {},
   "outputs": [
    {
     "name": "stderr",
     "output_type": "stream",
     "text": [
      "C:\\Users\\Lily\\anaconda3\\lib\\site-packages\\urllib3\\connectionpool.py:1045: InsecureRequestWarning: Unverified HTTPS request is being made to host 'tvl.ctvba.org.tw'. Adding certificate verification is strongly advised. See: https://urllib3.readthedocs.io/en/1.26.x/advanced-usage.html#ssl-warnings\n",
      "  warnings.warn(\n"
     ]
    },
    {
     "data": {
      "text/plain": [
       "<Response [200]>"
      ]
     },
     "execution_count": 29,
     "metadata": {},
     "output_type": "execute_result"
    }
   ],
   "source": [
    "res = requests.get(url, verify=False)\n",
    "res"
   ]
  },
  {
   "cell_type": "code",
   "execution_count": 40,
   "id": "2075a7ab",
   "metadata": {},
   "outputs": [],
   "source": [
    "#解析原始碼\n",
    "import bs4\n",
    "root = bs4.BeautifulSoup(data, \"html.parser\")\n",
    "\n",
    "#找網站中class 為 news_more d-block py-0 px-3 的 a 標籤\n",
    "titles = root.find_all(\"a\", class_=\"news_more d-block py-0 px-3\") "
   ]
  },
  {
   "cell_type": "code",
   "execution_count": 41,
   "id": "915d66ba",
   "metadata": {
    "scrolled": true
   },
   "outputs": [
    {
     "data": {
      "text/plain": [
       "[<a class=\"news_more d-block py-0 px-3\" href=\"/news-detail/281\">\n",
       " <h5 class=\"fs14\">年度最佳七人公布</h5>\n",
       " <span class=\"fs12\">2023-03-30</span>\n",
       " </a>,\n",
       " <a class=\"news_more d-block py-0 px-3\" href=\"/news-detail/280\">\n",
       " <h5 class=\"fs14\">企排18年度得分王&amp;得分后公布！</h5>\n",
       " <span class=\"fs12\">2023-03-29</span>\n",
       " </a>,\n",
       " <a class=\"news_more d-block py-0 px-3\" href=\"/news-detail/279\">\n",
       " <h5 class=\"fs14\">再度血戰五局！連莊成功加冕為王！</h5>\n",
       " <span class=\"fs12\">2023-03-27</span>\n",
       " </a>,\n",
       " <a class=\"news_more d-block py-0 px-3\" href=\"/news-detail/278\">\n",
       " <h5 class=\"fs14\">屏東台電冠軍賽扳平戰局！冠軍獎落誰家明日揭曉！</h5>\n",
       " <span class=\"fs12\">2023-03-26</span>\n",
       " </a>,\n",
       " <a class=\"news_more d-block py-0 px-3\" href=\"/news-detail/277\">\n",
       " <h5 class=\"fs14\">藍海飄揚！臺北鯨華勇奪總冠軍</h5>\n",
       " <span class=\"fs12\">2023-03-26</span>\n",
       " </a>,\n",
       " <a class=\"news_more d-block py-0 px-3\" href=\"/news-detail/276\">\n",
       " <h5 class=\"fs14\">總冠軍賽血戰五場，連莊險勝率先聽牌！</h5>\n",
       " <span class=\"fs12\">2023-03-25</span>\n",
       " </a>]"
      ]
     },
     "execution_count": 41,
     "metadata": {},
     "output_type": "execute_result"
    }
   ],
   "source": [
    "titles"
   ]
  },
  {
   "cell_type": "code",
   "execution_count": 42,
   "id": "dc44ffa6",
   "metadata": {},
   "outputs": [
    {
     "name": "stdout",
     "output_type": "stream",
     "text": [
      "\"年度最佳七人公布\"\n",
      "\"企排18年度得分王&得分后公布！\"\n",
      "\"再度血戰五局！連莊成功加冕為王！\"\n",
      "\"屏東台電冠軍賽扳平戰局！冠軍獎落誰家明日揭曉！\"\n",
      "\"藍海飄揚！臺北鯨華勇奪總冠軍\"\n",
      "\"總冠軍賽血戰五場，連莊險勝率先聽牌！\"\n"
     ]
    }
   ],
   "source": [
    "allti=[]\n",
    "for title in titles:\n",
    "    all = title.find(\"h5\").string\n",
    "    alla = json.dumps(all,ensure_ascii=False).encode('utf-8')\n",
    "    allb = alla.decode()\n",
    "    allti.append(allb)\n",
    "    print(allb)"
   ]
  },
  {
   "cell_type": "code",
   "execution_count": 47,
   "id": "c0c642b8",
   "metadata": {},
   "outputs": [
    {
     "data": {
      "text/plain": [
       "'{\"文章標題\": [\"\\\\\"年度最佳七人公布\\\\\"\", \"\\\\\"企排18年度得分王&得分后公布！\\\\\"\", \"\\\\\"再度血戰五局！連莊成功加冕為王！\\\\\"\", \"\\\\\"屏東台電冠軍賽扳平戰局！冠軍獎落誰家明日揭曉！\\\\\"\", \"\\\\\"藍海飄揚！臺北鯨華勇奪總冠軍\\\\\"\", \"\\\\\"總冠軍賽血戰五場，連莊險勝率先聽牌！\\\\\"\"]}'"
      ]
     },
     "execution_count": 47,
     "metadata": {},
     "output_type": "execute_result"
    }
   ],
   "source": [
    "#將資料放入 dict\n",
    "TVL={}\n",
    "TVL['文章標題']=allti\n",
    "\n",
    "#將dict 轉成 json 檔\n",
    "TVL_j=json.dumps(TVL,ensure_ascii=False) \n",
    "TVL_j"
   ]
  },
  {
   "cell_type": "code",
   "execution_count": 48,
   "id": "d9ff2212",
   "metadata": {},
   "outputs": [
    {
     "data": {
      "text/html": [
       "<div>\n",
       "<style scoped>\n",
       "    .dataframe tbody tr th:only-of-type {\n",
       "        vertical-align: middle;\n",
       "    }\n",
       "\n",
       "    .dataframe tbody tr th {\n",
       "        vertical-align: top;\n",
       "    }\n",
       "\n",
       "    .dataframe thead th {\n",
       "        text-align: right;\n",
       "    }\n",
       "</style>\n",
       "<table border=\"1\" class=\"dataframe\">\n",
       "  <thead>\n",
       "    <tr style=\"text-align: right;\">\n",
       "      <th></th>\n",
       "      <th>文章標題</th>\n",
       "    </tr>\n",
       "  </thead>\n",
       "  <tbody>\n",
       "    <tr>\n",
       "      <th>0</th>\n",
       "      <td>\"年度最佳七人公布\"</td>\n",
       "    </tr>\n",
       "    <tr>\n",
       "      <th>1</th>\n",
       "      <td>\"企排18年度得分王&amp;得分后公布！\"</td>\n",
       "    </tr>\n",
       "    <tr>\n",
       "      <th>2</th>\n",
       "      <td>\"再度血戰五局！連莊成功加冕為王！\"</td>\n",
       "    </tr>\n",
       "    <tr>\n",
       "      <th>3</th>\n",
       "      <td>\"屏東台電冠軍賽扳平戰局！冠軍獎落誰家明日揭曉！\"</td>\n",
       "    </tr>\n",
       "    <tr>\n",
       "      <th>4</th>\n",
       "      <td>\"藍海飄揚！臺北鯨華勇奪總冠軍\"</td>\n",
       "    </tr>\n",
       "    <tr>\n",
       "      <th>5</th>\n",
       "      <td>\"總冠軍賽血戰五場，連莊險勝率先聽牌！\"</td>\n",
       "    </tr>\n",
       "  </tbody>\n",
       "</table>\n",
       "</div>"
      ],
      "text/plain": [
       "                        文章標題\n",
       "0                 \"年度最佳七人公布\"\n",
       "1         \"企排18年度得分王&得分后公布！\"\n",
       "2         \"再度血戰五局！連莊成功加冕為王！\"\n",
       "3  \"屏東台電冠軍賽扳平戰局！冠軍獎落誰家明日揭曉！\"\n",
       "4           \"藍海飄揚！臺北鯨華勇奪總冠軍\"\n",
       "5       \"總冠軍賽血戰五場，連莊險勝率先聽牌！\""
      ]
     },
     "execution_count": 48,
     "metadata": {},
     "output_type": "execute_result"
    }
   ],
   "source": [
    "#將dict 轉成 DataFrame\n",
    "TVL_c = pd.DataFrame(TVL) \n",
    "TVL_c"
   ]
  },
  {
   "cell_type": "code",
   "execution_count": 49,
   "id": "68898b6b",
   "metadata": {},
   "outputs": [],
   "source": [
    "#輸出csv檔\n",
    "TVL_c.to_csv('TVL.csv') \n",
    "\n",
    "#輸出json檔\n",
    "TVL_c.to_json('TVL.json') "
   ]
  }
 ],
 "metadata": {
  "kernelspec": {
   "display_name": "Python 3 (ipykernel)",
   "language": "python",
   "name": "python3"
  },
  "language_info": {
   "codemirror_mode": {
    "name": "ipython",
    "version": 3
   },
   "file_extension": ".py",
   "mimetype": "text/x-python",
   "name": "python",
   "nbconvert_exporter": "python",
   "pygments_lexer": "ipython3",
   "version": "3.9.13"
  }
 },
 "nbformat": 4,
 "nbformat_minor": 5
}
