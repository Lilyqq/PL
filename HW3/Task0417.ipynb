{
 "cells": [
  {
   "cell_type": "code",
   "execution_count": 44,
   "id": "088fc810",
   "metadata": {},
   "outputs": [],
   "source": [
    "import requests \n",
    "import json\n",
    "import time\n",
    "from time import sleep\n",
    "import pandas as pd "
   ]
  },
  {
   "cell_type": "code",
   "execution_count": 45,
   "id": "7bcbe8b5",
   "metadata": {},
   "outputs": [],
   "source": [
    "### 裁判家網址：https://www.lawplus.com.tw/\n",
    "### 關鍵字：全文搜索：偽造文書\n",
    "### URL：https://www.lawplus.com.tw/#/searchReport?query=%25E5%2581%25BD%25E9%2580%25A0%25E6%2596%2587%25E6%259B%25B8%2520%25E4%25B8%2580%25E5%25AF%25A9\n",
    "### urlfirst+頁數+urlsec=搜尋結果(link)\n",
    "### 迴圈爬取前10頁內容\n",
    "### 透過resquests取得網頁資料轉換成json格式"
   ]
  },
  {
   "cell_type": "code",
   "execution_count": 46,
   "id": "eb7e8b87",
   "metadata": {},
   "outputs": [],
   "source": [
    "urlfirst = \"https://www.lawplus.com.tw/rest/search/report?querySentence=%E5%81%BD%E9%80%A0%E6%96%87%E6%9B%B8\""
   ]
  },
  {
   "cell_type": "code",
   "execution_count": 47,
   "id": "4bf5ef32",
   "metadata": {},
   "outputs": [
    {
     "name": "stderr",
     "output_type": "stream",
     "text": [
      "C:\\Users\\Lily\\anaconda3\\lib\\site-packages\\urllib3\\connectionpool.py:1045: InsecureRequestWarning: Unverified HTTPS request is being made to host 'www.lawplus.com.tw'. Adding certificate verification is strongly advised. See: https://urllib3.readthedocs.io/en/1.26.x/advanced-usage.html#ssl-warnings\n",
      "  warnings.warn(\n"
     ]
    }
   ],
   "source": [
    "res = requests.get(urlfirst, verify=False)"
   ]
  },
  {
   "cell_type": "code",
   "execution_count": 42,
   "id": "b4b4f759",
   "metadata": {},
   "outputs": [
    {
     "data": {
      "text/plain": [
       "<Response [200]>"
      ]
     },
     "execution_count": 42,
     "metadata": {},
     "output_type": "execute_result"
    }
   ],
   "source": [
    "res"
   ]
  },
  {
   "cell_type": "code",
   "execution_count": 43,
   "id": "6cfa798d",
   "metadata": {},
   "outputs": [
    {
     "data": {
      "text/plain": [
       "{'page': 1,\n",
       " 'records': 768085,\n",
       " 'rows': [{'caseNum': '100,上訴,3011',\n",
       "   'caseType': 'M',\n",
       "   'content': '臺灣高等法院刑事判決\\u3000\\u3000\\u3000\\u3000\\u3000\\u3000\\u3000 100年度上訴字第3011號\\r\\n上\\u3000訴\\u3000人\\u3000臺灣桃園地方法院檢察署檢察官\\r\\n被\\u3000\\u3000\\u3000告\\u3000陳清德\\r\\n選任辯護人\\u3000魏順華律師\\r\\n被\\u3000\\u3000\\u3000告\\u3000黃永佳\\r\\n選任辯護人\\u3000林鈺雄...',\n",
       "   'court': '',\n",
       "   'identifier': 'TPHM,100,上訴,3011,20120426,1-6642f6f7-e7fb-4d59-a61e-43b958dc1e06',\n",
       "   'issue': '偽造文書等',\n",
       "   'jtype': 'J',\n",
       "   'judgeDate': '2012/04/26',\n",
       "   'litigant': None,\n",
       "   'tags': None,\n",
       "   'title': 'TPHM,100,上訴,3011,20120426,1-6642f6f7-e7fb-4d59-a61e-43b958dc1e06',\n",
       "   'type': '刑事判決'},\n",
       "  {'caseNum': '93,簡,4090',\n",
       "   'caseType': 'M',\n",
       "   'content': '臺灣板橋地方法院刑事簡易判決\\u3000\\u3000\\u3000\\u3000\\u300093年度簡字第4090號\\r\\n聲\\u3000請\\u3000人\\u3000臺灣板橋地方法院檢察署檢察官\\r\\n被\\u3000\\u3000\\u3000告\\u3000壬○○\\r\\n\\u3000\\u3000\\u3000\\u3000\\u3000\\u3000辰○○\\r\\n\\u3000\\u3000\\u3000\\u3000\\u3000\\u3000乙○○\\r\\n\\u3000\\u3000\\u3000\\u3000\\u3000\\u3000卯○○\\r\\n\\u3000...',\n",
       "   'court': '',\n",
       "   'identifier': 'PCDM,93,簡,4090,20050310,1-73def4b2-e4ec-4ce6-b7c1-c7eb6feec88f',\n",
       "   'issue': '偽造文書',\n",
       "   'jtype': 'J',\n",
       "   'judgeDate': '2005/03/10',\n",
       "   'litigant': None,\n",
       "   'tags': None,\n",
       "   'title': 'PCDM,93,簡,4090,20050310,1-73def4b2-e4ec-4ce6-b7c1-c7eb6feec88f',\n",
       "   'type': '刑事判決'},\n",
       "  {'caseNum': '94,嘉簡,695',\n",
       "   'caseType': 'M',\n",
       "   'content': '臺灣嘉義地方法院刑事簡易判決\\u3000\\u3000\\u3000\\u3000 94年度嘉簡字第695號\\r\\n\\u3000\\u3000公\\u3000訴\\u3000人\\u3000臺灣嘉義地方法院檢察署檢察官\\r\\n\\u3000\\u3000被\\u3000\\u3000\\u3000告\\u3000ｋ○○\\u3000男\\u30003\\r\\n\\u3000\\u3000\\u3000\\u3000\\u3000\\u3000\\u3000\\u3000ｊ○○\\u3000男\\u30002\\r\\n\\u3000\\u3000\\u3000\\u3000\\u3000\\u3000\\u3000\\u3000ｍ...',\n",
       "   'court': '',\n",
       "   'identifier': 'CYDM,94,嘉簡,695,20050614,1-3d284cb7-2787-4713-a6dd-6d8d18a1625f',\n",
       "   'issue': '偽造文書等',\n",
       "   'jtype': 'J',\n",
       "   'judgeDate': '2005/06/14',\n",
       "   'litigant': None,\n",
       "   'tags': None,\n",
       "   'title': 'CYDM,94,嘉簡,695,20050614,1-3d284cb7-2787-4713-a6dd-6d8d18a1625f',\n",
       "   'type': '刑事判決'},\n",
       "  {'caseNum': '97,訴,2133',\n",
       "   'caseType': 'M',\n",
       "   'content': '臺灣彰化地方法院刑事判決\\u3000\\u3000\\u3000\\u3000\\u3000\\u3000\\u300097年度訴字第2133號\\r\\n公\\u3000訴\\u3000人\\u3000臺灣彰化地方法院檢察署檢察官\\r\\n被\\u3000\\u3000\\u3000告\\u3000乙○○\\r\\n\\u3000\\u3000\\u3000\\u3000\\u3000\\u3000\\u3000\\u3000\\u3000\\u3000（現另案於臺灣臺中看守所羈押中）\\r\\n上列被告因偽...',\n",
       "   'court': '',\n",
       "   'identifier': 'CHDM,97,訴,2133,20080820,1-e910e48f-1b86-41b4-8f18-f5c3f6f301c3',\n",
       "   'issue': '偽造文書',\n",
       "   'jtype': 'J',\n",
       "   'judgeDate': '2008/08/20',\n",
       "   'litigant': None,\n",
       "   'tags': None,\n",
       "   'title': 'CHDM,97,訴,2133,20080820,1-e910e48f-1b86-41b4-8f18-f5c3f6f301c3',\n",
       "   'type': '刑事判決'},\n",
       "  {'caseNum': '97,訴,182',\n",
       "   'caseType': 'M',\n",
       "   'content': '臺灣苗栗地方法院刑事判決\\u3000\\u3000\\u3000\\u3000\\u3000\\u3000\\u3000 97年度訴字第182號\\r\\n公\\u3000訴\\u3000人\\u3000臺灣苗栗地方法院檢察署檢察官\\r\\n被\\u3000\\u3000\\u3000告\\u3000丁○○\\r\\n\\u3000\\u3000\\u3000\\u3000\\u3000\\u3000\\u3000\\u3000\\u3000\\u3000現另案在臺灣臺中監獄苗栗分監執行中\\r\\n上列被告因...',\n",
       "   'court': '',\n",
       "   'identifier': 'MLDM,97,訴,182,20080418,2-c340848e-24d1-4059-b521-cbb9efd875dd',\n",
       "   'issue': '偽造文書等',\n",
       "   'jtype': 'J',\n",
       "   'judgeDate': '2008/04/18',\n",
       "   'litigant': None,\n",
       "   'tags': None,\n",
       "   'title': 'MLDM,97,訴,182,20080418,2-c340848e-24d1-4059-b521-cbb9efd875dd',\n",
       "   'type': '刑事判決'},\n",
       "  {'caseNum': '97,訴,231',\n",
       "   'caseType': 'M',\n",
       "   'content': '臺灣苗栗地方法院刑事判決\\u3000\\u3000\\u3000\\u3000\\u3000\\u3000\\u3000 97年度訴字第231號\\r\\n公\\u3000訴\\u3000人\\u3000臺灣苗栗地方法院檢察署檢察官\\r\\n被\\u3000\\u3000\\u3000告\\u3000甲○○\\r\\n\\u3000\\u3000\\u3000\\u3000\\u3000\\u3000\\u3000\\u3000\\u3000\\u3000號\\r\\n上列被告因偽造文書等案件，經檢察官聲請簡易...',\n",
       "   'court': '',\n",
       "   'identifier': 'MLDM,97,訴,231,20080515,2-b41cde8b-cd82-4ca3-a64d-3e403835d881',\n",
       "   'issue': '偽造文書等',\n",
       "   'jtype': 'J',\n",
       "   'judgeDate': '2008/05/15',\n",
       "   'litigant': None,\n",
       "   'tags': None,\n",
       "   'title': 'MLDM,97,訴,231,20080515,2-b41cde8b-cd82-4ca3-a64d-3e403835d881',\n",
       "   'type': '刑事判決'},\n",
       "  {'caseNum': '94,嘉簡,1015',\n",
       "   'caseType': 'M',\n",
       "   'content': '臺灣嘉義地方法院刑事簡易判決\\u3000\\u3000\\u3000\\u300094年度嘉簡字第1015號\\r\\n\\u3000\\u3000公\\u3000訴\\u3000人\\u3000臺灣嘉義地方法院檢察署檢察官\\r\\n\\u3000\\u3000被\\u3000\\u3000\\u3000告\\u3000地○○\\r\\n\\u3000\\u3000\\u3000\\u3000\\u3000\\u3000\\u3000\\u3000Ｅ○○\\r\\n\\u3000\\u3000\\u3000\\u3000\\u3000\\u3000\\u3000\\u3000Ｎ○○\\r\\n\\u3000\\u3000\\u3000\\u3000...',\n",
       "   'court': '',\n",
       "   'identifier': 'CYDM,94,嘉簡,1015,20050823,1-fe9439ea-9fe1-495a-b9e9-411e14e55d55',\n",
       "   'issue': '偽造文書等',\n",
       "   'jtype': 'J',\n",
       "   'judgeDate': '2005/08/23',\n",
       "   'litigant': None,\n",
       "   'tags': None,\n",
       "   'title': 'CYDM,94,嘉簡,1015,20050823,1-fe9439ea-9fe1-495a-b9e9-411e14e55d55',\n",
       "   'type': '刑事判決'},\n",
       "  {'caseNum': '97,簡,3881',\n",
       "   'caseType': 'M',\n",
       "   'content': '臺灣板橋地方法院刑事簡易判決\\u3000\\u3000\\u3000\\u3000\\u300097年度簡字第3881號\\r\\n聲\\u3000請\\u3000人\\u3000臺灣板橋地方法院檢察署檢察官\\r\\n被\\u3000\\u3000\\u3000告\\u3000YUNITA YU\\r\\n上列被告因偽造文書案件，經檢察官聲請以簡易判決處刑（97...',\n",
       "   'court': '',\n",
       "   'identifier': 'PCDM,97,簡,3881,20080613,1-45126896-61a9-4ce4-a554-0bb085ce4ee3',\n",
       "   'issue': '偽造文書',\n",
       "   'jtype': 'J',\n",
       "   'judgeDate': '2008/06/13',\n",
       "   'litigant': None,\n",
       "   'tags': None,\n",
       "   'title': 'PCDM,97,簡,3881,20080613,1-45126896-61a9-4ce4-a554-0bb085ce4ee3',\n",
       "   'type': '刑事判決'},\n",
       "  {'caseNum': '91,訴,678',\n",
       "   'caseType': 'M',\n",
       "   'content': '臺灣臺中地方法院刑事判決\\u3000\\u3000\\u3000\\u3000\\u3000\\u3000\\u3000\\u3000\\u3000\\u3000\\u3000\\u3000\\u3000九十一年度訴字第六七八號\\r\\n\\u3000\\u3000公\\u3000訴\\u3000人\\u3000臺灣臺中地方法院檢察署檢察官\\r\\n\\u3000\\u3000被\\u3000\\u3000\\u3000告\\u3000甲○○\\r\\n右列被告因偽造文書案件，經檢察官提起公訴（九十一...',\n",
       "   'court': '',\n",
       "   'identifier': 'TCDM,91,訴,678,20020716,1-ec4b432c-1096-4bdb-8443-072f96cb9907',\n",
       "   'issue': '偽造文書',\n",
       "   'jtype': 'J',\n",
       "   'judgeDate': '2002/07/16',\n",
       "   'litigant': None,\n",
       "   'tags': None,\n",
       "   'title': 'TCDM,91,訴,678,20020716,1-ec4b432c-1096-4bdb-8443-072f96cb9907',\n",
       "   'type': '刑事判決'},\n",
       "  {'caseNum': '98,審簡,58',\n",
       "   'caseType': 'M',\n",
       "   'content': '臺灣士林地方法院刑事簡易判決\\u3000\\u3000\\u3000\\u3000\\u300098年度審簡字第58號\\r\\n公\\u3000訴\\u3000人\\u3000臺灣士林地方法院檢察署檢察官\\r\\n被\\u3000\\u3000\\u3000告\\u3000乙○○\\r\\n上列被告因偽造文書案件，經檢察官提起公訴（97年度偵字第\\r\\n12898...',\n",
       "   'court': '',\n",
       "   'identifier': 'SLDM,98,審簡,58,20090331,1-b1c69ae4-dd0b-46dd-b3d7-5b9f0993ba8b',\n",
       "   'issue': '偽造文書',\n",
       "   'jtype': 'J',\n",
       "   'judgeDate': '2009/03/31',\n",
       "   'litigant': None,\n",
       "   'tags': None,\n",
       "   'title': 'SLDM,98,審簡,58,20090331,1-b1c69ae4-dd0b-46dd-b3d7-5b9f0993ba8b',\n",
       "   'type': '刑事判決'}],\n",
       " 'total': 76809,\n",
       " 'userdata': {'series': [{'name': '2021', 'y': 9745},\n",
       "   {'name': '2020', 'y': 45209},\n",
       "   {'name': '2019', 'y': 54579},\n",
       "   {'name': '2018', 'y': 49396},\n",
       "   {'name': '2017', 'y': 48533},\n",
       "   {'name': '2016', 'y': 46008},\n",
       "   {'name': '2015', 'y': 40553},\n",
       "   {'name': '2014', 'y': 42301},\n",
       "   {'name': '2013', 'y': 40321},\n",
       "   {'name': '2012', 'y': 41612},\n",
       "   {'name': '2011', 'y': 41042},\n",
       "   {'name': '2010', 'y': 35128},\n",
       "   {'name': '2009', 'y': 36356},\n",
       "   {'name': '2008', 'y': 45485},\n",
       "   {'name': '2007', 'y': 42417},\n",
       "   {'name': '2006', 'y': 26266},\n",
       "   {'name': '2005', 'y': 18636},\n",
       "   {'name': '2004', 'y': 18588},\n",
       "   {'name': '2003', 'y': 21658},\n",
       "   {'name': '2002', 'y': 21091},\n",
       "   {'name': '2001', 'y': 22215},\n",
       "   {'name': '2000', 'y': 20148},\n",
       "   {'name': '1999', 'y': 224},\n",
       "   {'name': '1998', 'y': 567},\n",
       "   {'name': '1997', 'y': 2},\n",
       "   {'name': '1996', 'y': 5}],\n",
       "  'categories': ['2021',\n",
       "   '2020',\n",
       "   '2019',\n",
       "   '2018',\n",
       "   '2017',\n",
       "   '2016',\n",
       "   '2015',\n",
       "   '2014',\n",
       "   '2013',\n",
       "   '2012',\n",
       "   '2011',\n",
       "   '2010',\n",
       "   '2009',\n",
       "   '2008',\n",
       "   '2007',\n",
       "   '2006',\n",
       "   '2005',\n",
       "   '2004',\n",
       "   '2003',\n",
       "   '2002',\n",
       "   '2001',\n",
       "   '2000',\n",
       "   '1999',\n",
       "   '1998',\n",
       "   '1997',\n",
       "   '1996']}}"
      ]
     },
     "execution_count": 43,
     "metadata": {},
     "output_type": "execute_result"
    }
   ],
   "source": [
    "data = json.loads(res.text)\n",
    "data"
   ]
  },
  {
   "cell_type": "code",
   "execution_count": null,
   "id": "f95f1856",
   "metadata": {},
   "outputs": [],
   "source": []
  }
 ],
 "metadata": {
  "kernelspec": {
   "display_name": "Python 3 (ipykernel)",
   "language": "python",
   "name": "python3"
  },
  "language_info": {
   "codemirror_mode": {
    "name": "ipython",
    "version": 3
   },
   "file_extension": ".py",
   "mimetype": "text/x-python",
   "name": "python",
   "nbconvert_exporter": "python",
   "pygments_lexer": "ipython3",
   "version": "3.9.13"
  }
 },
 "nbformat": 4,
 "nbformat_minor": 5
}
